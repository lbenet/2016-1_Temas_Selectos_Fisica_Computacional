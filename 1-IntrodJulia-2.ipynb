{
 "cells": [
  {
   "cell_type": "markdown",
   "metadata": {},
   "source": [
    "# Como graficar en julia"
   ]
  },
  {
   "cell_type": "markdown",
   "metadata": {},
   "source": [
    "Lo primero que hay que hacer es instalar la paquetería que quieren usar. `PyPlot` es una buena opción; también vale la pena checar `Gadfly`."
   ]
  },
  {
   "cell_type": "code",
   "execution_count": 1,
   "metadata": {
    "collapsed": false
   },
   "outputs": [
    {
     "name": "stdout",
     "output_type": "stream",
     "text": [
      "20 required packages:\n",
      " - Compat                        0.6.0              master\n",
      " - Convex                        0.0.6\n",
      " - Coverage                      0.2.0\n",
      " - Escher                        0.1.0\n",
      " - FactCheck                     0.3.1\n",
      " - Gadfly                        0.3.13\n",
      " - HTTPClient                    0.1.5\n",
      " - IJulia                        0.2.5\n",
      " - Images                        0.4.43\n",
      " - Interact                      0.1.6+             master\n",
      " - Jewel                         1.0.5\n",
      " - JuMP                          0.9.3\n",
      " - Lint                          0.1.68\n",
      " - PyPlot                        1.5.3\n",
      " - QuDirac                       0.1.3\n",
      " - RandomMatrices                0.1.0\n",
      " - SCS                           0.0.8\n",
      " - TaylorSeries                  0.1.0+             master\n",
      " - TypeCheck                     0.0.3\n",
      " - ValidatedNumerics             0.1.1+             master\n",
      "73 additional packages:\n",
      " - ArgParse                      0.2.11\n",
      " - ArrayViews                    0.6.3\n",
      " - Benchmark                     0.1.0\n",
      " - BinDeps                       0.3.15\n",
      " - Calculus                      0.1.10\n",
      " - Codecs                        0.1.4\n",
      " - Color                         0.4.7\n",
      " - Combinatorics                 0.1.2\n",
      " - Compose                       0.3.13\n",
      " - Contour                       0.0.7\n",
      " - DataArrays                    0.2.17\n",
      " - DataFrames                    0.6.9\n",
      " - DataStructures                0.3.12\n",
      " - Dates                         0.3.2\n",
      " - Distances                     0.2.0\n",
      " - Distributions                 0.8.3\n",
      " - Docile                        0.5.16\n",
      " - DualNumbers                   0.1.3\n",
      " - FixedPointNumbers             0.0.10\n",
      " - FunctionalCollections         0.1.2\n",
      " - GZip                          0.2.17\n",
      " - GnuTLS                        0.0.4\n",
      " - Graphics                      0.1.0\n",
      " - Grid                          0.3.10\n",
      " - Hexagons                      0.0.3\n",
      " - Hiccup                        0.0.1\n",
      " - Homebrew                      0.1.16\n",
      " - HttpCommon                    0.0.12\n",
      " - HttpParser                    0.0.11\n",
      " - HttpServer                    0.0.12\n",
      " - ImmutableArrays               0.0.10\n",
      " - Iterators                     0.1.8\n",
      " - JSON                          0.4.5\n",
      " - JuliaParser                   0.6.2\n",
      " - KernelDensity                 0.1.1\n",
      " - LNR                           0.0.1\n",
      " - LaTeXStrings                  0.1.4\n",
      " - Lazy                          0.10.0\n",
      " - LibCURL                       0.1.4\n",
      " - Loess                         0.0.3\n",
      " - MacroTools                    0.2.0\n",
      " - Markdown                      0.3.0\n",
      " - MathProgBase                  0.3.16\n",
      " - Mux                           0.0.0\n",
      " - NaNMath                       0.1.0\n",
      " - Nettle                        0.1.10\n",
      " - ODE                           0.1.2\n",
      " - Optim                         0.4.2\n",
      " - Options                       0.2.4\n",
      " - PDMats                        0.3.5\n",
      " - Patchwork                     0.1.6\n",
      " - Polynomial                    0.1.1\n",
      " - Polynomials                   0.0.3\n",
      " - PyCall                        0.8.2\n",
      " - REPLCompletions               0.0.3\n",
      " - Reactive                      0.2.2+             master\n",
      " - Reexport                      0.0.2\n",
      " - Requests                      0.0.8\n",
      " - Requires                      0.1.3\n",
      " - ReverseDiffSparse             0.2.10\n",
      " - SHA                           0.1.1\n",
      " - SIUnits                       0.0.5\n",
      " - Showoff                       0.0.4\n",
      " - SortingAlgorithms             0.0.5\n",
      " - StatsBase                     0.7.1\n",
      " - StatsFuns                     0.1.2\n",
      " - TexExtensions                 0.0.2\n",
      " - TextWrap                      0.1.3\n",
      " - URIParser                     0.0.5\n",
      " - WebSockets                    0.0.6\n",
      " - WoodburyMatrices              0.1.1\n",
      " - ZMQ                           0.2.0\n",
      " - Zlib                          0.1.8\n"
     ]
    }
   ],
   "source": [
    "Pkg.status()"
   ]
  },
  {
   "cell_type": "markdown",
   "metadata": {},
   "source": [
    "Antes de instalar, *siempre* vale la pena actualizar:"
   ]
  },
  {
   "cell_type": "code",
   "execution_count": 3,
   "metadata": {
    "collapsed": false
   },
   "outputs": [
    {
     "name": "stderr",
     "output_type": "stream",
     "text": [
      "INFO: Updating METADATA...\n",
      "INFO: Updating cache of Graphics...\n",
      "INFO: Updating cache of Gadfly...\n",
      "INFO: Updating cache of Images...\n",
      "INFO: Updating cache of Patchwork...\n",
      "INFO: Updating cache of Coverage...\n",
      "INFO: Updating cache of FactCheck...\n",
      "INFO: Updating cache of Compose...\n",
      "INFO: Updating cache of Color...\n",
      "INFO: Updating TaylorSeries...\n",
      "INFO: Updating ValidatedNumerics...\n",
      "INFO: Updating Interact...\n",
      "INFO: Updating Reactive...\n",
      "INFO: Updating Compat...\n",
      "INFO: Computing changes...\n",
      "INFO: Cloning cache of ColorTypes from git://github.com/JuliaGraphics/ColorTypes.jl.git\n",
      "INFO: Cloning cache of ColorVectorSpace from git://github.com/JuliaGraphics/ColorVectorSpace.jl.git\n",
      "INFO: Cloning cache of Colors from git://github.com/JuliaGraphics/Colors.jl.git\n",
      "INFO: Upgrading Color: v0.4.7 => v0.4.8\n",
      "INFO: Installing ColorTypes v0.1.3\n",
      "INFO: Installing ColorVectorSpace v0.0.2\n",
      "INFO: Installing Colors v0.5.2\n",
      "INFO: Upgrading Compose: v0.3.13 => v0.3.14\n",
      "INFO: Upgrading FactCheck: v0.3.1 => v0.4.0\n",
      "INFO: Upgrading Gadfly: v0.3.13 => v0.3.14\n",
      "INFO: Upgrading Images: v0.4.43 => v0.4.45\n",
      "INFO: Upgrading Patchwork: v0.1.6 => v0.1.7\n",
      "INFO: Building Homebrew\n",
      "From https://github.com/Homebrew/homebrew\n",
      "   4e8d121..4cad151  master     -> origin/master\n"
     ]
    },
    {
     "name": "stdout",
     "output_type": "stream",
     "text": [
      "HEAD is now at 4cad151 osquery: update 1.5.2 bottle.\n"
     ]
    },
    {
     "name": "stderr",
     "output_type": "stream",
     "text": [
      "From https://github.com/staticfloat/homebrew-juliadeps\n",
      "   e641aa5..432b6ff  master     -> origin/master\n"
     ]
    },
    {
     "name": "stdout",
     "output_type": "stream",
     "text": [
      "HEAD is now at 432b6ff Merge pull request #59 from staticfloat/staging\n"
     ]
    },
    {
     "name": "stderr",
     "output_type": "stream",
     "text": [
      "INFO: Building Images\n"
     ]
    }
   ],
   "source": [
    "Pkg.update() # Esto actualiza METADATA"
   ]
  },
  {
   "cell_type": "markdown",
   "metadata": {},
   "source": [
    "Lo que hay que hacer para instalar, por ejemplo `PyPlot`, es simplemente:\n",
    "\n",
    "```julia\n",
    "Pkg.add(\"PyPlot\")\n",
    "```\n",
    "\n",
    "Y, una vez instalado, usamos esa paquetería:"
   ]
  },
  {
   "cell_type": "code",
   "execution_count": 4,
   "metadata": {
    "collapsed": false
   },
   "outputs": [
    {
     "name": "stderr",
     "output_type": "stream",
     "text": [
      "WARNING: Color is deprecated, please use Colors instead. See https://github.com/JuliaGraphics/Colors.jl\n",
      "INFO: Loading help data...\n"
     ]
    }
   ],
   "source": [
    "using PyPlot"
   ]
  },
  {
   "cell_type": "code",
   "execution_count": 24,
   "metadata": {
    "collapsed": false
   },
   "outputs": [
    {
     "data": {
      "text/plain": [
       "0.25:0.25:4.0"
      ]
     },
     "execution_count": 24,
     "metadata": {},
     "output_type": "execute_result"
    }
   ],
   "source": [
    "0.25:1.0/2^2:4  # un ejemplo de una construcción de un FloatRange"
   ]
  },
  {
   "cell_type": "code",
   "execution_count": 25,
   "metadata": {
    "collapsed": false
   },
   "outputs": [
    {
     "data": {
      "text/plain": [
       "FloatRange{Float64} (constructor with 1 method)"
      ]
     },
     "execution_count": 25,
     "metadata": {},
     "output_type": "execute_result"
    }
   ],
   "source": [
    "typeof(ans)"
   ]
  },
  {
   "cell_type": "code",
   "execution_count": 27,
   "metadata": {
    "collapsed": false
   },
   "outputs": [
    {
     "data": {
      "text/plain": [
       "16-element Array{Float64,1}:\n",
       " 0.25\n",
       " 0.5 \n",
       " 0.75\n",
       " 1.0 \n",
       " 1.25\n",
       " 1.5 \n",
       " 1.75\n",
       " 2.0 \n",
       " 2.25\n",
       " 2.5 \n",
       " 2.75\n",
       " 3.0 \n",
       " 3.25\n",
       " 3.5 \n",
       " 3.75\n",
       " 4.0 "
      ]
     },
     "execution_count": 27,
     "metadata": {},
     "output_type": "execute_result"
    }
   ],
   "source": [
    "x = collect(0.25:1.0/2^2:4) # convertimos el FloatRange a vector"
   ]
  },
  {
   "cell_type": "code",
   "execution_count": 28,
   "metadata": {
    "collapsed": false
   },
   "outputs": [
    {
     "data": {
      "text/plain": [
       "16"
      ]
     },
     "execution_count": 28,
     "metadata": {},
     "output_type": "execute_result"
    }
   ],
   "source": [
    "length(x)"
   ]
  },
  {
   "cell_type": "markdown",
   "metadata": {},
   "source": [
    "Definimos un otro vector `y`; en este caso, es una función simple de `x`"
   ]
  },
  {
   "cell_type": "code",
   "execution_count": 29,
   "metadata": {
    "collapsed": false
   },
   "outputs": [
    {
     "data": {
      "text/plain": [
       "16-element Array{Float64,1}:\n",
       "  0.0625\n",
       "  0.25  \n",
       "  0.5625\n",
       "  1.0   \n",
       "  1.5625\n",
       "  2.25  \n",
       "  3.0625\n",
       "  4.0   \n",
       "  5.0625\n",
       "  6.25  \n",
       "  7.5625\n",
       "  9.0   \n",
       " 10.5625\n",
       " 12.25  \n",
       " 14.0625\n",
       " 16.0   "
      ]
     },
     "execution_count": 29,
     "metadata": {},
     "output_type": "execute_result"
    }
   ],
   "source": [
    "y = x.^2"
   ]
  },
  {
   "cell_type": "markdown",
   "metadata": {},
   "source": [
    "Y ahora, la graficamos"
   ]
  },
  {
   "cell_type": "code",
   "execution_count": 30,
   "metadata": {
    "collapsed": false
   },
   "outputs": [
    {
     "data": {
      "image/png": "[encoded data removed]",
      "text/plain": [
       "Figure(PyObject <matplotlib.figure.Figure object at 0x117de6490>)"
      ]
     },
     "metadata": {},
     "output_type": "display_data"
    },
    {
     "data": {
      "text/plain": [
       "1-element Array{Any,1}:\n",
       " PyObject <matplotlib.lines.Line2D object at 0x1186f2950>"
      ]
     },
     "execution_count": 30,
     "metadata": {},
     "output_type": "execute_result"
    }
   ],
   "source": [
    "plot(x,y,\"ro-\")"
   ]
  },
  {
   "cell_type": "code",
   "execution_count": 32,
   "metadata": {
    "collapsed": false
   },
   "outputs": [
    {
     "data": {
      "image/png": "[encoded data removed]",
      "text/plain": [
       "Figure(PyObject <matplotlib.figure.Figure object at 0x120ae6d50>)"
      ]
     },
     "metadata": {},
     "output_type": "display_data"
    },
    {
     "data": {
      "text/plain": [
       "PyObject <matplotlib.text.Text object at 0x120c101d0>"
      ]
     },
     "execution_count": 32,
     "metadata": {},
     "output_type": "execute_result"
    }
   ],
   "source": [
    "plot(x,y,\"go-\")\n",
    "xlabel(L\"x\")\n",
    "ylabel(L\"y = x^2\", fontsize=16)"
   ]
  },
  {
   "cell_type": "code",
   "execution_count": 33,
   "metadata": {
    "collapsed": false
   },
   "outputs": [
    {
     "data": {
      "image/png": "[encoded data removed]",
      "text/plain": [
       "Figure(PyObject <matplotlib.figure.Figure object at 0x120e10050>)"
      ]
     },
     "metadata": {},
     "output_type": "display_data"
    },
    {
     "data": {
      "text/plain": [
       "PyObject <matplotlib.text.Text object at 0x120e31990>"
      ]
     },
     "execution_count": 33,
     "metadata": {},
     "output_type": "execute_result"
    }
   ],
   "source": [
    "loglog(x,y,\"go-\")\n",
    "xlabel(L\"x\")\n",
    "ylabel(L\"y = x^2\", fontsize=16)"
   ]
  },
  {
   "cell_type": "markdown",
   "metadata": {},
   "source": [
    "Lo mejor que se puede hacer para explotar este graficador es ir a la página de [Matplotlib](http://matplotlib.org), *y leer* la documentación."
   ]
  },
  {
   "cell_type": "markdown",
   "metadata": {},
   "source": [
    "La documentación sobre [Gadfly](https://github.com/dcjones/Gadfly.jl) está [aquí](http://gadflyjl.org)."
   ]
  },
  {
   "cell_type": "markdown",
   "metadata": {},
   "source": [
    "Como no lo escribí en ningún lado, déjenmelo escribir aquí: Una pieza básica del curso se puede resumir en:\n",
    "\n",
    "> Learning by doing\n",
    "\n",
    "Piénsenlo y, sobre todo, ¡practíquenlo!"
   ]
  }
 ],
 "metadata": {
  "kernelspec": {
   "display_name": "Julia 0.3.11-debug",
   "language": "julia",
   "name": "julia-0.3-debug"
  },
  "language_info": {
   "name": "julia",
   "version": "0.3.11"
  }
 },
 "nbformat": 4,
 "nbformat_minor": 0
}
