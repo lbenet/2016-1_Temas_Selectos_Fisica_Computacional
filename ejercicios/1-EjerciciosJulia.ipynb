{
 "cells": [
  {
   "cell_type": "markdown",
   "metadata": {},
   "source": [
    "### Ejercicio 1\n",
    "\n",
    "En clase vimos que la función `bits` permite ver la representación binaria de números de punto flotante (`Float64`) o de enteros (e.g., `Int64`). En particular, para números de punto flotante, el primer bit es el signo, los siguiente 11 son el *exponente* y el resto es la representación binaria (sin el 1 del principio), del número en cuestión.\n",
    "\n",
    "La pregunta es ¿qué significa el exponente?\n",
    "\n",
    "```julia\n",
    "bits(1.0)\n",
    "\"0011111111110000000000000000000000000000000000000000000000000000\"\n",
    "```"
   ]
  },
  {
   "cell_type": "code",
   "execution_count": 7,
   "metadata": {
    "collapsed": false
   },
   "outputs": [
    {
     "data": {
      "text/plain": [
       "\"0011111111110000000000000000000000000000000000000000000000000000\""
      ]
     },
     "execution_count": 7,
     "metadata": {},
     "output_type": "execute_result"
    }
   ],
   "source": [
    "bits(1.0)"
   ]
  },
  {
   "cell_type": "markdown",
   "metadata": {},
   "source": [
    "### Ejercicio 2\n",
    "\n",
    "- ¿Cuál es el número más chico que sumado (o restado) a 1.0 me da algo distinto de 1.0?\n",
    "(Este número se bautiza como el \"épsilon de la máquina\")\n",
    "\n",
    "- ¿Cuál es el número más chico que sumado (o restado) a 10.0 me da algo distinto de 10.0?\n"
   ]
  },
  {
   "cell_type": "code",
   "execution_count": 10,
   "metadata": {
    "collapsed": false
   },
   "outputs": [],
   "source": [
    "epsilon = 1.0;\n",
    "\n",
    "while (1.0 + 0.5 * epsilon) ≠ 1.0\n",
    "    epsilon = 0.5 * epsilon\n",
    "end"
   ]
  },
  {
   "cell_type": "code",
   "execution_count": 11,
   "metadata": {
    "collapsed": false
   },
   "outputs": [
    {
     "data": {
      "text/plain": [
       "2.220446049250313e-16"
      ]
     },
     "execution_count": 11,
     "metadata": {},
     "output_type": "execute_result"
    }
   ],
   "source": [
    "epsilon"
   ]
  },
  {
   "cell_type": "code",
   "execution_count": 17,
   "metadata": {
    "collapsed": false
   },
   "outputs": [],
   "source": [
    "epsilon = 1.0;\n",
    "\n",
    "while (10.0 + 0.5 * epsilon) ≠ 10.0\n",
    "    epsilon = 0.5 * epsilon\n",
    "end"
   ]
  },
  {
   "cell_type": "code",
   "execution_count": 18,
   "metadata": {
    "collapsed": false
   },
   "outputs": [
    {
     "data": {
      "text/plain": [
       "1.7763568394002505e-15"
      ]
     },
     "execution_count": 18,
     "metadata": {},
     "output_type": "execute_result"
    }
   ],
   "source": [
    "epsilon"
   ]
  },
  {
   "cell_type": "markdown",
   "metadata": {},
   "source": [
    "Fuente de inspiración: Wikipedia (https://en.wikipedia.org/wiki/Machine_epsilon)"
   ]
  },
  {
   "cell_type": "markdown",
   "metadata": {},
   "source": [
    "### Ejercicio 3\n",
    "\n",
    "Define una función llamada `derivada1` que implemente el cálculo de:\n",
    "\n",
    "$$\n",
    "\\frac{\\Delta f(x)}{\\Delta x}(x_0) = \\frac{f(x_0+h)-f(x_0)}{h}\n",
    "$$\n",
    "\n",
    "Obviamente esta función es una aproximación *finita* de la derivada. La pregunta es ¿qué tan buena es esta aproximación, pensando en términos de $h$?\n",
    "\n",
    "- La primer sub-pregunta es ¿cómo se responde este tipo de pregunta?\n",
    "- Uno tiene que tomar un caso concreto (para $f(x_0,h)$); sugiero empezar con un polinomio con coeficientes enteros, y después hacer el mismo tipo de pruebas con una función trascendental.\n",
    "- ¿Hay algo *sorprendente* en el comportamiento de `derivada1` como función de $h$? ¿A qué lo puedes atribuir?\n",
    "- ¿Puedes hacer que la función `derivada1` funcione para funciones más o menos arbitrarias, que el usuario define?\n",
    "- ¿Puedes explicar de alguna manera los resultados que has obtenido?"
   ]
  },
  {
   "cell_type": "code",
   "execution_count": 173,
   "metadata": {
    "collapsed": false
   },
   "outputs": [
    {
     "name": "stdout",
     "output_type": "stream",
     "text": [
      "La derivada de f en x=1 es 4\n",
      "La aproximación en x=1 es 4.199999999999999\n",
      "El error es 0.1999999999999993\n"
     ]
    }
   ],
   "source": [
    "f(x) = x^2 + 2*x\n",
    "fprima(x) = 2*x + 2\n",
    "\n",
    "function derivada1(x_0,h=0.2)\n",
    "    (f(x_0+h)-f(x_0))/h\n",
    "end\n",
    "\n",
    "println(\"La derivada de f en x=1 es \",fprima(1))\n",
    "println(\"La aproximación en x=1 es \",derivada1(1))\n",
    "println(\"El error es \",abs(fprima(1)-derivada1(1)))"
   ]
  },
  {
   "cell_type": "code",
   "execution_count": 174,
   "metadata": {
    "collapsed": false
   },
   "outputs": [
    {
     "name": "stdout",
     "output_type": "stream",
     "text": [
      "La derivada de f en x=1 es 0.5403023058681398\n",
      "La aproximación en x=1 es 0.4528405057966489\n",
      "El error es 0.08746180007149085\n"
     ]
    }
   ],
   "source": [
    "f(x) = sin(x)\n",
    "fprima(x) = cos(x)\n",
    "\n",
    "function derivada1(x_0,h=0.2)\n",
    "    (f(x_0+h)-f(x_0))/h\n",
    "end\n",
    "\n",
    "println(\"La derivada de f en x=1 es \",fprima(1))\n",
    "println(\"La aproximación en x=1 es \",derivada1(1))\n",
    "println(\"El error es \",abs(fprima(1)-derivada1(1)))"
   ]
  },
  {
   "cell_type": "code",
   "execution_count": 175,
   "metadata": {
    "collapsed": false
   },
   "outputs": [
    {
     "name": "stdout",
     "output_type": "stream",
     "text": [
      "La derivada de f en x=1 es 1.0\n",
      "La aproximación en x=1 es 0.9116077839697729\n",
      "El error es 0.08839221603022707\n"
     ]
    }
   ],
   "source": [
    "f(x) = log(x)\n",
    "fprima(x) = 1/x\n",
    "\n",
    "function derivada1(x_0,h=0.2)\n",
    "    (f(x_0+h)-f(x_0))/h\n",
    "end\n",
    "\n",
    "println(\"La derivada de f en x=1 es \",fprima(1))\n",
    "println(\"La aproximación en x=1 es \",derivada1(1))\n",
    "println(\"El error es \",abs(fprima(1)-derivada1(1)))"
   ]
  },
  {
   "cell_type": "markdown",
   "metadata": {},
   "source": [
    "Ahora, podemos ver qué pasa con el error al variar h"
   ]
  },
  {
   "cell_type": "code",
   "execution_count": 4,
   "metadata": {
    "collapsed": false
   },
   "outputs": [],
   "source": [
    "f(x) = x^2 + 2*x\n",
    "fprima(x) = 2*x + 2\n",
    "\n",
    "function derivada1(x_0,h=0.2)\n",
    "    (f(x_0+h)-f(x_0))/h\n",
    "end\n",
    "\n",
    "H = zeros(10)\n",
    "ERR = zeros(10) \n",
    "\n",
    "for i in 10:10:100\n",
    "    h = 2/i\n",
    "    derivada = derivada1(1,h)\n",
    "    err = abs(fprima(1)-derivada1(1,h))\n",
    "    H[i/10] = h\n",
    "    ERR[i/10] = err\n",
    "end  "
   ]
  },
  {
   "cell_type": "code",
   "execution_count": 5,
   "metadata": {
    "collapsed": false
   },
   "outputs": [
    {
     "name": "stderr",
     "output_type": "stream",
     "text": [
      "INFO: Loading help data...\n"
     ]
    }
   ],
   "source": [
    "using PyPlot"
   ]
  },
  {
   "cell_type": "code",
   "execution_count": 11,
   "metadata": {
    "collapsed": false
   },
   "outputs": [
    {
     "data": {
      "image/png": "[encoded data removed]",
      "text/plain": [
       "Figure(PyObject <matplotlib.figure.Figure object at 0x106f30250>)"
      ]
     },
     "metadata": {},
     "output_type": "display_data"
    }
   ],
   "source": [
    "figure(figsize=(5,3))\n",
    "plot(H,ERR)\n",
    "title(L\"x^2 + 2x\")\n",
    "ylim(0,0.2)\n",
    "xlabel(L\"h\", fontsize = 9)\n",
    "ylabel(L\"error\", fontsize = 9)\n",
    "xticks(fontsize = 8)\n",
    "yticks(fontsize = 8);"
   ]
  },
  {
   "cell_type": "code",
   "execution_count": 7,
   "metadata": {
    "collapsed": true
   },
   "outputs": [],
   "source": [
    "f(x) = sin(x)\n",
    "fprima(x) = cos(x)\n",
    "\n",
    "function derivada1(x_0,h=0.2)\n",
    "    (f(x_0+h)-f(x_0))/h\n",
    "end\n",
    "\n",
    "H = zeros(10)\n",
    "ERR = zeros(10) \n",
    "\n",
    "for i in 10:10:100\n",
    "    h = 2/i\n",
    "    derivada = derivada1(1,h)\n",
    "    err = abs(fprima(1)-derivada1(1,h))\n",
    "    H[i/10] = h\n",
    "    ERR[i/10] = err\n",
    "end  "
   ]
  },
  {
   "cell_type": "code",
   "execution_count": 12,
   "metadata": {
    "collapsed": false
   },
   "outputs": [
    {
     "data": {
      "image/png": "[encoded data removed]",
      "text/plain": [
       "Figure(PyObject <matplotlib.figure.Figure object at 0x113375390>)"
      ]
     },
     "metadata": {},
     "output_type": "display_data"
    }
   ],
   "source": [
    "figure(figsize=(5,3))\n",
    "plot(H,ERR)\n",
    "title(L\"sin x\")\n",
    "ylim(0,0.2)\n",
    "xlabel(L\"h\", fontsize = 9)\n",
    "ylabel(L\"error\", fontsize = 9)\n",
    "xticks(fontsize = 8)\n",
    "yticks(fontsize = 8);"
   ]
  },
  {
   "cell_type": "markdown",
   "metadata": {},
   "source": [
    "### Ejercicio 4\n",
    "\n",
    "Este ejercicio es equivalente al anterior, pero considerando la función `derivada2` que implemente el cálculo de:\n",
    "\n",
    "$$\n",
    "\\frac{\\Delta f(x)}{\\Delta x}(x_0) = \\frac{f(x_0+h)-f(x_0-h)}{2h}\n",
    "$$\n",
    "\n",
    "¿Puedes explicar por qué la convergencia es mejor en este caso?\n"
   ]
  },
  {
   "cell_type": "code",
   "execution_count": 2,
   "metadata": {
    "collapsed": false
   },
   "outputs": [
    {
     "name": "stdout",
     "output_type": "stream",
     "text": [
      "La derivada de f en x=1 es 4\n",
      "La aproximación en x=1 es 0.15999999999999998\n",
      "El error es 3.84\n"
     ]
    }
   ],
   "source": [
    "f(x) = x^2 + 2*x\n",
    "fprima(x) = 2*x + 2\n",
    "\n",
    "function derivada2(x_0,h=0.2)\n",
    "    (f(x_0+h)-f(x_0-h))/2*h\n",
    "end\n",
    "\n",
    "println(\"La derivada de f en x=1 es \",fprima(1))\n",
    "println(\"La aproximación en x=1 es \",derivada2(1))\n",
    "println(\"El error es \",abs(fprima(1)-derivada2(1)))"
   ]
  },
  {
   "cell_type": "code",
   "execution_count": 3,
   "metadata": {
    "collapsed": false
   },
   "outputs": [
    {
     "name": "stdout",
     "output_type": "stream",
     "text": [
      "La derivada de f en x=1 es 0.5403023058681398\n",
      "La aproximación en x=1 es 0.02146829950677035\n",
      "El error es 0.5188340063613694\n"
     ]
    }
   ],
   "source": [
    "f(x) = sin(x)\n",
    "fprima(x) = cos(x)\n",
    "\n",
    "function derivada2(x_0,h=0.2)\n",
    "    (f(x_0+h)-f(x_0-h))/2*h\n",
    "end\n",
    "\n",
    "println(\"La derivada de f en x=1 es \",fprima(1))\n",
    "println(\"La aproximación en x=1 es \",derivada2(1))\n",
    "println(\"El error es \",abs(fprima(1)-derivada2(1)))"
   ]
  },
  {
   "cell_type": "markdown",
   "metadata": {},
   "source": [
    "### Ejercicio 5\n",
    "\n",
    "Manda el notebook con tus resultados haciendo un pull-request al repositorio del curso. Para hacer esto:\n",
    "- Haz un `fork` del repositorio del curso a tu propia cuenta en GitHub\n",
    "- Una vez que tengas resuelto el notebook, súbelo a **tu** repositorio (con `git push`), en la carpeta \"tareas/usuario_github/nombre_notebook\"\n",
    "- Desde tu repositorio, haz un \"Pull Request\". El *pull request* sólo se aceptará si es legible en el sentido más amplio de la palabra y, obviamente, si es correcto. Esto significa que debe ser *entendible*, a partir de lo que ustedes escriben, incluso para gente que no está en el curso. (Como GitHub es público, piensen fríamente que esto puede ser leido por *muuucha* gente allá afuera.) Si el trabajo es en colaboración, háganlo saber en el propio notebook (cosa que se debe notar en el historial de lo que envíen). Finalmente, como código ético, incluyan cualquier fuente de inspiración, incluso cuando se trate del notebook de otro compañero/equipo del curso."
   ]
  },
  {
   "cell_type": "code",
   "execution_count": null,
   "metadata": {
    "collapsed": true
   },
   "outputs": [],
   "source": []
  }
 ],
 "metadata": {
  "kernelspec": {
   "display_name": "Julia 0.3.5",
   "language": "julia",
   "name": "julia 0.3"
  },
  "language_info": {
   "name": "julia",
   "version": "0.3.5"
  }
 },
 "nbformat": 4,
 "nbformat_minor": 0
}
