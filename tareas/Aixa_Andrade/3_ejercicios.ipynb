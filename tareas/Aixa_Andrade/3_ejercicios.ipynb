{
 "cells": [
  {
   "cell_type": "code",
   "execution_count": 1,
   "metadata": {
    "collapsed": true
   },
   "outputs": [],
   "source": [
    "using PyPlot"
   ]
  },
  {
   "cell_type": "markdown",
   "metadata": {},
   "source": [
    "### Ejercicio 1: Relaciones de recurrencia\n",
    "\n",
    "Así como se hizo en clase para la exponencial, el logaritmo, y las potencias; obtén las series de recurrencia para las siguientes funciones:\n",
    "\n",
    "* Seno.\n",
    "* Coseno.\n",
    "* Tangente.\n",
    "* Cotangente.\n",
    "\n",
    "¿Hay algún problema al intentar calcular la cotangente? Si la respuesta es sí ¿cuál?, si la respuesta es no ¿por qué?"
   ]
  },
  {
   "cell_type": "markdown",
   "metadata": {},
   "source": [
    "Usamos la ecuación diferencial $\\dot{x}=f(x)$ donde $f(x)=sin(g(x)),cos(g(x)),tan(g(x)), cot(g(x))$ y desarrollamos como serie de Taylor:\n",
    "\n",
    "$$sin(g(x))=\\sum_{k=0}^{\\infty}sen(g)_k(x-x_0)^k \\ \\ \\ \\ (1)$$\n",
    "\n",
    "$$cos(g(x))=\\sum_{k=0}^{\\infty}cos(g)_k(x-x_0)^k \\ \\ \\ \\ (2) $$\n",
    "\n",
    "$$tan(g(x))=\\sum_{k=0}^{\\infty}tan(g)_k(x-x_0)^k \\ \\ \\ \\ (3)$$\n",
    "\n",
    "$$cot(g(x))=\\sum_{k=0}^{\\infty}cot(g)_k(x-x_0)^k \\ \\ \\ \\ (4)$$\n",
    "\n",
    "$$g(x)=\\sum_{k=0}^{\\infty} g(x)(x-x_0)^k  \\ \\ \\ \\ (5)$$\n",
    "\n",
    "donde $sen(g)_k,cos(g)_k,tan(g)_k,cot(g)_k$ son las derivadas de orden $k$.\n",
    "\n",
    "Primero encontraremos la relaciones de recurrencia para el $sin(g(x))$ y $cos(g(x))$.\n",
    "\n",
    "Sabemos que $\\frac{dsen(g(x))}{dx}=g'(x)cos(g(x))$, $\\frac{dcos(g(x))}{dx}=-g'(x)sen(g(x))$ $$g'(x)=\\sum_{k=0}^{\\infty} kg_k(x)(x-x_0)^{k-1}  \\ \\ \\ \\ (6)$$  \n",
    "Sustituyen en la ecuación diferencial, tenemos que:\n",
    "\n",
    "$$\\sum_{k=1}^{\\infty}kcos(g)_k(x-x_0)^{k-1} \\sum_{k=0}^{\\infty} k g_k(x-x_0)^{k-1}=\\sum_{k=0}^{\\infty}sen(g)_k(x-x_0)^k$$\n",
    "\n",
    "\n",
    "$$-\\sum_{k=1}^{\\infty}ksin(g)_k(x-x_0)^{k-1} \\sum_{k=0}^{\\infty} k g_k(x-x_0)^{k-1}=\\sum_{k=0}^{\\infty}cos(g)_k(x-x_0)^k$$\n",
    "\n",
    "Usando la fórmula de recurrencia de la multiplicación:\n",
    "$$k(sen(g))_k=\\sum_{i=1}^{\\infty} ig_i(cos(g))_{k-i} $$\n",
    "$$k(cos(g))_k=-\\sum_{i=1}^{\\infty} ig_i(sen(g))_{k-i} $$\n",
    "Entonces:\n",
    "\n",
    " $$sen(g)_k = \\left \\{ \\begin{matrix}\\frac{1}{k}\\sum_{i=1}^{\\infty} ig_i(cos(g))_{k-i}  & \\mbox{si }\\mbox{ k> 0} \\\\ sen(g_0) & \\mbox{si }  \\mbox{k=0}\\end{matrix}\\right. \\ \\ \\ \\ (7)$$\n",
    "\n",
    " $$cos(g)_k = \\left \\{ \\begin{matrix}-\\frac{1}{k}\\sum_{i=1}^{\\infty} ig_i(sen(g))_{k-i}  & \\mbox{si }\\mbox{ k> 0} \\\\ cos(g_0) & \\mbox{si }  \\mbox{k=0}\\end{matrix}\\right. \\ \\ \\ \\ (8)$$\n",
    " \n",
    " \n",
    "\n",
    "\n"
   ]
  },
  {
   "cell_type": "markdown",
   "metadata": {
    "collapsed": true
   },
   "source": [
    "Para la tangente y cotangente usamos lo siguiente:\n",
    "$$\\frac{d \\ tan(g(x)}{dx}=\\frac{g'(x)}{cos^2 g(x)} $$\n",
    "$$\\frac{d \\ cot(g(x)}{dx}=\\frac{-g'(x)}{sen^2g(x)} \\ \\ \\ \\ (9) $$\n",
    "Un problema podría ser que notenemos relación de recurrencia para el producto de 3 funciones, pero lo solucionamos desarrollando en serie a $cos^2(g(x))$ y $sen^2(g(x))$:\n",
    " \n",
    " $$sen^2(g(x))=\\sum_{k=0}^{\\infty}(sen^2g)_k(x-x_0)^k$$\n",
    "  $$cos^2(g(x))=\\sum_{k=0}^{\\infty}(cos^2g)_k(x-x_0)^k \\ \\ \\ \\ (10)$$\n",
    "\n",
    "\n",
    "Sustituimos (9) y (10) en las expansiones en Taylor (3) y (4):\n",
    "\n",
    "$$\\sum_{k=1}^{\\infty} k(tang)_k(x-x_0)^{k-1}=\\frac{\\sum_{k=1}^{\\infty }kg_k (x-x_0)^{k-1}}{\\sum_{k=0}^{\\infty}(cos^2g)_k (x-x_0)^{k}}$$\n",
    "\n",
    "$$\\sum_{k=1}^{\\infty} k(cotg)_k(x-x_0)^{k-1}=\\frac{\\sum_{k=1}^{\\infty }kg_k (x-x_0)^{k-1}}{\\sum_{k=0}^{\\infty}(sen^2g)_k (x-x_0)^{k}}$$\n",
    "\n",
    "Despejando y multiplicando por $x-x_0$, tenemos que:\n",
    "\n",
    "$$\\sum_{k=1}^{\\infty} k(tang)_k (x-x_0)^k \\sum_{k=0}^{\\infty} (cos^2g)_k(x-x_0)^k=\\sum_{k=1}^{\\infty}kg_k (x-x_0)^k$$\n",
    "\n",
    "$$\\sum_{k=1}^{\\infty} k(cotg)_k (x-x_0)^k \\sum_{k=0}^{\\infty} (sen^2g)_k(x-x_0)^k=\\sum_{k=1}^{\\infty}kg_k (x-x_0)   ^k$$\n",
    "\n",
    "\n",
    "Aplicando la regla del producto:\n",
    "\n",
    "$$k g_k= \\sum_{i=1}^k i(tang)_i(cos^2 g)_{k-i}$$\n",
    "\n",
    "$$kg_k= -\\sum_{i=1}^k i(tang)_i(cos^2 g)_{k-i}$$\n",
    "\n",
    "Considerando los términos para $k=0$\n",
    "\n",
    "$$kg_k= k (tang_0)_k cos^2(g_0)+ \\sum_{k-i} (tan g)_i(cos^2 g)_{k-i}$$\n",
    "\n",
    "$$kg_k= k (cotg_0)_k sen^2(g_0)- \\sum_{k-i} (cot g)_i(sen^2 g)_{k-i}$$\n",
    "\n",
    " $$tan(g)_k = \\left \\{ \\begin{matrix} \\frac{1}{cos^2(g_0)} \\frac{1}{k}\\sum_{i=1}^{\\infty} ig_i(tan(g))_{i}(cos^2 g)_{k-i}  & \\mbox{si }\\mbox{ k>0} \\\\ tan(g_0) & \\mbox{si }  \\mbox{k=0}\\end{matrix}\\right. \\ \\ \\ \\ (11)$$\n",
    "\n",
    " $$cot(g)_k = \\left \\{ \\begin{matrix} \\frac{1}{sen^2(g_0)} \\frac{1}{k}\\sum_{i=1}^{\\infty} ig_i(cot(g))_{i}(sen^2 g)_{k-i}  & \\mbox{si }\\mbox{ k> 0} \\\\ cot(g_0) & \\mbox{si }  \\mbox{k=0}\\end{matrix}\\right. \\ \\ \\ \\ (12) $$\n",
    "\n",
    "\n",
    "\n"
   ]
  },
  {
   "cell_type": "markdown",
   "metadata": {},
   "source": [
    "### Ejercicio 2: Integración con Runge–Kutta\n",
    "\n",
    "Utilizando el método de [Runge–Kutta de cuarto orden](http://www.ctcms.nist.gov/~langer/oof2man/RegisteredClass-RK4.html) haz lo siguiente:\n",
    "\n",
    "* Integra la siguiente ecuación diferencial,\n",
    "\n",
    "$$ \\dot{x} = x^2, \\qquad x(0) = 1.$$ \n",
    "\n",
    "* Compara tu solución contra la solución analítica en una gráfica.\n",
    "* Muestra cómo se comporta el error."
   ]
  },
  {
   "cell_type": "markdown",
   "metadata": {},
   "source": [
    "Resolvamos la ecuación diferencial,despejando de ella tenemos que:\n",
    "$$\\frac{dx}{x^2}=dt$$\n",
    "entonces:\n",
    "$$-\\frac{1}{x}=t+c$$\n",
    "Por lo tanto $x=\\frac{1}{t+c}$\n",
    "Como $x(0)=-\\frac{1}{c}=1$, entonces $c=-1$, y:\n",
    "$$x(t)=\\frac{1}{1-t}$$"
   ]
  },
  {
   "cell_type": "markdown",
   "metadata": {},
   "source": [
    "Primero creamos la función $RK4(f,x_0,t_i,t_f,N)$, donde $f=\\dot{x}$, x_0 es la condición inicial, $t_i$ es el tiempo inicial, $t_f$ es el tiempo final y $N4 son el número de pasos de integración."
   ]
  },
  {
   "cell_type": "code",
   "execution_count": 2,
   "metadata": {
    "collapsed": false
   },
   "outputs": [
    {
     "data": {
      "text/plain": [
       "RK4 (generic function with 1 method)"
      ]
     },
     "execution_count": 2,
     "metadata": {},
     "output_type": "execute_result"
    }
   ],
   "source": [
    "function RK4(f,x0,ti,tf,N)\n",
    "   \n",
    "    h=big((tf-ti)/N)\n",
    "\n",
    "    xn=big(x0)\n",
    "    x=zeros(N)\n",
    "    tx=zeros(N)\n",
    "    t=big(ti)\n",
    "    for i in 1:N\n",
    "        K1=h*f(t,xn)\n",
    "        K2=h*f(t+h*.5,xn+K1*.5)\n",
    "        K3=h*f(t+h*.5,xn+K2*.5)\n",
    "        K4=h*f(t+h,xn+K3)\n",
    "        \n",
    "        xn=xn+(K1+2.0*K2+2.0*K3+K4)/6.0\n",
    "        t=t+h\n",
    "        x[i]=xn\n",
    "        tx[i]=t\n",
    "    end\n",
    "    hcat(tx,x)\n",
    "end"
   ]
  },
  {
   "cell_type": "markdown",
   "metadata": {},
   "source": [
    "Definimos la función que utilizaremos en el integrador:"
   ]
  },
  {
   "cell_type": "code",
   "execution_count": 3,
   "metadata": {
    "collapsed": false
   },
   "outputs": [
    {
     "data": {
      "text/plain": [
       "f (generic function with 1 method)"
      ]
     },
     "execution_count": 3,
     "metadata": {},
     "output_type": "execute_result"
    }
   ],
   "source": [
    "f(t,x)=x^2"
   ]
  },
  {
   "cell_type": "markdown",
   "metadata": {},
   "source": [
    "Integramos:"
   ]
  },
  {
   "cell_type": "code",
   "execution_count": 4,
   "metadata": {
    "collapsed": false
   },
   "outputs": [],
   "source": [
    "aix=RK4(f,1.,0.,1,300);"
   ]
  },
  {
   "cell_type": "markdown",
   "metadata": {},
   "source": [
    "Definimos la solución analítica:\n"
   ]
  },
  {
   "cell_type": "code",
   "execution_count": 5,
   "metadata": {
    "collapsed": false
   },
   "outputs": [
    {
     "name": "stderr",
     "output_type": "stream",
     "text": [
      "WARNING: [a] concatenation is deprecated; use collect(a) instead\n"
     ]
    }
   ],
   "source": [
    "g(x)=1/(1-x)\n",
    "hey=[1/300:1/300:1]\n",
    "hola=zeros(hey)\n",
    "for i in 1:length(hey)\n",
    "    hola[i]=g(hey[i])\n",
    "end\n",
    "\n",
    "    "
   ]
  },
  {
   "cell_type": "code",
   "execution_count": 6,
   "metadata": {
    "collapsed": false
   },
   "outputs": [
    {
     "data": {
      "image/png": "[encoded data removed]",
      "text/plain": [
       "PyPlot.Figure(PyObject <matplotlib.figure.Figure object at 0x7fb4f09b9610>)"
      ]
     },
     "metadata": {},
     "output_type": "display_data"
    }
   ],
   "source": [
    "plot(aix[:,1],aix[:,2],label=L\"$RK4$\")\n",
    "plot(hey,hola,\"r+\",label=L\"$g(x)=1/(1-x)$\")\n",
    "title(L\"\\dot{x}=x^2\")\n",
    "xlabel(L\"t\")\n",
    "ylabel(L\"x(t)\")\n",
    "legend();"
   ]
  },
  {
   "cell_type": "markdown",
   "metadata": {
    "collapsed": true
   },
   "source": [
    "Como en la gráfica se observa una buena aproximación entonces graficaremos la diferencia entre la solución analítica y la solución de Runge Kutta."
   ]
  },
  {
   "cell_type": "code",
   "execution_count": 26,
   "metadata": {
    "collapsed": false
   },
   "outputs": [
    {
     "data": {
      "image/png": "[encoded data removed]",
      "text/plain": [
       "PyPlot.Figure(PyObject <matplotlib.figure.Figure object at 0x7fb4e78f8050>)"
      ]
     },
     "metadata": {},
     "output_type": "display_data"
    },
    {
     "data": {
      "text/plain": [
       "PyObject <matplotlib.text.Text object at 0x7fb4e78fdd90>"
      ]
     },
     "execution_count": 26,
     "metadata": {},
     "output_type": "execute_result"
    }
   ],
   "source": [
    "error=hola-aix[:,2]\n",
    "semilogy(hey,error)\n",
    "title(L\"Error\")\n",
    "xlabel(L\"t\")\n",
    "ylabel(L\"error(t)\")"
   ]
  },
  {
   "cell_type": "markdown",
   "metadata": {},
   "source": [
    "Podemos ver que el error aumenta cuando t-->1."
   ]
  },
  {
   "cell_type": "markdown",
   "metadata": {},
   "source": [
    "###  Ejercicio 3: Integración con Taylor \n",
    "\n",
    "Repite los tres puntos del ejercicio anterior utilizando el método de integración de Taylor."
   ]
  },
  {
   "cell_type": "markdown",
   "metadata": {},
   "source": [
    "Como los índices en los arreglos en Julia empizan en 1, utilizaremos series de recurrencia que empiecen en 1.\n",
    "Sabemos que $\\dot{x}=f(t)$\n",
    "Desarrollamos a x y  a f en serie de Taylor y recorremos los índices:\n",
    "$$x=\\sum_{k=1}^{\\infty} x_k (t-t_0)^{k-1}$$\n",
    "$$f=\\sum_{k=1}^{\\infty} f_k (t-t_0)^{k-1}$$\n",
    "Derivamos a x:\n",
    "$$\\dot{x}=\\sum_{k=2}^{\\infty}(k-1) x_k (t-t_0)^{k-2}=\\sum_{k=1}^{\\infty} f_k (t-t_0)^{k-1}=\\sum_{k=2}^{\\infty} f_k (t-t_0)^{k-2}$$\n",
    "Entonces: $$x_k=\\frac{f_{k-1}}{k-1}$$\n",
    "\n",
    "Análogamente a la relación para $(g^a)_k$ obtenida en clase etenemos que:\n",
    "\n",
    " $$(g^a)_k= \\left \\{ \\begin{matrix}\\frac{1}{g_1}\\sum_{i=2}^{k} \\frac{a(i-1)-(k-i)}{k-1}g_i (g^a)_{k+1-i} & \\mbox{si }\\mbox{ k>1} \\\\ g_1^a & \\mbox{si }  \\mbox{i=1}\\end{matrix}\\right. \\ \\ \\ \\ (8)$$\n",
    " \n",
    " En vez de calcular las series de Taylor, calcularemos los coeficientes, construiremos una especie de n-ual donde \n",
    "cada entrada serán los coeficientes.\n",
    "Para esto primero construimos el tipo $Taylor$"
   ]
  },
  {
   "cell_type": "code",
   "execution_count": 8,
   "metadata": {
    "collapsed": false
   },
   "outputs": [],
   "source": [
    "type Taylor{T<:Number}\n",
    "    c::Array{T,1}\n",
    "end "
   ]
  },
  {
   "cell_type": "markdown",
   "metadata": {},
   "source": [
    "Ahora queremos construir una constante en un Taylor porque lo único qe necesitaremos es dar la condición inicial para integrar nuestra función."
   ]
  },
  {
   "cell_type": "code",
   "execution_count": 9,
   "metadata": {
    "collapsed": false
   },
   "outputs": [
    {
     "data": {
      "text/plain": [
       "Taylor{T<:Number}"
      ]
     },
     "execution_count": 9,
     "metadata": {},
     "output_type": "execute_result"
    }
   ],
   "source": [
    "function Taylor(x::Taylor) \n",
    "        return x\n",
    "    end \n",
    "    function Taylor{T<:Number}(x::T) \n",
    "        return Taylor([x])\n",
    "    end"
   ]
  },
  {
   "cell_type": "code",
   "execution_count": 10,
   "metadata": {
    "collapsed": false
   },
   "outputs": [
    {
     "data": {
      "text/plain": [
       "Taylor{Int64}([5])"
      ]
     },
     "execution_count": 10,
     "metadata": {},
     "output_type": "execute_result"
    }
   ],
   "source": [
    "Taylor(5)"
   ]
  },
  {
   "cell_type": "markdown",
   "metadata": {},
   "source": [
    "Necesitamos que el Taylor aprenda a elevar a una potencia. Cuando elevamos a una potencia un polinomio, se incrementan los coeficientes de éste.\n",
    "Entonces creamos la siguientes función para alargar o cortar al Taylor, para esto creamos una función que toma como argumento un Taylor y un número N que será el tamaño del Taylor ."
   ]
  },
  {
   "cell_type": "code",
   "execution_count": 11,
   "metadata": {
    "collapsed": false
   },
   "outputs": [
    {
     "data": {
      "text/plain": [
       "Taylor{T<:Number}"
      ]
     },
     "execution_count": 11,
     "metadata": {},
     "output_type": "execute_result"
    }
   ],
   "source": [
    "function Taylor{T<:Number}(x::Array{T,1},N::Integer) #Primero creamos la función que alarga o recorta un arreglo\n",
    "    if N<length(x)\n",
    "        u=zeros(N)\n",
    "        [u[i]=x[i] for i in 1:N]\n",
    "        elseif N>=length(x)\n",
    "        u=zeros(N)\n",
    "        [u[i]=x[i] for i in 1:length(x)]\n",
    "    end \n",
    "        return Taylor(u)\n",
    "    end "
   ]
  },
  {
   "cell_type": "code",
   "execution_count": 12,
   "metadata": {
    "collapsed": false
   },
   "outputs": [
    {
     "data": {
      "text/plain": [
       "Taylor{Float64}([2.0,3.0,0.0])"
      ]
     },
     "execution_count": 12,
     "metadata": {},
     "output_type": "execute_result"
    }
   ],
   "source": [
    "aixi=Taylor([2,3],3)"
   ]
  },
  {
   "cell_type": "code",
   "execution_count": 13,
   "metadata": {
    "collapsed": false
   },
   "outputs": [
    {
     "data": {
      "text/plain": [
       "Taylor{T<:Number}"
      ]
     },
     "execution_count": 13,
     "metadata": {},
     "output_type": "execute_result"
    }
   ],
   "source": [
    "function Taylor(x::Taylor,N::Integer) #Ahora creamos la función que alarga o recorta un Taylor\n",
    "        if N<length(x.c)\n",
    "        u=zeros(N)\n",
    "        [u[i]=x.c[i] for i in 1:N]\n",
    "        elseif N>=length(x.c)\n",
    "        u=zeros(N)\n",
    "        [u[i]=x.c[i] for i in 1:length(x.c)]\n",
    "        end\n",
    "    return Taylor(u)\n",
    "    end"
   ]
  },
  {
   "cell_type": "code",
   "execution_count": 14,
   "metadata": {
    "collapsed": false
   },
   "outputs": [
    {
     "data": {
      "text/plain": [
       "Taylor{Float64}([2.0,3.0,0.0,0.0,0.0])"
      ]
     },
     "execution_count": 14,
     "metadata": {},
     "output_type": "execute_result"
    }
   ],
   "source": [
    "Taylor(aixi,5)"
   ]
  },
  {
   "cell_type": "markdown",
   "metadata": {},
   "source": [
    "Ahora agregaremos operaciones entre Taylors"
   ]
  },
  {
   "cell_type": "code",
   "execution_count": 15,
   "metadata": {
    "collapsed": false
   },
   "outputs": [
    {
     "data": {
      "text/plain": [
       "- (generic function with 211 methods)"
      ]
     },
     "execution_count": 15,
     "metadata": {},
     "output_type": "execute_result"
    }
   ],
   "source": [
    "import Base: +\n",
    "+(x::Taylor,y::Taylor)=Taylor(x.c+y.c) #suma de Taylors, es sumar los coficientes de sus arreglos entrada a entrada\n",
    "import Base: -\n",
    "-(x::Taylor,y::Taylor)=Taylor(x.c+y.c)\n"
   ]
  },
  {
   "cell_type": "markdown",
   "metadata": {},
   "source": [
    "Definiremos la potencia utilizando las funciones que recortan o alargan Taylor, y la relación de recurrencia para elevar a un polinomio a una potencia. El orden de un polinomio de grado $m$ elevado a una potencia $n$ está dado por: $n(m-1)$ como los arreglos en julia empiezan en 1, le sumamos un 1.\n"
   ]
  },
  {
   "cell_type": "code",
   "execution_count": 16,
   "metadata": {
    "collapsed": false
   },
   "outputs": [
    {
     "data": {
      "text/plain": [
       "^ (generic function with 46 methods)"
      ]
     },
     "execution_count": 16,
     "metadata": {},
     "output_type": "execute_result"
    }
   ],
   "source": [
    "\n",
    "import Base: ^\n",
    "function ^(x::Taylor,n::Integer)\n",
    "    m=length(x.c)\n",
    "    orden=n*(m-1)+1 \n",
    "    x=Taylor(x,orden) #creamos un Taylor con un número de entradas igual a orden\n",
    "    x2=Taylor(zeros(orden)) \n",
    "    x2.c[1]=x.c[1]^n\n",
    "    for k in 2:orden\n",
    "    p=0\n",
    "    for i in 2:k\n",
    "        p=p+((n*(i-1)-(k-i))/(k-1))*x.c[i]*x2.c[k+1-i]\n",
    "    end \n",
    "    x2.c[k]=p/x.c[1]\n",
    "    end\n",
    "    return x2\n",
    "end"
   ]
  },
  {
   "cell_type": "markdown",
   "metadata": {},
   "source": [
    "Ahora probemos la función: $ñ(x)=1+2x+x^2$, los coeficientes son:  $[1,2,1]$"
   ]
  },
  {
   "cell_type": "code",
   "execution_count": 17,
   "metadata": {
    "collapsed": false
   },
   "outputs": [
    {
     "data": {
      "text/plain": [
       "Taylor{Float64}([1.0,8.0,28.0,56.0,70.0,56.0,28.0,8.0,1.0])"
      ]
     },
     "execution_count": 17,
     "metadata": {},
     "output_type": "execute_result"
    }
   ],
   "source": [
    "ñ(x)=1+2x+x^2\n",
    "ñ_1=Taylor([1,2,1]) \n",
    "ñ_1^4 #Calculamos los coeficientes de h(x)^4"
   ]
  },
  {
   "cell_type": "markdown",
   "metadata": {},
   "source": [
    "$(1+2+x^2)^4=1+8x+28x^2+56x^3+70x^4+ 56x^5+28x^6+8x^7+x^8$"
   ]
  },
  {
   "cell_type": "markdown",
   "metadata": {},
   "source": [
    "Ahora comparamos los resultados de Taylor y de $ñ(x)^4$ en el punto $x=2$:"
   ]
  },
  {
   "cell_type": "code",
   "execution_count": 18,
   "metadata": {
    "collapsed": false
   },
   "outputs": [
    {
     "data": {
      "text/plain": [
       "6561"
      ]
     },
     "execution_count": 18,
     "metadata": {},
     "output_type": "execute_result"
    }
   ],
   "source": [
    "w(x)=1+8x+28x^2+56x^3+70x^4+ 56x^5+28x^6+8x^7+x^8\n",
    "w(2)"
   ]
  },
  {
   "cell_type": "code",
   "execution_count": 19,
   "metadata": {
    "collapsed": false
   },
   "outputs": [
    {
     "data": {
      "text/plain": [
       "6561"
      ]
     },
     "execution_count": 19,
     "metadata": {},
     "output_type": "execute_result"
    }
   ],
   "source": [
    "(ñ(2))^4"
   ]
  },
  {
   "cell_type": "markdown",
   "metadata": {},
   "source": [
    "Ahora creamos una función que evalúe el polinomio construido a partir de los coeficientes de Taylor en un punto:"
   ]
  },
  {
   "cell_type": "code",
   "execution_count": 20,
   "metadata": {
    "collapsed": false
   },
   "outputs": [
    {
     "data": {
      "text/plain": [
       "evaluar (generic function with 1 method)"
      ]
     },
     "execution_count": 20,
     "metadata": {},
     "output_type": "execute_result"
    }
   ],
   "source": [
    "function evaluar{T<:Number}(x::Taylor,t::T) # toma como argumento un Taylor y el punto que queremos evaluar.\n",
    "    p=0\n",
    "    for i in 1:length(x.c)\n",
    "        p=p+x.c[i]*t^(i-1)\n",
    "    end\n",
    "    return p\n",
    "end"
   ]
  },
  {
   "cell_type": "code",
   "execution_count": 21,
   "metadata": {
    "collapsed": false
   },
   "outputs": [
    {
     "data": {
      "text/plain": [
       "9"
      ]
     },
     "execution_count": 21,
     "metadata": {},
     "output_type": "execute_result"
    }
   ],
   "source": [
    "evaluar(Taylor([2,3,4]),1)"
   ]
  },
  {
   "cell_type": "code",
   "execution_count": 22,
   "metadata": {
    "collapsed": false
   },
   "outputs": [
    {
     "data": {
      "text/plain": [
       "julis (generic function with 1 method)"
      ]
     },
     "execution_count": 22,
     "metadata": {},
     "output_type": "execute_result"
    }
   ],
   "source": [
    "julis(x)=2+3*x+4x^2"
   ]
  },
  {
   "cell_type": "code",
   "execution_count": 23,
   "metadata": {
    "collapsed": false
   },
   "outputs": [
    {
     "data": {
      "text/plain": [
       "9"
      ]
     },
     "execution_count": 23,
     "metadata": {},
     "output_type": "execute_result"
    }
   ],
   "source": [
    "julis(1)"
   ]
  },
  {
   "cell_type": "markdown",
   "metadata": {},
   "source": [
    "Ahora hacemos una función $integrador(m,ϵ,h,N,x_0)$ donde  $N$ es el número de pasos, $m$ es el orden al que queremos aproximar el Taylor y $\\epsilon$ es el error.\n"
   ]
  },
  {
   "cell_type": "code",
   "execution_count": 24,
   "metadata": {
    "collapsed": false
   },
   "outputs": [
    {
     "data": {
      "text/plain": [
       "integrador (generic function with 1 method)"
      ]
     },
     "execution_count": 24,
     "metadata": {},
     "output_type": "execute_result"
    }
   ],
   "source": [
    "function integrador(m,ϵ,h,N,x_0)\n",
    "\n",
    "x0=Taylor(Taylor(x_0),m)\n",
    "t=zeros(N)\n",
    "x=zeros(N)\n",
    "    h=0\n",
    "for j in 1:N-1\n",
    "    x[j]=evaluar(x0,h)\n",
    "    x0=Taylor(x[j])\n",
    "    x0=Taylor(x0,m) \n",
    "    f1=x0^2\n",
    "    for i in 2:m\n",
    "        x0.c[i]=f1.c[i-1]/(i-1)\n",
    "        f1=x0^2\n",
    "    end \n",
    "    h1=(ϵ/x0.c[m-1])^(1/(m-1))\n",
    "    h2=(ϵ/x0.c[m])^(1/m)\n",
    "    h=min(h1,h2)\n",
    "        t[j+1]=t[j]+h #recurrencia\n",
    "end \n",
    "\n",
    "x[N]=evaluar(x0,h)\n",
    "    hcat(t,x)\n",
    "end"
   ]
  },
  {
   "cell_type": "markdown",
   "metadata": {},
   "source": [
    "Ahora comparaemos la solución analítica con la solución de Taylor en una gráfica:"
   ]
  },
  {
   "cell_type": "code",
   "execution_count": 80,
   "metadata": {
    "collapsed": false
   },
   "outputs": [
    {
     "data": {
      "image/png": "[encoded data removed]",
      "text/plain": [
       "PyPlot.Figure(PyObject <matplotlib.figure.Figure object at 0x7fb4e246c590>)"
      ]
     },
     "metadata": {},
     "output_type": "display_data"
    }
   ],
   "source": [
    "g(x)=1/(1-x)\n",
    "x_1=aye[:,1]\n",
    "y_1=zeros(x_1)\n",
    "for i in 1:length(y_1)\n",
    "    y_1[i]=g(x_1[i])\n",
    "    end\n",
    "\n",
    "\n",
    "aye=integrador(30,1e-20,0,30,1)\n",
    "plot(x_1,y_1,\"r+\",label=L\"$g(x)=1/(1-x)$\")\n",
    "plot(aye[:,1],aye[:,2])\n",
    "title(L\"Taylor\")\n",
    "xlabel(L\"t\")\n",
    "ylabel(L\"x(t)\")\n",
    "legend();"
   ]
  },
  {
   "cell_type": "markdown",
   "metadata": {},
   "source": [
    "De nuevo, las gráficas se ven superpuestas."
   ]
  },
  {
   "cell_type": "code",
   "execution_count": 64,
   "metadata": {
    "collapsed": false
   },
   "outputs": [],
   "source": [
    "error_1=aye[:,2]-y_1;"
   ]
  },
  {
   "cell_type": "code",
   "execution_count": 78,
   "metadata": {
    "collapsed": false
   },
   "outputs": [
    {
     "data": {
      "image/png": "[encoded data removed]",
      "text/plain": [
       "PyPlot.Figure(PyObject <matplotlib.figure.Figure object at 0x7fb4e2aa69d0>)"
      ]
     },
     "metadata": {},
     "output_type": "display_data"
    },
    {
     "data": {
      "text/plain": [
       "PyObject <matplotlib.text.Text object at 0x7fb4e2561750>"
      ]
     },
     "execution_count": 78,
     "metadata": {},
     "output_type": "execute_result"
    }
   ],
   "source": [
    "semilogy(x_1,error_1,\"bo\")\n",
    "title(\"Error de Taylor\")\n",
    "xlabel(L\"t\")\n",
    "ylabel(L\"error(t)\")\n"
   ]
  },
  {
   "cell_type": "markdown",
   "metadata": {},
   "source": [
    "Podemos ver que el error no pasa del orden de $10^{-9}$."
   ]
  },
  {
   "cell_type": "markdown",
   "metadata": {},
   "source": [
    "### Ejercicio 4: Recordatorio\n",
    "\n",
    "> Memoria minuitur nisi eam exerceas — La memoria disminuye si no la ejercitas (Marco Tulio Cicerón).\n",
    "\n",
    "Con tus palabras explica (sin utilizar muchas matemáticas) lo siguiente:\n",
    "\n",
    "* La esencia del método de integración de Taylor.\n",
    "* ¿Qué relación tiene con los duales?\n",
    "* ¿Cómo elegimos el paso de avance en el método de Taylor?\n",
    "* ¿Se pueden integrar sistemas de ecuaciones con este método? ¿Por qué?"
   ]
  },
  {
   "cell_type": "markdown",
   "metadata": {},
   "source": [
    "La esencia del método de integración de Taylor reside en la obtención de los coeficientes de la serie de Taylor de la derivada de una función, y apartir de una relación de recurrencia ir construyendo la función original utilizando dichos coeficientes.\n"
   ]
  },
  {
   "cell_type": "markdown",
   "metadata": {},
   "source": [
    "Para utilizar el método de integración de Taylor se necesitan desarrollar la función derivada en serie de Taylor y para ésto se tienen que calcular las derivadas de orden $n$ de la función derivada. \n",
    "Este método de integración calcula las derivadas de una función derivada de orden $n$ simultáneamente construyendo un n-ual."
   ]
  },
  {
   "cell_type": "markdown",
   "metadata": {},
   "source": [
    "Podemos elegir hasta que orden $n$ podemos calcular la serie de Taylor, el tamaño de paso estará dado por:\n",
    "\n",
    "$$h=min \\begin{Bmatrix} (\\frac{\\epsilon}{x_{n-1}} )^{\\frac{1}{n-1}}, (\\frac{\\epsilon}{x_n})^{\\frac{1}{n}} \\end{Bmatrix}$$\n"
   ]
  },
  {
   "cell_type": "markdown",
   "metadata": {},
   "source": [
    "Sí se pueden integrar sistemas de ecuaciones con este método, sólo tendremos que integrar las ecuaciones simultáneamente, para esto necesitamos construir los n-uales para cada ecuación del sistema."
   ]
  }
 ],
 "metadata": {
  "kernelspec": {
   "display_name": "Julia 0.3.11",
   "language": "julia",
   "name": "julia-0.3"
  },
  "language_info": {
   "file_extension": ".jl",
   "mimetype": "application/julia",
   "name": "julia",
   "version": "0.4.1"
  }
 },
 "nbformat": 4,
 "nbformat_minor": 0
}
