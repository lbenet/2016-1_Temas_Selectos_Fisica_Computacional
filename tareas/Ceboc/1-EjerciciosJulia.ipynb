{
 "cells": [
  {
   "cell_type": "markdown",
   "metadata": {},
   "source": [
    "## **César Bertoni Ocampo**"
   ]
  },
  {
   "cell_type": "code",
   "execution_count": 2,
   "metadata": {
    "collapsed": false
   },
   "outputs": [
    {
     "name": "stderr",
     "output_type": "stream",
     "text": [
      "INFO: Loading help data...\n"
     ]
    }
   ],
   "source": [
    "using PyPlot #Mando a llamar el paquete de graficación PyPlot\n",
    "using Calculus #Mando a llamar el paquete Calculus, para evaluar derivadas de funciones en un cierto punto mediante la\n",
    "#colocación de una prima en el nombre de la función a derivar, i.e. f'(x_0) da la derivada de f en x_0"
   ]
  },
  {
   "cell_type": "markdown",
   "metadata": {},
   "source": [
    "### Ejercicio 1\n",
    "\n",
    "En clase vimos que la función `bits` permite ver la representación binaria de números de punto flotante (`Float64`) o de enteros (e.g., `Int64`). En particular, para números de punto flotante, el primer bit es el signo, los siguientes 11 son el *exponente* y el resto es la representación binaria (sin el 1 del principio), del número en cuestión.\n",
    "\n",
    "La pregunta es ¿qué significa el exponente?\n",
    "\n",
    "```julia\n",
    "bits(1.0)\n",
    "\"0111111111110000000000000000000000000000000000000000000000000000\"\n",
    "```"
   ]
  },
  {
   "cell_type": "code",
   "execution_count": 3,
   "metadata": {
    "collapsed": false
   },
   "outputs": [
    {
     "data": {
      "text/plain": [
       "\"0011111111110000000000000000000000000000000000000000000000000000\""
      ]
     },
     "execution_count": 3,
     "metadata": {},
     "output_type": "execute_result"
    }
   ],
   "source": [
    "bits(1.0)"
   ]
  },
  {
   "cell_type": "markdown",
   "metadata": {},
   "source": [
    "En una máquina de 64 bits, el primer dígito es el signo, aqui es 0, luego es positivo, luego los siguientes once dígitos son el exponente en base 2 al que se eleva la \"fracción\", que son los 52 números que faltan. Para pasar de esta representación a al número que representa se emplea la siguiente fórmula.\n",
    "\n",
    "$$\n",
    "(-1)^{\\text{sign}}(1+\\sum_{i=1}^{52} b_{52-i}2^{-i})\\times2^{e-1023}\n",
    "$$\n",
    "\n",
    "En donde $b_k$ es el $k$-ésimo bit de la fracción, $e$ el exponente (en decimal), $sign$ el valor del primer bit (el orden es inverso, el primer bit para nosotros es el numerado con 63 en este caso). Vemos que si hacemos la substitución correspondiente, como todos los bits de la fracción son cero y que $e=1023$, entonces nos queda un $2^{1023-1023}=2^0$ que es precisamente 1."
   ]
  },
  {
   "cell_type": "code",
   "execution_count": 4,
   "metadata": {
    "collapsed": false
   },
   "outputs": [
    {
     "data": {
      "text/plain": [
       "\"0000000000000000000000000000000000000000000000000000001111111111\""
      ]
     },
     "execution_count": 4,
     "metadata": {},
     "output_type": "execute_result"
    }
   ],
   "source": [
    "bits(1023) #He aqui la muestra de que 1023 son 10 unos como en el exponente"
   ]
  },
  {
   "cell_type": "markdown",
   "metadata": {},
   "source": [
    "Las consultas rápidas que hice para entender lo que sucedía:\n",
    "\n",
    "\n",
    "https://youtu.be/PZRI1IfStY0 (Estoy suscrito)\n",
    "\n",
    "\n",
    "https://en.wikipedia.org/wiki/Double-precision_floating-point_format (Soy honesto)\n"
   ]
  },
  {
   "cell_type": "markdown",
   "metadata": {},
   "source": [
    "Lo que sigue lo pongo por que se me hizo curioso como se iban formando los números. Se imprime el último número en decimal de los flotantes impresos."
   ]
  },
  {
   "cell_type": "code",
   "execution_count": 5,
   "metadata": {
    "collapsed": false
   },
   "outputs": [
    {
     "name": "stdout",
     "output_type": "stream",
     "text": [
      "0011111111110000000000000000000000000000000000000000000000000000\n",
      "0100000000001000000000000000000000000000000000000000000000000000\n",
      "0100000000011100000000000000000000000000000000000000000000000000\n",
      "0100000000101110000000000000000000000000000000000000000000000000\n",
      "0100000000111111000000000000000000000000000000000000000000000000\n",
      "0100000001001111100000000000000000000000000000000000000000000000\n",
      "0100000001011111110000000000000000000000000000000000000000000000\n",
      "0100000001101111111000000000000000000000000000000000000000000000\n",
      "0100000001111111111100000000000000000000000000000000000000000000\n",
      "0100000010001111111110000000000000000000000000000000000000000000\n"
     ]
    },
    {
     "data": {
      "text/plain": [
       "1023.0"
      ]
     },
     "execution_count": 5,
     "metadata": {},
     "output_type": "execute_result"
    }
   ],
   "source": [
    "a=0\n",
    "for i in 0:9\n",
    "    a += 2.0^(i)\n",
    "    println(bits(a))\n",
    "end\n",
    "a"
   ]
  },
  {
   "cell_type": "code",
   "execution_count": 6,
   "metadata": {
    "collapsed": false
   },
   "outputs": [
    {
     "name": "stdout",
     "output_type": "stream",
     "text": [
      "0011111111110000000000000000000000000000000000000000000000000000\n",
      "0011111111111000000000000000000000000000000000000000000000000000\n",
      "0011111111111100000000000000000000000000000000000000000000000000\n",
      "0011111111111110000000000000000000000000000000000000000000000000\n",
      "0011111111111111000000000000000000000000000000000000000000000000\n",
      "0011111111111111100000000000000000000000000000000000000000000000\n",
      "0011111111111111110000000000000000000000000000000000000000000000\n",
      "0011111111111111111000000000000000000000000000000000000000000000\n",
      "0011111111111111111100000000000000000000000000000000000000000000\n",
      "0011111111111111111110000000000000000000000000000000000000000000\n",
      "0011111111111111111111000000000000000000000000000000000000000000\n",
      "0011111111111111111111100000000000000000000000000000000000000000\n",
      "0011111111111111111111110000000000000000000000000000000000000000\n",
      "0011111111111111111111111000000000000000000000000000000000000000\n",
      "0011111111111111111111111100000000000000000000000000000000000000\n",
      "0011111111111111111111111110000000000000000000000000000000000000\n",
      "0011111111111111111111111111000000000000000000000000000000000000\n",
      "0011111111111111111111111111100000000000000000000000000000000000\n",
      "0011111111111111111111111111110000000000000000000000000000000000\n",
      "0011111111111111111111111111111000000000000000000000000000000000\n",
      "0011111111111111111111111111111100000000000000000000000000000000\n",
      "0011111111111111111111111111111110000000000000000000000000000000\n",
      "0011111111111111111111111111111111000000000000000000000000000000\n",
      "0011111111111111111111111111111111100000000000000000000000000000\n",
      "0011111111111111111111111111111111110000000000000000000000000000\n",
      "0011111111111111111111111111111111111000000000000000000000000000\n",
      "0011111111111111111111111111111111111100000000000000000000000000\n",
      "0011111111111111111111111111111111111110000000000000000000000000\n",
      "0011111111111111111111111111111111111111000000000000000000000000\n",
      "0011111111111111111111111111111111111111100000000000000000000000\n",
      "0011111111111111111111111111111111111111110000000000000000000000\n",
      "0011111111111111111111111111111111111111111000000000000000000000\n",
      "0011111111111111111111111111111111111111111100000000000000000000\n",
      "0011111111111111111111111111111111111111111110000000000000000000\n",
      "0011111111111111111111111111111111111111111111000000000000000000\n",
      "0011111111111111111111111111111111111111111111100000000000000000\n",
      "0011111111111111111111111111111111111111111111110000000000000000\n",
      "0011111111111111111111111111111111111111111111111000000000000000\n",
      "0011111111111111111111111111111111111111111111111100000000000000\n",
      "0011111111111111111111111111111111111111111111111110000000000000\n",
      "0011111111111111111111111111111111111111111111111111000000000000\n",
      "0011111111111111111111111111111111111111111111111111100000000000\n",
      "0011111111111111111111111111111111111111111111111111110000000000\n",
      "0011111111111111111111111111111111111111111111111111111000000000\n",
      "0011111111111111111111111111111111111111111111111111111100000000\n",
      "0011111111111111111111111111111111111111111111111111111110000000\n",
      "0011111111111111111111111111111111111111111111111111111111000000\n",
      "0011111111111111111111111111111111111111111111111111111111100000\n",
      "0011111111111111111111111111111111111111111111111111111111110000\n",
      "0011111111111111111111111111111111111111111111111111111111111000\n",
      "0011111111111111111111111111111111111111111111111111111111111100\n",
      "0011111111111111111111111111111111111111111111111111111111111110\n",
      "0011111111111111111111111111111111111111111111111111111111111111\n",
      "0100000000000000000000000000000000000000000000000000000000000000\n"
     ]
    },
    {
     "data": {
      "text/plain": [
       "2.0"
      ]
     },
     "execution_count": 6,
     "metadata": {},
     "output_type": "execute_result"
    }
   ],
   "source": [
    "a=0\n",
    "for i in 0:53\n",
    "    a += 2.0^(-i)\n",
    "    println(bits(a))\n",
    "end\n",
    "a"
   ]
  },
  {
   "cell_type": "markdown",
   "metadata": {},
   "source": [
    "### Ejercicio 2\n",
    "\n",
    "- ¿Cuál es el número más chico que sumado (o restado) a 1.0 me da algo distinto de 1.0?\n",
    "(Este número se bautiza como el \"épsilon de la máquina\")\n",
    "\n",
    "- ¿Cuál es el número más chico que sumado (o restado) a 10.0 me da algo distinto de 10.0?\n"
   ]
  },
  {
   "cell_type": "markdown",
   "metadata": {},
   "source": [
    "**La primera pregunta**\n",
    "     \n",
    "Lo pienso alreves, va evaluando las potencias de 10 desde -1000 hasta 0, en pasos de 0.00001, cuando la diferencia a es distinta a 1, le mando a imprimir el valor de la épsilon que es 10 a la potencia donde se detuvo y luego le digo que me imprima la potencia en donde se detuvo, es decir el número de índice dónde se quedó.\n",
    "     \n",
    "**La segunda pregunta**\n",
    "     \n",
    "Hago lo mismo que en la primera sólo varío en donde corresponda, el 10 en la seguda línea y en el agumento del if.\n",
    "\n",
    "El npumero más chico es aquel que bautizo como c.\n",
    "\n",
    "En estos ejercicios quizá deban perdonar mis códigos, estoy un poco oxidado en julia."
   ]
  },
  {
   "cell_type": "code",
   "execution_count": 7,
   "metadata": {
    "collapsed": false
   },
   "outputs": [
    {
     "name": "stdout",
     "output_type": "stream",
     "text": [
      "4.440892098500626e-16\n",
      "-51.0\n"
     ]
    }
   ],
   "source": [
    "b=0.0    #FIRST QUESTION\n",
    "c=0.0    #Declaro variables b y c y las inicializo en cero.\n",
    "for i in 0.0:1.0:1000.0   #Corro un índice i de cero a mil aprovechando que julia va de cero en adelante\n",
    "    ex = -1000.0+i+1.0    #Por eso mismo evaluo los exponentes desde el más chico al más grande.\n",
    "    c=2.0^(ex)  #y elevo 2 a dicha potencia, aprovechando que es la base natural de la computadora\n",
    "    b = 1.0+c #y lo resto al valor del cual nos intereza conocer la \\epsilon de la máquina\n",
    "    if(b != 1.0)  #si dicha diferencia se hace distinta de uno, entonces en esta última evaluación c es tan grande como\n",
    "        ex2 = ex+1\n",
    "        println(2.0^(ex2))  #para cambiar el valor de 1, por lo que el valor anterior que es 2.0^(ex + 1) será el valor \n",
    "        println(ex2)  #de la $epsilon de la máquina, e imprimo dicho valor y el exponente correspondiente$\n",
    "        break\n",
    "    end\n",
    "end"
   ]
  },
  {
   "cell_type": "markdown",
   "metadata": {},
   "source": [
    "Veamos que nos da este último valor de c que nos da la computadora hasta antes de que se rompa el ciclo."
   ]
  },
  {
   "cell_type": "code",
   "execution_count": 8,
   "metadata": {
    "collapsed": false
   },
   "outputs": [
    {
     "data": {
      "text/plain": [
       "2.220446049250313e-16"
      ]
     },
     "execution_count": 8,
     "metadata": {},
     "output_type": "execute_result"
    }
   ],
   "source": [
    "c"
   ]
  },
  {
   "cell_type": "markdown",
   "metadata": {},
   "source": [
    "Observemos lo que sucede cuando este número se lo restamos a 1, aprovecho que la operación ya está guardada en la variable b."
   ]
  },
  {
   "cell_type": "code",
   "execution_count": 9,
   "metadata": {
    "collapsed": false
   },
   "outputs": [
    {
     "data": {
      "text/plain": [
       "1.0000000000000002"
      ]
     },
     "execution_count": 9,
     "metadata": {},
     "output_type": "execute_result"
    }
   ],
   "source": [
    "b"
   ]
  },
  {
   "cell_type": "markdown",
   "metadata": {},
   "source": [
    "Y ahora vemos lo que sucede cuando al exponente $n$ de $2^{-n}$ le restamos $-1$"
   ]
  },
  {
   "cell_type": "code",
   "execution_count": 10,
   "metadata": {
    "collapsed": false
   },
   "outputs": [
    {
     "data": {
      "text/plain": [
       "1.0"
      ]
     },
     "execution_count": 10,
     "metadata": {},
     "output_type": "execute_result"
    }
   ],
   "source": [
    "1.0+c*2.0^-1"
   ]
  },
  {
   "cell_type": "markdown",
   "metadata": {},
   "source": [
    "Efectivamente la computadora no ve cambio, encontramos el valor de la $\\epsilon$, ¿Pero es cierto? hagamos lo siguiente, evaluemos con la función 'eps(1.0)' el valor de la $\\epsilon$ de la computadora para el número $1.0$"
   ]
  },
  {
   "cell_type": "code",
   "execution_count": 11,
   "metadata": {
    "collapsed": false
   },
   "outputs": [
    {
     "data": {
      "text/plain": [
       "2.220446049250313e-16"
      ]
     },
     "execution_count": 11,
     "metadata": {},
     "output_type": "execute_result"
    }
   ],
   "source": [
    "eps(1.0)"
   ]
  },
  {
   "cell_type": "markdown",
   "metadata": {},
   "source": [
    "Que corresponde al siguiente valor, como efectivamente lo calculo el programa."
   ]
  },
  {
   "cell_type": "code",
   "execution_count": 12,
   "metadata": {
    "collapsed": false
   },
   "outputs": [
    {
     "data": {
      "text/plain": [
       "2.220446049250313e-16"
      ]
     },
     "execution_count": 12,
     "metadata": {},
     "output_type": "execute_result"
    }
   ],
   "source": [
    "2.0^(-52)"
   ]
  },
  {
   "cell_type": "code",
   "execution_count": 13,
   "metadata": {
    "collapsed": false
   },
   "outputs": [
    {
     "name": "stdout",
     "output_type": "stream",
     "text": [
      "3.552713678800501e-15\n",
      "-48.0\n"
     ]
    }
   ],
   "source": [
    "b=0.0    #SECOND QUESTION\n",
    "c=0.0    #Hago lo mismo pero ahora para 10\n",
    "for i in 0.0:1.0:1000.0   \n",
    "    ex = -1000.0+i+1.0    \n",
    "    c=2.0^(ex)  \n",
    "    b = 10.0-c \n",
    "    if(b != 10.0)  \n",
    "        ex2 = ex+1\n",
    "        println(2.0^(ex2))  \n",
    "        println(ex2)  \n",
    "        break\n",
    "    end\n",
    "end"
   ]
  },
  {
   "cell_type": "markdown",
   "metadata": {},
   "source": [
    "Veamos que nos da este último valor de c que nos da la computadora hasta antes de que se rompa el ciclo."
   ]
  },
  {
   "cell_type": "code",
   "execution_count": 14,
   "metadata": {
    "collapsed": false
   },
   "outputs": [
    {
     "data": {
      "text/plain": [
       "1.7763568394002505e-15"
      ]
     },
     "execution_count": 14,
     "metadata": {},
     "output_type": "execute_result"
    }
   ],
   "source": [
    "c"
   ]
  },
  {
   "cell_type": "markdown",
   "metadata": {
    "collapsed": false
   },
   "source": [
    "Observemos lo que sucede cuando este número se lo restamos a 10, aprovecho que la operación ya está guardada en la variable b."
   ]
  },
  {
   "cell_type": "code",
   "execution_count": 15,
   "metadata": {
    "collapsed": false
   },
   "outputs": [
    {
     "data": {
      "text/plain": [
       "9.999999999999998"
      ]
     },
     "execution_count": 15,
     "metadata": {},
     "output_type": "execute_result"
    }
   ],
   "source": [
    "b"
   ]
  },
  {
   "cell_type": "markdown",
   "metadata": {
    "collapsed": false
   },
   "source": [
    "Y ahora vemos lo que sucede cuando al exponente $n$ de $2^{-n}$ le restamos $-1$"
   ]
  },
  {
   "cell_type": "code",
   "execution_count": 16,
   "metadata": {
    "collapsed": false
   },
   "outputs": [
    {
     "data": {
      "text/plain": [
       "10.0"
      ]
     },
     "execution_count": 16,
     "metadata": {},
     "output_type": "execute_result"
    }
   ],
   "source": [
    "10.0+c*2.0^-1"
   ]
  },
  {
   "cell_type": "markdown",
   "metadata": {},
   "source": [
    "Efectivamente la computadora no ve cambio, encontramos el valor de la $\\epsilon$, ¿Pero es cierto? hagamos lo siguiente, evaluemos con la función 'eps(10.0)' el valor de la $\\epsilon$ de la computadora para el número $10.0$"
   ]
  },
  {
   "cell_type": "code",
   "execution_count": 17,
   "metadata": {
    "collapsed": false
   },
   "outputs": [
    {
     "data": {
      "text/plain": [
       "1.7763568394002505e-15"
      ]
     },
     "execution_count": 17,
     "metadata": {},
     "output_type": "execute_result"
    }
   ],
   "source": [
    "eps(10.0)"
   ]
  },
  {
   "cell_type": "markdown",
   "metadata": {},
   "source": [
    "Que corresponde al siguiente valor, como efectivamente lo calculo el programa."
   ]
  },
  {
   "cell_type": "code",
   "execution_count": 18,
   "metadata": {
    "collapsed": false
   },
   "outputs": [
    {
     "data": {
      "text/plain": [
       "3.552713678800501e-15"
      ]
     },
     "execution_count": 18,
     "metadata": {},
     "output_type": "execute_result"
    }
   ],
   "source": [
    "2.0^(-48.0)"
   ]
  },
  {
   "cell_type": "markdown",
   "metadata": {},
   "source": [
    "http://julia.readthedocs.org/en/latest/manual/integers-and-floating-point-numbers/ (Para ver si mi $\\epsilon$ es la epsilon esperada almenos del orden)"
   ]
  },
  {
   "cell_type": "markdown",
   "metadata": {},
   "source": [
    "### Ejercicio 3\n",
    "\n",
    "Define una functión llamada `derivada1` que implemente el cálculo de:\n",
    "\n",
    "$$\n",
    "\\frac{\\Delta f(x)}{\\Delta x}(x_0) = \\frac{f(x_0+h)-f(x_0)}{h}\n",
    "$$\n",
    "\n",
    "Obviamente esta función es una aproximación *finita* de la derivada. La pregunta es ¿qué tan buena es esta aproximación, pensando en términos de $h$?\n",
    "\n",
    "- La primer sub-pregunta es ¿cómo se responde este tipo de pregunta?\n",
    "- Uno tiene que tomar un caso concreto (para $f(x_0,h)$); sugiero empezar con un polinomio con coeficientes enteros, y después hacer el mismo tipo de pruebas con una función trascendental.\n",
    "- ¿Hay algo *sorprendente* en el comportamiento de `derivada1` como función de $h$? ¿A qué lo puedes atribuir?\n",
    "- ¿Puedes hacer que la función `derivada1` funcione para funciones más o menos arbitrarias, que el usuario define?\n",
    "- ¿Puedes explicar de alguna manera los resultados que has obtenido?"
   ]
  },
  {
   "cell_type": "markdown",
   "metadata": {},
   "source": [
    "Reordenando la expresión de la derivada\n",
    "$$\n",
    "h \\frac{\\Delta f(x_o)}{\\Delta x} (x_o)+f(x_o)=f(x_o+h)\n",
    "$$\n",
    "Si lo vemos como una expansión de Taylor en rededor de $x_o$, vemos que realmente\n",
    "$$\n",
    "O(h^2) + h\\cdot f'(x_o) (x_o)+f(x_o)=f(x_o+h)\n",
    "$$\n",
    "Donde los términos de error están contenidos con la notación O(h^2), lo que nos quiere decir que el error es del orden de $h^2$ hasta ahora con la expansión de taylor, pero si despejamos de tal manera que tengamos la derivada, es decir\n",
    "\n",
    "$$\n",
    "f'(x_o)= \\frac{f(x_0+h)-f(x_0)}{h} + \\frac{O(h^2)}{h}\n",
    "$$\n",
    "\n",
    "Tenemos que el término más significativo del error es de la forma $C h^2 /h = C h$ con $C$ una constante, con lo que ahora nuestro error es del orden de $h$, por lo que esperamos que si comparamos el comportamiento de lo que realmente es la derivada de una función con la aproximación que estamos haciendo, al graficar el error respecto vs. $h$ lo que veamos debería ser una recta. Dicho error se aplica a la aproximación hecha en la primera ecuación de este ejercicio para el valor de la derivada en $x_o$\n",
    "\n",
    "Lo que leí. Giordano, Nicholas J. & Nakanishi, Hisao. *Computational Physics*. Second Edition. Prearson Prentice Hall. 2006. pp 2-3\n",
    "\n",
    "Más la iluminación que en la que me hizo caer el profe."
   ]
  },
  {
   "cell_type": "code",
   "execution_count": 19,
   "metadata": {
    "collapsed": false
   },
   "outputs": [
    {
     "data": {
      "text/plain": [
       "derivada1 (generic function with 1 method)"
      ]
     },
     "execution_count": 19,
     "metadata": {},
     "output_type": "execute_result"
    }
   ],
   "source": [
    "function derivada1(funct, x0, h) #tiene como entradas una función, un valor de x y el tamaño del paso\n",
    "    (funct(x0+h)-funct(x0))/h\n",
    "end"
   ]
  },
  {
   "cell_type": "code",
   "execution_count": 20,
   "metadata": {
    "collapsed": false
   },
   "outputs": [
    {
     "data": {
      "text/plain": [
       "h (generic function with 1 method)"
      ]
     },
     "execution_count": 20,
     "metadata": {},
     "output_type": "execute_result"
    }
   ],
   "source": [
    "f(x) = x^2       #Aquí se pueden modificar las funciones a su antojo\n",
    "g(x) = 2x^5-6x^4+3.3x^3+1.1x^2+7x-12.1\n",
    "h(x) = tan(x)"
   ]
  },
  {
   "cell_type": "code",
   "execution_count": 21,
   "metadata": {
    "collapsed": false
   },
   "outputs": [
    {
     "data": {
      "text/plain": [
       "variah1 (generic function with 1 method)"
      ]
     },
     "execution_count": 21,
     "metadata": {},
     "output_type": "execute_result"
    }
   ],
   "source": [
    "function variah1(funct,x0) #como entradas una función y un valor de x\n",
    "    dat = zeros(100,2) #hago un arreglo de zeros de 2 columnas y 100 hileras\n",
    "    tam = length(dat[:,1]) #mido las hileras\n",
    "     \n",
    "    for i in 1:tam    #hago correr el índice para reasignar los valores de la primera columna a los valores de la \n",
    "        dat[i,1]=10.0^-i   #la potencia de 10 que le meto el paso, del más grande al más chico\n",
    "        dat[i,2]=abs(funct'(x0)-derivada1(f,x0,10.0^-i)) #lo hice así por que en el eje x si lo hacia directo con el tamaño del \n",
    "    end         #paso no se graficaba correctamente.\n",
    "    return dat\n",
    "end"
   ]
  },
  {
   "cell_type": "code",
   "execution_count": 22,
   "metadata": {
    "collapsed": false
   },
   "outputs": [
    {
     "data": {
      "image/png": "[encoded data removed]",
      "text/plain": [
       "Figure(PyObject <matplotlib.figure.Figure object at 0x7f5b101a0128>)"
      ]
     },
     "metadata": {},
     "output_type": "display_data"
    },
    {
     "data": {
      "text/plain": [
       "PyObject <matplotlib.text.Text object at 0x7f5af8ce0f28>"
      ]
     },
     "execution_count": 22,
     "metadata": {},
     "output_type": "execute_result"
    }
   ],
   "source": [
    "k = variah1(f,1);  #evaluo f' en x_o=2.5\n",
    "loglog(k[:,1],k[:,2],\"g\")  #grafico los valores.\n",
    "xlabel(L\"h\")\n",
    "ylabel(\"error\")"
   ]
  },
  {
   "cell_type": "code",
   "execution_count": 23,
   "metadata": {
    "collapsed": false
   },
   "outputs": [
    {
     "data": {
      "image/png": "[encoded data removed]",
      "text/plain": [
       "Figure(PyObject <matplotlib.figure.Figure object at 0x7f5af7e7e8d0>)"
      ]
     },
     "metadata": {},
     "output_type": "display_data"
    },
    {
     "data": {
      "text/plain": [
       "PyObject <matplotlib.text.Text object at 0x7f5af7ea4978>"
      ]
     },
     "execution_count": 23,
     "metadata": {},
     "output_type": "execute_result"
    }
   ],
   "source": [
    "l=variah1(g,8) #evaluo g' en x=8\n",
    "loglog(l[:,1],l[:,2])\n",
    "xlabel(L\"h\")\n",
    "ylabel(\"error\")"
   ]
  },
  {
   "cell_type": "code",
   "execution_count": 24,
   "metadata": {
    "collapsed": false
   },
   "outputs": [
    {
     "data": {
      "image/png": "[encoded data removed]",
      "text/plain": [
       "Figure(PyObject <matplotlib.figure.Figure object at 0x7f5b1898a828>)"
      ]
     },
     "metadata": {},
     "output_type": "display_data"
    },
    {
     "data": {
      "text/plain": [
       "PyObject <matplotlib.text.Text object at 0x7f5af7c307f0>"
      ]
     },
     "execution_count": 24,
     "metadata": {},
     "output_type": "execute_result"
    }
   ],
   "source": [
    "m = variah1(h,pi/4);  #evaluo f' en x_o=2.5\n",
    "loglog(m[:,1],m[:,2],\"r\")  #grafico los valores.\n",
    "xlabel(L\"h\")\n",
    "ylabel(\"error\")"
   ]
  },
  {
   "cell_type": "markdown",
   "metadata": {},
   "source": [
    "Lo que he notado es que no siempre se comporta de manera lineal, pues como en la primera función `f` que definí, si hay un buen intervalo de $h$ donde el comportamiento es eminentemente linal, pero, se asoma que no se obtiene una mejor precisión al hacer más chica la $h$, por otra parte, depende la precisión no sólo de la función que le estemos metiendo sino del punto donde estemos calculando la derivada, pero al menos para polinomios sencillitos el error en algún momento va como $h$."
   ]
  },
  {
   "cell_type": "markdown",
   "metadata": {},
   "source": [
    "### Ejercicio 4\n",
    "\n",
    "Este ejercicio es equivalente al anterior, pero considerando la función `derivada2` que implemente el cálculo de:\n",
    "\n",
    "$$\n",
    "\\frac{\\Delta f(x)}{\\Delta x}(x_0) = \\frac{f(x_0+h)-f(x_0-h)}{2h}\n",
    "$$\n",
    "\n",
    "¿Puedes explicar por qué la convergencia es mejor en este caso?\n",
    "\n",
    "Este término viene del promedio de la derivada en rededor de $x_o$, por lo que se espera que el cálculo sea más refinado al usar los valores que preceden y anteceden al punto $x_o$, si no mal recuerdo también hay una ventaja que proporciona el teorema del valor medio, en done el promedio de la derivada en cierto intervalo se puede sacar al hacer la cuenta con los valores extremos de dicho intervalo."
   ]
  },
  {
   "cell_type": "code",
   "execution_count": 25,
   "metadata": {
    "collapsed": false
   },
   "outputs": [
    {
     "data": {
      "text/plain": [
       "derivada2 (generic function with 1 method)"
      ]
     },
     "execution_count": 25,
     "metadata": {},
     "output_type": "execute_result"
    }
   ],
   "source": [
    "function derivada2(funct, x0, h)  #hago lo mismo que en el ejercicio anterior, solo cambio las operaciones necesarias.\n",
    "    (funct(x0+h)-funct(x0-h))/(2*h)\n",
    "end"
   ]
  },
  {
   "cell_type": "code",
   "execution_count": 26,
   "metadata": {
    "collapsed": false
   },
   "outputs": [
    {
     "data": {
      "text/plain": [
       "variah2 (generic function with 1 method)"
      ]
     },
     "execution_count": 26,
     "metadata": {},
     "output_type": "execute_result"
    }
   ],
   "source": [
    "function variah2(funct,x0)#es exactamente el código de arriba, salvo que ahora uso la nueva función derivada2\n",
    "    dat = zeros(100,2)\n",
    "    tam = length(dat[:,1])\n",
    "    \n",
    "    for i in 0:tam-1\n",
    "        dat[i+1,1]=10.0^-((tam-1)-i)\n",
    "        dat[i+1,2]=abs(funct'(x0)-derivada2(f,x0,10.0^-((tam-1)-i)))\n",
    "    end\n",
    "    return dat\n",
    "end"
   ]
  },
  {
   "cell_type": "code",
   "execution_count": 40,
   "metadata": {
    "collapsed": false
   },
   "outputs": [
    {
     "data": {
      "image/png": "[encoded data removed]",
      "text/plain": [
       "Figure(PyObject <matplotlib.figure.Figure object at 0x7f5af6fc60b8>)"
      ]
     },
     "metadata": {},
     "output_type": "display_data"
    },
    {
     "data": {
      "text/plain": [
       "PyObject <matplotlib.legend.Legend object at 0x7f5af6f5b898>"
      ]
     },
     "execution_count": 40,
     "metadata": {},
     "output_type": "execute_result"
    }
   ],
   "source": [
    "n2 = variah2(f,1.0)\n",
    "n1 = variah1(f,1.0);  #evaluo f' en x_o=2.5\n",
    "loglog(n2[:,1],n2[:,2],\"r\",label=(\"derivada 2\"))\n",
    "loglog(n1[:,1],n1[:,2],\"g\",label=(\"derivada 1\"))  #grafico los valores.#la gráfica para f\n",
    "xlabel(L\"h\")\n",
    "ylabel(\"error\")\n",
    "legend(loc=\"lower left\",fancybox=\"true\")"
   ]
  },
  {
   "cell_type": "code",
   "execution_count": 42,
   "metadata": {
    "collapsed": false
   },
   "outputs": [
    {
     "data": {
      "image/png": "[encoded data removed]",
      "text/plain": [
       "Figure(PyObject <matplotlib.figure.Figure object at 0x7f5af6fa0b00>)"
      ]
     },
     "metadata": {},
     "output_type": "display_data"
    },
    {
     "data": {
      "text/plain": [
       "PyObject <matplotlib.legend.Legend object at 0x7f5af6ca3ef0>"
      ]
     },
     "execution_count": 42,
     "metadata": {},
     "output_type": "execute_result"
    }
   ],
   "source": [
    "o2 = variah2(g,3.2);\n",
    "o1 = variah1(g,3.2);\n",
    "loglog(o2[:,1],o2[:,2],label=(\"derivada 2\")) #la gráfica para g\n",
    "loglog(o1[:,1],o1[:,2],label=(\"derivada 1\"))\n",
    "xlabel(L\"h\")\n",
    "ylabel(\"error\")\n",
    "legend(loc=\"upper right\",fancybox=\"true\")"
   ]
  },
  {
   "cell_type": "code",
   "execution_count": 39,
   "metadata": {
    "collapsed": false
   },
   "outputs": [
    {
     "data": {
      "image/png": "[encoded data removed]",
      "text/plain": [
       "Figure(PyObject <matplotlib.figure.Figure object at 0x7f5af7229cf8>)"
      ]
     },
     "metadata": {},
     "output_type": "display_data"
    },
    {
     "data": {
      "text/plain": [
       "PyObject <matplotlib.legend.Legend object at 0x7f5af70f4860>"
      ]
     },
     "execution_count": 39,
     "metadata": {},
     "output_type": "execute_result"
    }
   ],
   "source": [
    "p2 = variah2(h,pi/4);\n",
    "p1 = variah1(h,pi/4);\n",
    "loglog(p2[:,1],p2[:,2],label=(\"derivada 2\")) #la gráfica para g\n",
    "loglog(p1[:,1],p1[:,2],label=(\"derivada 1\"))\n",
    "xlabel(L\"h\")\n",
    "ylabel(\"error\")\n",
    "legend(loc=\"upper right\",fancybox=\"true\")"
   ]
  },
  {
   "cell_type": "markdown",
   "metadata": {},
   "source": [
    "Se aprecia cómo el error, conforme $h$ es más chica no se vuelve más pequeño, al contrario, lo que sí se aprecia es cómo convergen ambos métodos a un valor de error, conforme $h$ se hace más grande comienzan a separarse los valores del error y en general se aprecia una ventaja del segúndo método para calcular la derivada. Se aprecia además en la primera función que pruebo que el error (\"a ojo de buen cubero\") va como h."
   ]
  },
  {
   "cell_type": "markdown",
   "metadata": {},
   "source": [
    "### Ejercicio 5\n",
    "\n",
    "Manda el notebook con tus resultados haciendo un pull-request al repositorio del curso. Para hacer esto:\n",
    "- Haz un `fork` del repositorio del curso a tu propia cuenta en GitHub\n",
    "- Una vez que tengas resuelto el notebook, súbelo a **tu** repositorio (con `git push`), en la carpeta \"tareas/usuario_github/nombre_notebook\"\n",
    "- Desde tu repositorio, haz un \"Pull Request\". El *pull request* sólo se aceptará si es legible en el sentido más amplio de la palabra y, obviamente, si es correcto. Esto significa que debe ser *entendible*, a partir de lo que ustedes escriben, incluso para gente que no está en el curso. (Como GitHub es público, piensen fríamente que esto puede ser leido por *muuucha* gente allá afuera.) Si el trabajo es en colaboración, háganlo saber en el propio notebook (cosa que se debe notar en el historial de lo que envíen). Finalmente, como código ético, incluyan cualquier fuente de inspiración, incluso cuando se trate del notebook de otro compañero/equipo del curso."
   ]
  }
 ],
 "metadata": {
  "kernelspec": {
   "display_name": "Julia 0.3.11",
   "language": "julia",
   "name": "julia-0.3"
  },
  "language_info": {
   "file_extension": ".jl",
   "mimetype": "application/julia",
   "name": "julia",
   "version": "0.3.11"
  }
 },
 "nbformat": 4,
 "nbformat_minor": 0
}
