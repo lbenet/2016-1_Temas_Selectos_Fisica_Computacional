{
 "cells": [
  {
   "cell_type": "markdown",
   "metadata": {},
   "source": [
    "**Ejercicio 1**\n",
    "\n",
    "En clase vimos que la función bits permite ver la representación binaria de números de punto flotante (Float64) o de enteros (e.g., Int64). En particular, para números de punto flotante, el primer bit es el signo, los siguiente 11 son el exponente y el resto es la representación binaria (sin el 1 del principio), del número en cuestión.\n",
    "\n",
    "La pregunta es ¿qué significa el exponente?\n",
    "\n",
    "    bits(0.1)\n",
    "        \"0111111111110000000000000000000000000000000000000000000000000000\""
   ]
  },
  {
   "cell_type": "markdown",
   "metadata": {},
   "source": [
    "\n",
    "**Ejercicio 2**\n",
    "\n",
    "¿Cuál es el número más chico que sumado (o restado) a 1.0 me da algo distinto de 1.0? (Este número se bautiza como el \"épsilon de la máquina\")\n",
    "\n",
    "¿Cuál es el número más chico que sumado (o restado) a 10.0 me da algo distinto de 10.0?\n",
    "\n"
   ]
  },
  {
   "cell_type": "markdown",
   "metadata": {},
   "source": [
    "----------------------------------------------------------------\n",
    "Para responder esta pregunta probaré diferentes $\\epsilon$ sumados a 1.0 y a 10.0"
   ]
  },
  {
   "cell_type": "code",
   "execution_count": 24,
   "metadata": {
    "collapsed": false,
    "scrolled": true
   },
   "outputs": [
    {
     "ename": "LoadError",
     "evalue": "DomainError\nwhile loading In[24], in expression starting on line 3",
     "output_type": "error",
     "traceback": [
      "DomainError\nwhile loading In[24], in expression starting on line 3",
      "",
      " in power_by_squaring at intfuncs.jl:60",
      " in ^ at intfuncs.jl:84",
      " in anonymous at no file:4"
     ]
    }
   ],
   "source": [
    "eps1 = [-20:1:-5]\n",
    "\n",
    "for n in eps1\n",
    "    println (1.0+ 1.0*10^n)\n",
    "end"
   ]
  },
  {
   "cell_type": "code",
   "execution_count": 118,
   "metadata": {
    "collapsed": false
   },
   "outputs": [
    {
     "data": {
      "text/plain": [
       "1.0"
      ]
     },
     "execution_count": 118,
     "metadata": {},
     "output_type": "execute_result"
    }
   ],
   "source": [
    "a = 1.0 + 1.0e-16"
   ]
  },
  {
   "cell_type": "code",
   "execution_count": 119,
   "metadata": {
    "collapsed": false
   },
   "outputs": [
    {
     "data": {
      "text/plain": [
       "true"
      ]
     },
     "execution_count": 119,
     "metadata": {},
     "output_type": "execute_result"
    }
   ],
   "source": [
    "a == 1.0"
   ]
  },
  {
   "cell_type": "code",
   "execution_count": 110,
   "metadata": {
    "collapsed": false
   },
   "outputs": [
    {
     "data": {
      "text/plain": [
       "10.0"
      ]
     },
     "execution_count": 110,
     "metadata": {},
     "output_type": "execute_result"
    }
   ],
   "source": [
    "b = 10.0 + 8.0e-16"
   ]
  },
  {
   "cell_type": "code",
   "execution_count": 111,
   "metadata": {
    "collapsed": false
   },
   "outputs": [
    {
     "data": {
      "text/plain": [
       "true"
      ]
     },
     "execution_count": 111,
     "metadata": {},
     "output_type": "execute_result"
    }
   ],
   "source": [
    "b == 10.0"
   ]
  },
  {
   "cell_type": "markdown",
   "metadata": {},
   "source": [
    "**Ejercicio 3**\n",
    "\n",
    "Define una functión llamada derivada1 que implemente el cálculo de:\n",
    "             \n",
    "$$\\frac{\\Delta f(x)}{\\Delta x}(x_0) = \\frac{f(x_0+h)-f(x_0)}{h}$$\n",
    "    \n",
    "Obviamente esta función es una aproximación finita de la derivada. La pregunta es ¿qué tan buena es esta aproximación, pensando en términos de $h$?"
   ]
  },
  {
   "cell_type": "markdown",
   "metadata": {},
   "source": [
    "-    La primer sub-pregunta es ¿cómo se responde este tipo de pregunta?\n",
    "\n",
    "i) Es posible responderla tomando intervalos $h$ cada vez menores, cuando el intervalo sea tal que la derivada no cambia, podemos considerar que es lo más aproximado posible.\n",
    "\n",
    "ii) Otra posibilidad es resolver la derivada de la función analíticamente, introducirla como función, y evaluar para diferentes valores de $h$, se puede graficar para la diferencia entre el valor esperado y el valor obtenido para cierto $f'(x_0)$ en función de  $h$.\n",
    "\n",
    "-    Uno tiene que tomar un caso concreto (para $f(x_0,h)$); sugiero empezar con un polinomio con coeficientes enteros, y después hacer el mismo tipo de pruebas con una función trascendental."
   ]
  },
  {
   "cell_type": "code",
   "execution_count": 3,
   "metadata": {
    "collapsed": false
   },
   "outputs": [
    {
     "data": {
      "text/plain": [
       "derivada1 (generic function with 1 method)"
      ]
     },
     "execution_count": 3,
     "metadata": {},
     "output_type": "execute_result"
    }
   ],
   "source": [
    "f(x) = x^2 + 3*x\n",
    "\n",
    "derivada1(x, h)= (f(x + h) - f(x))/h"
   ]
  },
  {
   "cell_type": "markdown",
   "metadata": {},
   "source": [
    "En este caso, la derivada es $f'(x) = 2x + 3$, entonces $f'(2) = 7$. Comparemos:"
   ]
  },
  {
   "cell_type": "code",
   "execution_count": 18,
   "metadata": {
    "collapsed": false
   },
   "outputs": [
    {
     "data": {
      "text/plain": [
       "1:9"
      ]
     },
     "execution_count": 18,
     "metadata": {},
     "output_type": "execute_result"
    }
   ],
   "source": [
    "valores = 1:9"
   ]
  },
  {
   "cell_type": "code",
   "execution_count": 4,
   "metadata": {
    "collapsed": false
   },
   "outputs": [
    {
     "data": {
      "text/plain": [
       "7.1000000000000085"
      ]
     },
     "execution_count": 4,
     "metadata": {},
     "output_type": "execute_result"
    }
   ],
   "source": [
    "derivada1(2, 0.1)"
   ]
  },
  {
   "cell_type": "code",
   "execution_count": 5,
   "metadata": {
    "collapsed": false
   },
   "outputs": [
    {
     "data": {
      "text/plain": [
       "7.0099999999998275"
      ]
     },
     "execution_count": 5,
     "metadata": {},
     "output_type": "execute_result"
    }
   ],
   "source": [
    "derivada1(2, 0.01)"
   ]
  },
  {
   "cell_type": "code",
   "execution_count": 6,
   "metadata": {
    "collapsed": false
   },
   "outputs": [
    {
     "data": {
      "text/plain": [
       "7.000999999998925"
      ]
     },
     "execution_count": 6,
     "metadata": {},
     "output_type": "execute_result"
    }
   ],
   "source": [
    "derivada1(2, 0.001)"
   ]
  },
  {
   "cell_type": "code",
   "execution_count": 7,
   "metadata": {
    "collapsed": false
   },
   "outputs": [
    {
     "data": {
      "text/plain": [
       "7.000100000027487"
      ]
     },
     "execution_count": 7,
     "metadata": {},
     "output_type": "execute_result"
    }
   ],
   "source": [
    "derivada1(2, 0.0001)"
   ]
  },
  {
   "cell_type": "code",
   "execution_count": 9,
   "metadata": {
    "collapsed": false
   },
   "outputs": [
    {
     "data": {
      "text/plain": [
       "7.000010000091094"
      ]
     },
     "execution_count": 9,
     "metadata": {},
     "output_type": "execute_result"
    }
   ],
   "source": [
    "derivada1(2, 0.00001)"
   ]
  },
  {
   "cell_type": "code",
   "execution_count": 8,
   "metadata": {
    "collapsed": false
   },
   "outputs": [
    {
     "data": {
      "text/plain": [
       "7.000001001955525"
      ]
     },
     "execution_count": 8,
     "metadata": {},
     "output_type": "execute_result"
    }
   ],
   "source": [
    "derivada1(2, 0.000001)"
   ]
  },
  {
   "cell_type": "code",
   "execution_count": 18,
   "metadata": {
    "collapsed": false
   },
   "outputs": [
    {
     "data": {
      "text/plain": [
       "7.000000579182597"
      ]
     },
     "execution_count": 18,
     "metadata": {},
     "output_type": "execute_result"
    }
   ],
   "source": [
    "derivada1(2, 0.001)"
   ]
  },
  {
   "cell_type": "markdown",
   "metadata": {},
   "source": [
    "Si utilizamos la $\\epsilon$ que hallamos en el ejercicio previo:"
   ]
  },
  {
   "cell_type": "code",
   "execution_count": 9,
   "metadata": {
    "collapsed": false
   },
   "outputs": [
    {
     "data": {
      "text/plain": [
       "7.000000579182597"
      ]
     },
     "execution_count": 9,
     "metadata": {},
     "output_type": "execute_result"
    }
   ],
   "source": [
    "derivada1(2, 1e-9)"
   ]
  },
  {
   "cell_type": "code",
   "execution_count": 59,
   "metadata": {
    "collapsed": false
   },
   "outputs": [
    {
     "data": {
      "text/plain": [
       "derivada1i (generic function with 1 method)"
      ]
     },
     "execution_count": 59,
     "metadata": {},
     "output_type": "execute_result"
    }
   ],
   "source": [
    "fi(x) = sin(x)/x\n",
    "\n",
    "derivada1i(x, h)= (fi(x + h) - fi(x))/h"
   ]
  },
  {
   "cell_type": "markdown",
   "metadata": {},
   "source": [
    "En este caso la derivada es $$\\dfrac{cos (x)}{x} - \\dfrac{sin(x)}{x^2} = \\dfrac{x cos(x) - sin(x)}{x^2}$$"
   ]
  },
  {
   "cell_type": "code",
   "execution_count": 63,
   "metadata": {
    "collapsed": false
   },
   "outputs": [
    {
     "data": {
      "text/plain": [
       "Dfi (generic function with 1 method)"
      ]
     },
     "execution_count": 63,
     "metadata": {},
     "output_type": "execute_result"
    }
   ],
   "source": [
    "Dfi(x)= cos(x)/x - sin(x)/x^2"
   ]
  },
  {
   "cell_type": "code",
   "execution_count": 64,
   "metadata": {
    "collapsed": false
   },
   "outputs": [
    {
     "data": {
      "text/plain": [
       "-0.43539777497999166"
      ]
     },
     "execution_count": 64,
     "metadata": {},
     "output_type": "execute_result"
    }
   ],
   "source": [
    "Dfi(2) "
   ]
  },
  {
   "cell_type": "code",
   "execution_count": 61,
   "metadata": {
    "collapsed": false
   },
   "outputs": [
    {
     "data": {
      "text/plain": [
       "-0.4354900813238305"
      ]
     },
     "execution_count": 61,
     "metadata": {},
     "output_type": "execute_result"
    }
   ],
   "source": [
    "derivada1i(2, 0.01) "
   ]
  },
  {
   "cell_type": "code",
   "execution_count": 69,
   "metadata": {
    "collapsed": false
   },
   "outputs": [
    {
     "data": {
      "text/plain": [
       "-0.0005685655823515212"
      ]
     },
     "execution_count": 69,
     "metadata": {},
     "output_type": "execute_result"
    }
   ],
   "source": [
    "derivada1i(2, 0.1) - Dfi(2)"
   ]
  },
  {
   "cell_type": "code",
   "execution_count": 65,
   "metadata": {
    "collapsed": false
   },
   "outputs": [
    {
     "data": {
      "text/plain": [
       "-9.230634383883274e-5"
      ]
     },
     "execution_count": 65,
     "metadata": {},
     "output_type": "execute_result"
    }
   ],
   "source": [
    "derivada1i(2, 0.01) - Dfi(2)"
   ]
  },
  {
   "cell_type": "code",
   "execution_count": 66,
   "metadata": {
    "collapsed": false
   },
   "outputs": [
    {
     "data": {
      "text/plain": [
       "-9.585978381410065e-6"
      ]
     },
     "execution_count": 66,
     "metadata": {},
     "output_type": "execute_result"
    }
   ],
   "source": [
    "derivada1i(2, 0.001) - Dfi(2)"
   ]
  },
  {
   "cell_type": "code",
   "execution_count": 68,
   "metadata": {
    "collapsed": false
   },
   "outputs": [
    {
     "data": {
      "text/plain": [
       "-9.625459679307724e-8"
      ]
     },
     "execution_count": 68,
     "metadata": {},
     "output_type": "execute_result"
    }
   ],
   "source": [
    "derivada1i(2, 0.00001) - Dfi(2)"
   ]
  },
  {
   "cell_type": "code",
   "execution_count": 75,
   "metadata": {
    "collapsed": false
   },
   "outputs": [
    {
     "data": {
      "text/plain": [
       "1.589358311626654e-9"
      ]
     },
     "execution_count": 75,
     "metadata": {},
     "output_type": "execute_result"
    }
   ],
   "source": [
    "derivada1i(2, 1e-8) - Dfi(2)"
   ]
  },
  {
   "cell_type": "markdown",
   "metadata": {},
   "source": [
    "-   ¿Hay algo sorprendente en el comportamiento de derivada1 como función de  $h$? ¿A qué lo puedes atribuir?\n",
    "\n",
    "Lo sorprendente que observé, fue que al disminuir el incremento $h$ el error incrementa. Una $h$ demasiado pequeña. Puedo atribuir este error a redondeos realizados por Julia.\n",
    "\n",
    "\n",
    "-   ¿Puedes hacer que la función derivada1 funcione para funciones más o menos arbitrarias, que el usuario define?\n",
    "\n",
    "-   ¿Puedes explicar de alguna manera los resultados que has obtenido?"
   ]
  },
  {
   "cell_type": "code",
   "execution_count": 1,
   "metadata": {
    "collapsed": false,
    "scrolled": true
   },
   "outputs": [
    {
     "name": "stderr",
     "output_type": "stream",
     "text": [
      "WARNING: Color is deprecated, please use Colors instead. See https://github.com/JuliaGraphics/Colors.jl\n",
      "INFO: Loading help data...\n"
     ]
    }
   ],
   "source": [
    "using PyPlot"
   ]
  },
  {
   "cell_type": "code",
   "execution_count": 2,
   "metadata": {
    "collapsed": false
   },
   "outputs": [
    {
     "ename": "LoadError",
     "evalue": "derivada1i not defined\nwhile loading In[2], in expression starting on line 2",
     "output_type": "error",
     "traceback": [
      "derivada1i not defined\nwhile loading In[2], in expression starting on line 2",
      ""
     ]
    }
   ],
   "source": [
    "h=[0.0001:0.00002:0.1];\n",
    "plot(h, derivada1i(2, h))"
   ]
  },
  {
   "cell_type": "markdown",
   "metadata": {
    "collapsed": true
   },
   "source": [
    "\n",
    "**Ejercicio 4**\n",
    "\n",
    "Este ejercicio es equivalente al anterior, pero considerando la función derivada2 que implemente el cálculo de:\n",
    "             \n",
    "\n",
    "¿Puedes explicar por qué la convergencia es mejor en este caso?\n",
    "\n",
    "\n",
    "**Ejercicio 5**\n",
    "\n",
    "Manda el notebook con tus resultados haciendo un pull-request al repositorio del curso. Para hacer esto:\n",
    "\n",
    "- Haz un fork del repositorio del curso a tu propia cuenta en GitHub\n",
    "- Una vez que tengas resuelto el notebook, súbelo a tu repositorio (con git push), en la carpeta \"tareas/usuario_github/nombre_notebook\"\n",
    "- Desde tu repositorio, haz un \"Pull Request\". El pull request sólo se aceptará si es legible en el sentido más amplio de la palabra y, obviamente, si es correcto. Esto significa que debe ser entendible, a partir de lo que ustedes escriben, incluso para gente que no está en el curso. (Como GitHub es público, piensen fríamente que esto puede ser leido por muuucha gente allá afuera.) Si el trabajo es en colaboración, háganlo saber en el propio notebook (cosa que se debe notar en el historial de lo que envíen). Finalmente, como código ético, incluyan cualquier fuente de inspiración, incluso cuando se trate del notebook de otro compañero/equipo del curso.\n",
    "\n"
   ]
  },
  {
   "cell_type": "code",
   "execution_count": null,
   "metadata": {
    "collapsed": true
   },
   "outputs": [],
   "source": []
  }
 ],
 "metadata": {
  "kernelspec": {
   "display_name": "Julia 0.3.11",
   "language": "julia",
   "name": "julia-0.3"
  },
  "language_info": {
   "name": "julia",
   "version": "0.3.11"
  }
 },
 "nbformat": 4,
 "nbformat_minor": 0
}
