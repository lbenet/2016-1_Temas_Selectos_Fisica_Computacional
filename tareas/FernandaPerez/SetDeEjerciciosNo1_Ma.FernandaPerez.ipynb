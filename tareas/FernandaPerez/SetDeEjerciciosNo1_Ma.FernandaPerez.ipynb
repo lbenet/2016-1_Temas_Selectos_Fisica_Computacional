{
 "cells": [
  {
   "cell_type": "markdown",
   "metadata": {},
   "source": [
    "# Ejercicio 1\n",
    "\n",
    "#### En clase vimos que la función `bits` permite ver la representación binaria de números de punto flotante (`Float64`) o de enteros (e.g., `Int64`). En particular, para números de punto flotante, el primer bit es el signo, los siguiente 11 son el *exponente* y el resto es la representación binaria (sin el 1 del principio), del número en cuestión.\n",
    "\n",
    "#### La pregunta es ¿qué significa el exponente?"
   ]
  },
  {
   "cell_type": "code",
   "execution_count": 3,
   "metadata": {
    "collapsed": false
   },
   "outputs": [
    {
     "data": {
      "text/plain": [
       "\"0011111111110000000000000000000000000000000000000000000000000000\""
      ]
     },
     "execution_count": 3,
     "metadata": {},
     "output_type": "execute_result"
    }
   ],
   "source": [
    "bits(1.0)"
   ]
  },
  {
   "cell_type": "markdown",
   "metadata": {},
   "source": [
    "Proviene de la representación del $1.0$ en notación de *punto flotante*.\n",
    "Queremos encontrar $d_0 \\dots, d_n$ tales que $1.0 = d_0. d_1 \\cdots d_n \\times 2^e$, en representación binaria.\n",
    "Cuando pasamos $1.0$ en binario tenemos: $d_0 = 1$, $d_1 = 0$, pudiendo escribir:\n",
    "\n",
    "$$1.0_{10} = 1.0_2 \\times 2^0$$\n",
    "\n",
    "Lo que que está del lado derecho del punto se conoce como *mantisa*.\n",
    "El exponente sobre el $2$ se llama *exponente* ($e$, para nuestro caso $e=0$).\n",
    "\n",
    "La notación de punto flotante es la siguiente:\n",
    "\n",
    "`1-bit del signo | 11-bits de exponente residual |52-bits de la mantisa`.\n",
    "\n",
    "donde el valor de *exponente residual* depende de la precisión que elijamos:\n",
    "\n",
    "1.Sencilla (32 bits):  \n",
    "    $127 + e$\n",
    "    \n",
    "2.Doble (64 btis):  \n",
    "    $1023 + e$.\n",
    "\n",
    "En nuestro caso, el número es positivo, luego el bit del signo es `0`. \n",
    "La mantisa es $0$.\n",
    "Y el exponente residual es $1023 + e = 1023 + 0 = 1023$.\n",
    "\n",
    "Escribimos este último numerote en binario, obteniendo el exponente residual: $01111111111$.\n",
    "\n",
    "Ponemos todo junto y obtenemos:\n",
    "\n",
    "`0|01111111111|00000000000000000000000000000000000000000000000000000`.\n",
    "\n"
   ]
  },
  {
   "cell_type": "markdown",
   "metadata": {},
   "source": [
    "# Ejercicio 2\n",
    "\n",
    "Para averiguar qué números $a$ y $b$, sumados o restados a $1.0$ satisfacen $1.0 + a = 1.0$ y $1.0 - b = 1.0$, siguiendo las recomendaciones del profesor Luis Benet, hice esto:"
   ]
  },
  {
   "cell_type": "code",
   "execution_count": 4,
   "metadata": {
    "collapsed": false
   },
   "outputs": [
    {
     "name": "stdout",
     "output_type": "stream",
     "text": [
      "El número pequeño que cumple a + 1.0 = 1.0 es  1"
     ]
    }
   ],
   "source": [
    "a = 1.0\n",
    "\n",
    "pregunta = true\n",
    "\n",
    "while pregunta\n",
    "    a = a*0.5\n",
    "    pregunta = (1.0 + a) > 1.0\n",
    "end\n",
    "println(\"El número pequeño que cumple a + 1.0 = 1.0 es  \", a)\n",
    "println(\"\\n ¿a + 1.0 > 1.0 ? \\n Respuesta:\", pregunta)\n"
   ]
  },
  {
   "cell_type": "code",
   "execution_count": 5,
   "metadata": {
    "collapsed": false
   },
   "outputs": [],
   "source": [
    "b = 1.0\n",
    "\n",
    "pregunta = true\n",
    "\n",
    "while pregunta\n",
    "    b = b*0.5\n",
    "    pregunta = (1.0 - b) < 1.0\n",
    "end\n",
    "println(\"El número pequeño que cumple 1.0 -b = 1.0 es  \", b)\n",
    "println(\"\\n ¿1.0 - b < 1.0 ? \\n Respuesta:\", pregunta)"
   ]
  },
  {
   "cell_type": "markdown",
   "metadata": {},
   "source": [
    "Buscando en Wikipedia, encontré algo relacionado con el *épsilon de la máquina*; una cantidad que satisface la relación $1.0 + \\epsilon = 0$ y que caracteriza el error de redondeo en la representación binaria de punto flotante.\n",
    "\n",
    "En el repositorio de github de JuliaLang <https://github.com/JuliaLang/julia/blob/master/doc/manual/integers-and-floating-point-numbers.rst> encontré una función que devuelve la distancia entre 1.0 y el siguiente número mayor representable por la máquina, checando tenemos:"
   ]
  },
  {
   "cell_type": "code",
   "execution_count": 6,
   "metadata": {
    "collapsed": false
   },
   "outputs": [
    {
     "data": {
      "text/plain": [
       "2.220446049250313e-16"
      ]
     },
     "execution_count": 6,
     "metadata": {},
     "output_type": "execute_result"
    }
   ],
   "source": [
    "eps(1.0)"
   ]
  },
  {
   "cell_type": "markdown",
   "metadata": {},
   "source": [
    "El procedimiento realizado con anterioridad nos aproxima linealmente a éste valor `eps`. Si corroboramos:"
   ]
  },
  {
   "cell_type": "code",
   "execution_count": 7,
   "metadata": {
    "collapsed": false
   },
   "outputs": [
    {
     "name": "stdout",
     "output_type": "stream",
     "text": [
      ".1102230246251565e-16\n",
      "\n",
      " ¿a + 1.0 > 1.0 ? \n",
      " Respuesta:false\n",
      "El número pequeño que cumple 1.0 -b = 1.0 es  5.551115123125783e-17\n",
      "\n",
      " ¿1.0 - b < 1.0 ? \n",
      " Respuesta:false\n",
      "1.0"
     ]
    }
   ],
   "source": [
    "println(1.0 + a)\n",
    "println(1.0 - b)"
   ]
  },
  {
   "cell_type": "markdown",
   "metadata": {},
   "source": [
    "Y el número más inmediato que sigue 1.0 *dentro de la máquina* es:"
   ]
  },
  {
   "cell_type": "code",
   "execution_count": 8,
   "metadata": {
    "collapsed": false
   },
   "outputs": [],
   "source": [
    "println(1.0 + eps(1.0))"
   ]
  },
  {
   "cell_type": "markdown",
   "metadata": {},
   "source": [
    "# Ejercicio 3\n",
    "\n",
    "## Primera Aproximación de una Función Derivada:\n",
    "\n",
    "$$\n",
    "\\frac{\\Delta f(x)}{\\Delta x}(x_0) = \\frac{f(x_0+h)-f(x_0)}{h}\n",
    "$$"
   ]
  },
  {
   "cell_type": "markdown",
   "metadata": {},
   "source": [
    "#### Funcion Polinómica\n",
    "\n",
    "Primero definiremos una función payasa que denominaremos: prueba y definida como:\n",
    "$$P(x) = x^2 + 2x + 1 $$\n",
    "Calcula un polinomio de grado en el punto x y la utilizaré para probar la derivada numérica que queremos calcular.\n"
   ]
  },
  {
   "cell_type": "code",
   "execution_count": 9,
   "metadata": {
    "collapsed": false
   },
   "outputs": [],
   "source": [
    "function P(x)\n",
    "    prueba = x^2 + 2x + 1\n",
    "    return prueba\n",
    "end\n",
    "\n",
    "println(P(2))"
   ]
  },
  {
   "cell_type": "markdown",
   "metadata": {},
   "source": [
    "Sabemos cuál es la expresión analítica de $\\frac{dP}{dx}(x) $:\n",
    "$$P(x) = 2x + 2$$\n",
    "También podemos implementar ésta función que llamaremos **dP**:"
   ]
  },
  {
   "cell_type": "code",
   "execution_count": 10,
   "metadata": {
    "collapsed": false
   },
   "outputs": [
    {
     "data": {
      "text/plain": [
       "dP (generic function with 1 method)"
      ]
     },
     "execution_count": 10,
     "metadata": {},
     "output_type": "execute_result"
    }
   ],
   "source": [
    "function dP(x)\n",
    "    dprueba = 2*x + 2\n",
    "    return dprueba\n",
    "end"
   ]
  },
  {
   "cell_type": "markdown",
   "metadata": {},
   "source": [
    "La función **derivada1**  recibirá los parámetros *(f, x0, h)* (en donde f es la función a evaluar; x0 el punto en donde será calculada la derivada y h el parámetro de la derivada)."
   ]
  },
  {
   "cell_type": "code",
   "execution_count": 11,
   "metadata": {
    "collapsed": false
   },
   "outputs": [
    {
     "data": {
      "text/plain": [
       "derivada1 (generic function with 1 method)"
      ]
     },
     "execution_count": 11,
     "metadata": {},
     "output_type": "execute_result"
    }
   ],
   "source": [
    "function derivada1(f, x0, h)\n",
    "    dfdx = ((f(x0 + h) - f(x0))/h)\n",
    "    \n",
    "    return dfdx\n",
    "end    "
   ]
  },
  {
   "cell_type": "markdown",
   "metadata": {},
   "source": [
    "Evaluamos la función de prueba $P(x)$  y su derivada, que obtuvimos analíticamente, en en un punto; el que sea... qué tal...\n",
    "        $$\\alpha = 2.0 $$"
   ]
  },
  {
   "cell_type": "code",
   "execution_count": 12,
   "metadata": {
    "collapsed": false
   },
   "outputs": [
    {
     "name": "stdout",
     "output_type": "stream",
     "text": [
      "\n",
      "1.0\n",
      "1.0000000000000002\n",
      "9\n",
      "* La funcion prueba P(x) es: 9"
     ]
    }
   ],
   "source": [
    "α = 2.0\n",
    "println(\"* La funcion prueba P(x) es: \", P(α))\n",
    "println(\"* Su derivada en el punto α) es: \", dP(α))"
   ]
  },
  {
   "cell_type": "markdown",
   "metadata": {},
   "source": [
    "Parece que tiene mucho sentido.\n",
    "Ahora vamos a probar en la derivada que nosotros construimos, para una $h = 0.01$."
   ]
  },
  {
   "cell_type": "code",
   "execution_count": 13,
   "metadata": {
    "collapsed": false
   },
   "outputs": [
    {
     "data": {
      "text/plain": [
       "6.009999999999849"
      ]
     },
     "execution_count": 13,
     "metadata": {},
     "output_type": "execute_result"
    }
   ],
   "source": [
    "DerivadaNumerica = derivada1(P, α, 0.01)"
   ]
  },
  {
   "cell_type": "markdown",
   "metadata": {},
   "source": [
    "Probamos para varios valores de $h$..."
   ]
  },
  {
   "cell_type": "code",
   "execution_count": 14,
   "metadata": {
    "collapsed": false
   },
   "outputs": [],
   "source": [
    "H = [1:6]*0.0001\n",
    "DerivadaNumerica = 0.\n",
    "Derivadas1_P = Float32[]\n",
    "\n",
    "\n",
    "for h in H\n",
    "    DerivadaNumerica = derivada1(P, α, h)\n",
    "    push!(Derivadas1_P, DerivadaNumerica)\n",
    "    println(\"* Para  \", h,\" la el valor de la derivada numerica es:\", DerivadaNumerica)\n",
    "end"
   ]
  },
  {
   "cell_type": "markdown",
   "metadata": {},
   "source": [
    "#### Función Trascendental\n",
    "Probemos ahora con una función transcendental:\n",
    "$$T(x) = sin(x) + e^{-x}$$\n",
    "Cuya derivada podemos obtener como:\n",
    "$$\\frac{dT}{dx}(x) = cos(x) - e^{-x}$$\n",
    "\n",
    "Implentamos estas funciones:"
   ]
  },
  {
   "cell_type": "code",
   "execution_count": 15,
   "metadata": {
    "collapsed": false
   },
   "outputs": [
    {
     "data": {
      "text/plain": [
       "dT (generic function with 1 method)"
      ]
     },
     "execution_count": 15,
     "metadata": {},
     "output_type": "execute_result"
    }
   ],
   "source": [
    "#Funcion trascendental\n",
    "function T(x)\n",
    "    return sin(x) + e^(-x)\n",
    "end\n",
    "\n",
    "#Derivada\n",
    "function dT(x)\n",
    "    return cos(x) - e^(-x)\n",
    "end"
   ]
  },
  {
   "cell_type": "markdown",
   "metadata": {},
   "source": [
    "Y evaluamos en otro punto arbitrario... ahora que sea:\n",
    "$$\\beta = 9.8$$"
   ]
  },
  {
   "cell_type": "code",
   "execution_count": 16,
   "metadata": {
    "collapsed": false
   },
   "outputs": [],
   "source": [
    "β = 2.0\n",
    "println(\"* La funcion prueba T(x) es: \", T(β))\n",
    "println(\"* Su derivada en el punto β) es: \", dT(β))"
   ]
  },
  {
   "cell_type": "markdown",
   "metadata": {},
   "source": [
    "Repitamos ahora el procedimiento anterior; evaluemos nuestra definición de derivada **derivada1** en el mismo punto $\\beta$ y comparemos el valor resultante con el del obtenido de forma analítica."
   ]
  },
  {
   "cell_type": "code",
   "execution_count": 17,
   "metadata": {
    "collapsed": false,
    "scrolled": true
   },
   "outputs": [],
   "source": [
    "DerivadaNumerica = 0.\n",
    "Derivadas1_T = Float32[]\n",
    "\n",
    "for h in H\n",
    "    DerivadaNumerica = derivada1(T, β, h)\n",
    "    push!(Derivadas1_T, DerivadaNumerica)\n",
    "    println(\"* Para  \", h,\" la el valor de la derivada numerica es:\", DerivadaNumerica)\n",
    "end"
   ]
  },
  {
   "cell_type": "markdown",
   "metadata": {},
   "source": [
    "## ¿Qué onda con los Errores?"
   ]
  },
  {
   "cell_type": "markdown",
   "metadata": {},
   "source": [
    "Para estimar *qué tan bueno es nuestro método*, tenemos varias opciones.\n",
    "Una de ellas es por medio del Teorema de Taylor. Wikipedia habla sobre esto y nos informa sobre el orden de error de la formulita que implementamos en **derivada1**: Tiene un orden de error $\\Omega$ de ~$\\Omega(h)$. Tendríamos que usar valores de $h$ verdaderamente pequeños para conseguir valores aceptables.\n",
    "\n",
    "Una forma más cualitativa de ver la dependencia del error $E$ de $h$ es utilizar los valores que obtuvimos para distintos valores de $h$ (y que convenientemente guardamos en los arreglos `Derivadas1_P` y `Derivadas1_T`) para calcuar el error relativo:\n",
    "$$E(h) = \\frac{|derivada1(h) - df(x)| }{df(x)}$$\n",
    "donde $f(x)$ serán $P(x)$ y $T(x)$, respectivamente."
   ]
  },
  {
   "cell_type": "code",
   "execution_count": 39,
   "metadata": {
    "collapsed": false
   },
   "outputs": [
    {
     "data": {
      "text/plain": [
       "E_t (generic function with 1 method)"
      ]
     },
     "execution_count": 39,
     "metadata": {},
     "output_type": "execute_result"
    }
   ],
   "source": [
    "#Para el polinomio\n",
    "function E_p(derivada, x0, h)\n",
    "    e = abs(derivada(P,x0,h) - dP(x0)/dP(x0))\n",
    "    return e\n",
    "end\n",
    "\n",
    "#Para la trascendental\n",
    "function E_t(derivada, x0, h)\n",
    "    e = abs(derivada(T,x0,h) - dT(x0)/dT(x0))\n",
    "    return e\n",
    "end"
   ]
  },
  {
   "cell_type": "markdown",
   "metadata": {},
   "source": [
    "Definimos unas listas para guardar esos resultados e iteramos para conocer los errores en el punto $\\alpha$ y en el punto $\\beta$; proponemos también un intervalo de valores de $h$: $h \\in \\left[ 1 \\times 10^{-7}, 1 \\times 10^{-1} \\right]$."
   ]
  },
  {
   "cell_type": "code",
   "execution_count": 48,
   "metadata": {
    "collapsed": false
   },
   "outputs": [],
   "source": [
    "H =[1e-7:1e-2:2e-1]\n",
    "\n",
    "Errores_P = Float64[]\n",
    "Errores_T = Float64[]\n",
    "\n",
    "ErrorP = 0.\n",
    "ErrorT = 0.\n",
    "\n",
    "for i in H\n",
    "    ErrorP = E_p(derivada1, α, i)\n",
    "    push!(Errores_P, ErrorP)\n",
    "    ErrorT = E_t(derivada1, β, i)\n",
    "    push!(Errores_T, ErrorT)\n",
    "    #println(\"h = \", i, \". Error = \", ErrorP, \".\" )\n",
    "end"
   ]
  },
  {
   "cell_type": "code",
   "execution_count": 49,
   "metadata": {
    "collapsed": false
   },
   "outputs": [
    {
     "data": {
      "text/plain": [
       "(20,)"
      ]
     },
     "execution_count": 49,
     "metadata": {},
     "output_type": "execute_result"
    }
   ],
   "source": [
    "using PyPlot\n",
    "size(Errores_T)"
   ]
  },
  {
   "cell_type": "code",
   "execution_count": 50,
   "metadata": {
    "collapsed": false
   },
   "outputs": [
    {
     "data": {
      "image/png": "[encoded data removed]",
      "text/plain": [
       "PyPlot.Figure(PyObject <matplotlib.figure.Figure object at 0x31ad32290>)"
      ]
     },
     "metadata": {},
     "output_type": "display_data"
    },
    {
     "data": {
      "text/plain": [
       "PyObject <matplotlib.legend.Legend object at 0x31c8bc790>"
      ]
     },
     "execution_count": 50,
     "metadata": {},
     "output_type": "execute_result"
    }
   ],
   "source": [
    "plot(H, Errores_P,color = \"plum\",marker=\".\", label=\"Error relativo\")\n",
    "xlabel(\"h\")\n",
    "ylabel(\"E(h)\")\n",
    "title(\"Grafico de Errores relativos para la aproximación numerica de la derivada de P(x)\")\n",
    "Ax = axis(\"tight\")\n",
    "plt.legend()"
   ]
  },
  {
   "cell_type": "markdown",
   "metadata": {},
   "source": [
    "La relación entre $h$ y $E(h)$ es lineal y, cuando $h \\rightarrow 0$, también $E(h) \\rightarrow 0$.\n",
    "\n",
    "Ahora haremos lo mismo para la función Transcendental $T(x)$."
   ]
  },
  {
   "cell_type": "code",
   "execution_count": 52,
   "metadata": {
    "collapsed": false
   },
   "outputs": [
    {
     "data": {
      "image/png": "[encoded data removed]",
      "text/plain": [
       "PyPlot.Figure(PyObject <matplotlib.figure.Figure object at 0x31cb18050>)"
      ]
     },
     "metadata": {},
     "output_type": "display_data"
    },
    {
     "data": {
      "text/plain": [
       "PyObject <matplotlib.legend.Legend object at 0x31cd3d550>"
      ]
     },
     "execution_count": 52,
     "metadata": {},
     "output_type": "execute_result"
    }
   ],
   "source": [
    "plot(H, Errores_T,color = \"pink\",marker=\".\", label=\"Error relativo\")\n",
    "xlabel(\"h\")\n",
    "ylabel(\"E(h)\")\n",
    "title(\"Grafico de Errores relativos para la aproximación numerica de la derivada de T(x)\")\n",
    "Ax = axis(\"tight\")\n",
    "plt.legend()"
   ]
  },
  {
   "cell_type": "markdown",
   "metadata": {},
   "source": [
    "Observamos el mismo comportamiento: Lineal y con $\\lim_{h \\rightarrow 0} E(h) = 0$."
   ]
  },
  {
   "cell_type": "markdown",
   "metadata": {},
   "source": [
    "Consideremos ahora una función arbitraria definida por el usuario como $f(x)$.\n",
    "Para determinar la derivada numérica como lo hemos estado haciendo, es necesario evaluar esta función en un intervalo de puntos."
   ]
  },
  {
   "cell_type": "code",
   "execution_count": 55,
   "metadata": {
    "collapsed": false
   },
   "outputs": [
    {
     "data": {
      "text/plain": [
       "901-element Array{Float64,1}:\n",
       "  1.0 \n",
       "  1.01\n",
       "  1.02\n",
       "  1.03\n",
       "  1.04\n",
       "  1.05\n",
       "  1.06\n",
       "  1.07\n",
       "  1.08\n",
       "  1.09\n",
       "  1.1 \n",
       "  1.11\n",
       "  1.12\n",
       "  ⋮   \n",
       "  9.89\n",
       "  9.9 \n",
       "  9.91\n",
       "  9.92\n",
       "  9.93\n",
       "  9.94\n",
       "  9.95\n",
       "  9.96\n",
       "  9.97\n",
       "  9.98\n",
       "  9.99\n",
       " 10.0 "
      ]
     },
     "execution_count": 55,
     "metadata": {},
     "output_type": "execute_result"
    }
   ],
   "source": [
    "#Definimos:\n",
    "dX = 0.01\n",
    "X = [1:dX:10]"
   ]
  },
  {
   "cell_type": "markdown",
   "metadata": {},
   "source": [
    "Planteamos una función arbitraria del tipo cínico:\n",
    "$$f(x) = 2 e^{-x}$$\n",
    "Con derivada analítica:\n",
    "$$\\frac{df}{dx}(x) = -2e^{-x}$$"
   ]
  },
  {
   "cell_type": "code",
   "execution_count": 56,
   "metadata": {
    "collapsed": false
   },
   "outputs": [
    {
     "data": {
      "text/plain": [
       "dF (generic function with 1 method)"
      ]
     },
     "execution_count": 56,
     "metadata": {},
     "output_type": "execute_result"
    }
   ],
   "source": [
    "F(x) = 2*exp(-x)\n",
    "dF(x) = -2*exp(-x)"
   ]
  },
  {
   "cell_type": "markdown",
   "metadata": {},
   "source": [
    "Basta con construir un arreglo de puntos para evaluar la función.\n",
    "Yo elegiré un intervalo bastante pequeño porque quiero hacer evidente el error de orden $h$ entre el resultado analítico y el calculado por **derivada1**."
   ]
  },
  {
   "cell_type": "code",
   "execution_count": 57,
   "metadata": {
    "collapsed": false
   },
   "outputs": [
    {
     "data": {
      "text/plain": [
       "2001-element Array{Float64,1}:\n",
       " 0.0    \n",
       " 1.0e-5 \n",
       " 2.0e-5 \n",
       " 3.0e-5 \n",
       " 4.0e-5 \n",
       " 5.0e-5 \n",
       " 6.0e-5 \n",
       " 7.0e-5 \n",
       " 8.0e-5 \n",
       " 9.0e-5 \n",
       " 0.0001 \n",
       " 0.00011\n",
       " 0.00012\n",
       " ⋮      \n",
       " 0.01989\n",
       " 0.0199 \n",
       " 0.01991\n",
       " 0.01992\n",
       " 0.01993\n",
       " 0.01994\n",
       " 0.01995\n",
       " 0.01996\n",
       " 0.01997\n",
       " 0.01998\n",
       " 0.01999\n",
       " 0.02   "
      ]
     },
     "execution_count": 57,
     "metadata": {},
     "output_type": "execute_result"
    }
   ],
   "source": [
    "δX = 0.00001\n",
    "X = [0:δX:0.02]"
   ]
  },
  {
   "cell_type": "markdown",
   "metadata": {},
   "source": [
    "Y con hacer:"
   ]
  },
  {
   "cell_type": "code",
   "execution_count": 58,
   "metadata": {
    "collapsed": false
   },
   "outputs": [
    {
     "data": {
      "text/plain": [
       "2001-element Array{Float64,1}:\n",
       " -1.999  \n",
       " -1.99898\n",
       " -1.99896\n",
       " -1.99894\n",
       " -1.99892\n",
       " -1.9989 \n",
       " -1.99888\n",
       " -1.99886\n",
       " -1.99884\n",
       " -1.99882\n",
       " -1.9988 \n",
       " -1.99878\n",
       " -1.99876\n",
       "  ⋮      \n",
       " -1.95963\n",
       " -1.95961\n",
       " -1.95959\n",
       " -1.95957\n",
       " -1.95955\n",
       " -1.95954\n",
       " -1.95952\n",
       " -1.9595 \n",
       " -1.95948\n",
       " -1.95946\n",
       " -1.95944\n",
       " -1.95942"
      ]
     },
     "execution_count": 58,
     "metadata": {},
     "output_type": "execute_result"
    }
   ],
   "source": [
    "DerivadaF = derivada1(F, X, 0.001)"
   ]
  },
  {
   "cell_type": "markdown",
   "metadata": {},
   "source": [
    "Y a continuación comparamos nuestra solución analítica `dF(x)` con la obtenida mediante el método **derivada1** en `DerivadaF`:\n"
   ]
  },
  {
   "cell_type": "code",
   "execution_count": 23,
   "metadata": {
    "collapsed": false
   },
   "outputs": [
    {
     "data": {
      "image/png": "[encoded data removed]",
      "text/plain": [
       "PyPlot.Figure(PyObject <matplotlib.figure.Figure object at 0x322c4b7d0>)"
      ]
     },
     "metadata": {},
     "output_type": "display_data"
    },
    {
     "data": {
      "text/plain": [
       "PyObject <matplotlib.legend.Legend object at 0x322dbe610>"
      ]
     },
     "execution_count": 23,
     "metadata": {},
     "output_type": "execute_result"
    }
   ],
   "source": [
    "plot(X, DerivadaF,color=\"red\", label=\"Derivada obtenida numéricamente\")\n",
    "plot(X, dF(X), color = \"cyan\", linestyle=\"--\",marker=\"None\", label=\"Derivada Analitica\")\n",
    "#plot(X, F(X), color = \"plum\", linestyle=\"--\",marker=\"None\", label=\"Función Original\")\n",
    "xlabel(\"X\")\n",
    "ylabel(\"DerivadaF\")\n",
    "Ax = axis(\"tight\")\n",
    "plt.legend()"
   ]
  },
  {
   "cell_type": "markdown",
   "metadata": {},
   "source": [
    "# Ejercicio 4"
   ]
  },
  {
   "cell_type": "markdown",
   "metadata": {},
   "source": [
    "## Segunda Aproximación de Función Derivada:\n",
    "\n",
    "$$\n",
    "\\frac{\\Delta f(x)}{\\Delta x}(x_0) = \\frac{f(x_0+h)-f(x_0-h)}{2h}\n",
    "$$"
   ]
  },
  {
   "cell_type": "markdown",
   "metadata": {},
   "source": [
    "Definimos:"
   ]
  },
  {
   "cell_type": "code",
   "execution_count": 54,
   "metadata": {
    "collapsed": false
   },
   "outputs": [
    {
     "data": {
      "text/plain": [
       "derivada2 (generic function with 1 method)"
      ]
     },
     "execution_count": 54,
     "metadata": {},
     "output_type": "execute_result"
    }
   ],
   "source": [
    "function derivada2(g,x0,h)\n",
    "    dgdx = (g(x0 + h) - g(x0-h))/(2*h)\n",
    "    return dgdx\n",
    "end"
   ]
  },
  {
   "cell_type": "markdown",
   "metadata": {},
   "source": [
    "Y utilizamos la siguiente función de prueba:\n",
    "$$S(x) = sin(2x)$$\n",
    "con derivada analítica:\n",
    "$$ \\frac{dS}{dx}(x) = 2cos(2x)$$\n",
    "Implementamos ambas:"
   ]
  },
  {
   "cell_type": "code",
   "execution_count": 55,
   "metadata": {
    "collapsed": false
   },
   "outputs": [
    {
     "data": {
      "text/plain": [
       "dS (generic function with 1 method)"
      ]
     },
     "execution_count": 55,
     "metadata": {},
     "output_type": "execute_result"
    }
   ],
   "source": [
    "function S(x)\n",
    "    return sin(2*x)\n",
    "end\n",
    "function dS(x)\n",
    "    return 2*cos(2*x)\n",
    "end"
   ]
  },
  {
   "cell_type": "markdown",
   "metadata": {},
   "source": [
    " Y con el método de **derivada2** calculamos la derivada en un punto arbitrario, primero:\n",
    " $$\\gamma = 1.7$$"
   ]
  },
  {
   "cell_type": "code",
   "execution_count": 59,
   "metadata": {
    "collapsed": false
   },
   "outputs": [
    {
     "data": {
      "text/plain": [
       "-1.9335963851589222"
      ]
     },
     "execution_count": 59,
     "metadata": {},
     "output_type": "execute_result"
    }
   ],
   "source": [
    "γ=1.7\n",
    "dS(γ)"
   ]
  },
  {
   "cell_type": "markdown",
   "metadata": {},
   "source": [
    "Guardamos los errores relativos, calculados con la fórmula anterior."
   ]
  },
  {
   "cell_type": "code",
   "execution_count": 60,
   "metadata": {
    "collapsed": false
   },
   "outputs": [],
   "source": [
    "γ=1.7\n",
    "H =[1e-7:1e-2:2e-1]\n",
    "Errores_Derivada2 = Float64[]\n",
    "Error_D2 = 0\n",
    "\n",
    "for h in H\n",
    "    DerivadaS = derivada2(S, γ, h)\n",
    "    Error_D2 = abs((DerivadaS - dS(γ)) / dS(γ))\n",
    "    push!(Errores_Derivada2, Error_D2)\n",
    "end"
   ]
  },
  {
   "cell_type": "markdown",
   "metadata": {},
   "source": [
    "Graficando... (Hemos respetado el mismo rango de H's que para las gráficas anteriores.)"
   ]
  },
  {
   "cell_type": "code",
   "execution_count": 62,
   "metadata": {
    "collapsed": false
   },
   "outputs": [
    {
     "data": {
      "image/png": "[encoded data removed]",
      "text/plain": [
       "PyPlot.Figure(PyObject <matplotlib.figure.Figure object at 0x31cb0ec50>)"
      ]
     },
     "metadata": {},
     "output_type": "display_data"
    },
    {
     "data": {
      "text/plain": [
       "PyObject <matplotlib.legend.Legend object at 0x31d468710>"
      ]
     },
     "execution_count": 62,
     "metadata": {},
     "output_type": "execute_result"
    }
   ],
   "source": [
    "plot(H, Errores_Derivada2,color = \"orange\",marker=\".\", label=\"Error relativo\")\n",
    "xlabel(\"h\")\n",
    "ylabel(\"E(h)\")\n",
    "title(\"Grafico de Errores relativos para la segunda aproximación numerica de la derivada de S(x)\")\n",
    "Ax = axis(\"tight\")\n",
    "plt.legend()"
   ]
  },
  {
   "cell_type": "markdown",
   "metadata": {},
   "source": [
    "Ahora la relación ente $h$ y $E(h)$ ya no es lineal.\n",
    "El límite $\\lim_{h \\rightarrow 0} E(h) = 0$ se respeta, pero esta vez, el *desplome* del error $E$ tiene forma *cuadrática*.\n",
    "\n",
    "### ¿Por qué?\n",
    "\n",
    "El método descrito por:\n",
    "$$\n",
    "\\frac{\\Delta f(x)}{\\Delta x}(x_0) = \\frac{f(x_0+h)-f(x_0-h)}{2h}\n",
    "$$\n",
    "se conoce en la literatura como *Método de diferencias Centradas*.\n",
    "Considera incrementos de $h$ adelante y atrás del punto $f(x0)$, consiguiendo promediar dos métodos: uno de ellos utilizado en **derivada1**, el de *Diferencias Hacia Adelante*; y el de *Diferencias Hacia Atrás*.\n",
    "\n",
    "Esto nos permite obtener una estimación del del error en **derivada2** de:\n",
    "$$E(h) \\approx O(h^2)$$\n",
    "\n",
    "El método de **derivada2** tiene una mayor convergencia.\n"
   ]
  },
  {
   "cell_type": "markdown",
   "metadata": {},
   "source": [
    "# Referencias\n",
    "\n",
    "1. Super Wikipedia: <https://es.wikipedia.org/wiki/Derivaci%C3%B3n_num%C3%A9rica>"
   ]
  }
 ],
 "metadata": {
  "kernelspec": {
   "display_name": "Julia 0.4.0-dev",
   "language": "julia",
   "name": "julia-0.4"
  },
  "language_info": {
   "name": "julia",
   "version": "0.4.0"
  }
 },
 "nbformat": 4,
 "nbformat_minor": 0
}
