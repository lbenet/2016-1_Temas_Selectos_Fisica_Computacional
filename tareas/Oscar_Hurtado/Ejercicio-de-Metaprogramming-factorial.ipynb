{
 "cells": [
  {
   "cell_type": "markdown",
   "metadata": {},
   "source": [
    "#Ejercicio\n",
    "Implementar el factorial $m!$ utilizando metaprogramming."
   ]
  },
  {
   "cell_type": "code",
   "execution_count": 2,
   "metadata": {
    "collapsed": false
   },
   "outputs": [],
   "source": [
    "function factorial(m)\n",
    "    expresion= : m\n",
    "    valor = :($m)\n",
    "        for i in 1:m-1\n",
    "        expresion = :($expresion*(m-$i))\n",
    "        valor= :($valor*($m-$i))\n",
    "        end \n",
    "    expresion=:(m!=$expresion)\n",
    "    val=eval(valor)\n",
    "    println(\"El factorial de m=\",m,\" se expresa como \",expresion)\n",
    "    return val\n",
    "end;"
   ]
  },
  {
   "cell_type": "code",
   "execution_count": 3,
   "metadata": {
    "collapsed": false
   },
   "outputs": [
    {
     "name": "stdout",
     "output_type": "stream",
     "text": [
      "El factorial de m=3 se expresa como m != (m * (m - 1)) * (m - 2)\n"
     ]
    },
    {
     "data": {
      "text/plain": [
       "6"
      ]
     },
     "execution_count": 3,
     "metadata": {},
     "output_type": "execute_result"
    }
   ],
   "source": [
    "factorial(3)"
   ]
  },
  {
   "cell_type": "code",
   "execution_count": 4,
   "metadata": {
    "collapsed": false
   },
   "outputs": [
    {
     "name": "stdout",
     "output_type": "stream",
     "text": [
      "El factorial de m=6 se expresa como m != ((((m * (m - 1)) * (m - 2)) * (m - 3)) * (m - 4)) * (m - 5)\n"
     ]
    },
    {
     "data": {
      "text/plain": [
       "720"
      ]
     },
     "execution_count": 4,
     "metadata": {},
     "output_type": "execute_result"
    }
   ],
   "source": [
    "factorial(6)"
   ]
  },
  {
   "cell_type": "code",
   "execution_count": 9,
   "metadata": {
    "collapsed": false
   },
   "outputs": [
    {
     "name": "stdout",
     "output_type": "stream",
     "text": [
      "El factorial de m=29.0 se expresa como m != (((((((((((((((((((((((((((m * (m - 1.0)) * (m - 2.0)) * (m - 3.0)) * (m - 4.0)) * (m - 5.0)) * (m - 6.0)) * (m - 7.0)) * (m - 8.0)) * (m - 9.0)) * (m - 10.0)) * (m - 11.0)) * (m - 12.0)) * (m - 13.0)) * (m - 14.0)) * (m - 15.0)) * (m - 16.0)) * (m - 17.0)) * (m - 18.0)) * (m - 19.0)) * (m - 20.0)) * (m - 21.0)) * (m - 22.0)) * (m - 23.0)) * (m - 24.0)) * (m - 25.0)) * (m - 26.0)) * (m - 27.0)) * (m - 28.0)\n"
     ]
    },
    {
     "data": {
      "text/plain": [
       "8.841761993739701e30"
      ]
     },
     "execution_count": 9,
     "metadata": {},
     "output_type": "execute_result"
    }
   ],
   "source": [
    "factorial(29.0)"
   ]
  },
  {
   "cell_type": "code",
   "execution_count": 10,
   "metadata": {
    "collapsed": false
   },
   "outputs": [
    {
     "name": "stdout",
     "output_type": "stream",
     "text": [
      "El factorial de m=5 se expresa como m != (((m * (m - 1)) * (m - 2)) * (m - 3)) * (m - 4)\n"
     ]
    },
    {
     "data": {
      "text/plain": [
       "120"
      ]
     },
     "execution_count": 10,
     "metadata": {},
     "output_type": "execute_result"
    }
   ],
   "source": [
    "factorial(5)"
   ]
  }
 ],
 "metadata": {
  "kernelspec": {
   "display_name": "Julia 0.3.11",
   "language": "julia",
   "name": "julia-0.3"
  },
  "language_info": {
   "file_extension": ".jl",
   "mimetype": "application/julia",
   "name": "julia",
   "version": "0.3.11"
  }
 },
 "nbformat": 4,
 "nbformat_minor": 0
}
