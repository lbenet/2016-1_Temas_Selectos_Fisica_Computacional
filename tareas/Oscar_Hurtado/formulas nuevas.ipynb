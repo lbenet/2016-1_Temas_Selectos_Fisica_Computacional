{
 "cells": [
  {
   "cell_type": "markdown",
   "metadata": {},
   "source": [
    "Vamos a escribir las fórmulas que usaremos para el método de Taylor pero con **coeficientes empezando desde 1 en vez desde cero**. (Esto lo hice por comidad para trabajar con los índices de los arreglos definidos en Julia desde 1 y no desde 0). Dada una función $f(x)$ su desarrollo en Taylor será:\n",
    "\n",
    "$$ f(x)=\\sum_{k=1}^{\\infty}f_k (t-t_0)^{k-1}$$\n"
   ]
  },
  {
   "cell_type": "markdown",
   "metadata": {},
   "source": [
    "Siguiendo la ecuación diferencial $$ \\dot{x}=f(x,t) $$\n",
    "\n",
    "se tiene una relación de recurrencia para los coeficnietes de la solución $x(t)$ en función de los coeficientes de $f(x,t)$:\n",
    "\n",
    "$$ x_{k}=\\frac{f_{k-1}}{k-1}$$ "
   ]
  },
  {
   "cell_type": "markdown",
   "metadata": {},
   "source": [
    "con este cambio de notación, los coeficientes para una función elevada a una potencia $g(x)^a$ estarán dados por:\n",
    "\n",
    "$$(g^a)_{k}=\\frac{1}{g_1}\\sum_{i=2}^{k}\\left[ \\frac{a(i-1)-(k-i)}{k-1} \\right] g_i (g^a)_{k+1-i} $$ \n",
    "\n",
    "válida $\\forall i \\geq 2$\n",
    "\n",
    "para $i=1$ se tiene que $(g^a)_1=g_1^a$"
   ]
  },
  {
   "cell_type": "markdown",
   "metadata": {},
   "source": [
    "En donde los se ha supuesto que los coficientes de Taylor de la función $g(x)$ existen y además $g_1= g(t_0)\\neq 0$"
   ]
  },
  {
   "cell_type": "markdown",
   "metadata": {},
   "source": [
    "La ecuación diferencial a resolver es\n",
    "\n",
    "$$ \\dot{x}=x^2 \\ \\mbox{  con la condición inicial  } \\ x(t_0=0)=1 $$ "
   ]
  },
  {
   "cell_type": "markdown",
   "metadata": {},
   "source": [
    "Antes de atacar la ecuación diferencial, ataquemos el problema de elevar un polinomio $P(x)$ al cuadrado. Aquí a=2 y la ecuación para los coeficientes de trasnforma en \n",
    "\n",
    "$$ (p^2)_{k}=\\frac{1}{p_1}\\sum_{i=2}^{k}\\left[ \\frac{2(i-1)-(k-i)}{k-1} \\right] p_i (p^2)_{k+1-i} $$ \n",
    "\n",
    "válida para $k\\geq 2$\n",
    "\n",
    "para $k=1$ se tiene que $(p^2)_1=g_1^2$"
   ]
  },
  {
   "cell_type": "code",
   "execution_count": 3,
   "metadata": {
    "collapsed": false
   },
   "outputs": [
    {
     "name": "stdout",
     "output_type": "stream",
     "text": [
      "g(t) = a[1] + a[2] * t^1 + a[3] * t^2 + a[4] * t^3 + a[5] * t^4 + a[6] * t^5\n"
     ]
    },
    {
     "data": {
      "text/plain": [
       "g (generic function with 1 method)"
      ]
     },
     "execution_count": 3,
     "metadata": {},
     "output_type": "execute_result"
    }
   ],
   "source": [
    "#Polinomio de orden M con metaprogramming\n",
    "m=5\n",
    "ex=\"a[1]\"\n",
    "term=0\n",
    "for i in 2:m+1\n",
    "    term=string(\"+a[\",i,\"]\",\"*t^\",i-1)\n",
    "    ex=ex*term\n",
    "end\n",
    "pol=parse(ex)\n",
    "poli=:(g(t)=$pol)\n",
    "println(poli)\n",
    "eval(poli)\n",
    "#println(ex)\n",
    "#println(term)"
   ]
  },
  {
   "cell_type": "code",
   "execution_count": 4,
   "metadata": {
    "collapsed": true
   },
   "outputs": [],
   "source": [
    "a=zeros(m+1) #Defino los coeficientes del polinomio de grado m\n",
    "for i in 1:m+1\n",
    "    a[i]=1\n",
    "end "
   ]
  },
  {
   "cell_type": "code",
   "execution_count": 5,
   "metadata": {
    "collapsed": false
   },
   "outputs": [
    {
     "data": {
      "text/plain": [
       "6-element Array{Float64,1}:\n",
       " 1.0\n",
       " 1.0\n",
       " 1.0\n",
       " 1.0\n",
       " 1.0\n",
       " 1.0"
      ]
     },
     "execution_count": 5,
     "metadata": {},
     "output_type": "execute_result"
    }
   ],
   "source": [
    "a"
   ]
  },
  {
   "cell_type": "markdown",
   "metadata": {},
   "source": [
    "$$ (p^2)_{k}=\\frac{1}{p_1}\\sum_{i=2}^{k}\\left[ \\frac{2(i-1)-(k-i)}{k-1} \\right] p_i (p^2)_{k+1-i} $$ \n",
    "\n",
    "válida para $k\\geq 2$\n",
    "\n",
    "para $k=1$ se tiene que $(p^2)_1=g_1^2$"
   ]
  },
  {
   "cell_type": "code",
   "execution_count": 6,
   "metadata": {
    "collapsed": false
   },
   "outputs": [],
   "source": [
    "#celda que eleva al cuadrado el polinomio con la formula anterior \n",
    "n=2\n",
    "t0=0\n",
    "p2=zeros(n*m+1) #coeficientesde p^2\n",
    "p=zeros(n*m+1) #se necesita este arreglo por que el ciclo for corre desde 1 hasta 2m+1 para \n",
    "#calcular los coeficientes de g^2 y el arreglo \"a\" utilizado para definir al polinomio g es de \n",
    "#longitud m+1\n",
    "[p[i]=a[i] for i=1:m+1] \n",
    "p2[1]=p[1]^n\n",
    "for k in 2:length(p2)\n",
    "    suma=0\n",
    "    for i in 2:k\n",
    "        suma=suma+((2*(i-1)-(k-i))/(k-1))*p[i]*p2[k+1-i]\n",
    "    end \n",
    "    p2[k]=suma/p[1]\n",
    "end"
   ]
  },
  {
   "cell_type": "code",
   "execution_count": 7,
   "metadata": {
    "collapsed": false
   },
   "outputs": [
    {
     "data": {
      "text/plain": [
       "11-element Array{Float64,1}:\n",
       " 1.0\n",
       " 2.0\n",
       " 3.0\n",
       " 4.0\n",
       " 5.0\n",
       " 6.0\n",
       " 5.0\n",
       " 4.0\n",
       " 3.0\n",
       " 2.0\n",
       " 1.0"
      ]
     },
     "execution_count": 7,
     "metadata": {},
     "output_type": "execute_result"
    }
   ],
   "source": [
    "p2 "
   ]
  },
  {
   "cell_type": "code",
   "execution_count": 8,
   "metadata": {
    "collapsed": false
   },
   "outputs": [
    {
     "data": {
      "text/plain": [
       "g2 (generic function with 1 method)"
      ]
     },
     "execution_count": 8,
     "metadata": {},
     "output_type": "execute_result"
    }
   ],
   "source": [
    "ex=: \"p2[1]\"\n",
    "#ex=\"a[1]\"\n",
    "term=0\n",
    "for i in 2:2m+1\n",
    "    term=string(\"+\",p2[i],\"*t^\",i-1) #esto es un string\n",
    "    ex=ex*term\n",
    "end\n",
    "ex=parse(ex) #convertimos el string a expresion \n",
    "gcuad=: (g2(t)=$ex)\n",
    "eval(gcuad)"
   ]
  },
  {
   "cell_type": "code",
   "execution_count": 9,
   "metadata": {
    "collapsed": false
   },
   "outputs": [
    {
     "data": {
      "text/plain": [
       ":(g2(t) = p2[1] + 2.0 * t^1 + 3.0 * t^2 + 4.0 * t^3 + 5.0 * t^4 + 6.0 * t^5 + 5.0 * t^6 + 4.0 * t^7 + 3.0 * t^8 + 2.0 * t^9 + 1.0 * t^10)"
      ]
     },
     "execution_count": 9,
     "metadata": {},
     "output_type": "execute_result"
    }
   ],
   "source": [
    "gcuad"
   ]
  },
  {
   "cell_type": "markdown",
   "metadata": {
    "collapsed": true
   },
   "source": [
    "Para comprobar que nuestra función de elevar un polinomio al cuadrado está trabajando bien calcularemos:\n",
    "\n",
    "$$ (1-t)^2=1-2t+t^2$$ y\n",
    "$$ (3+4t)^2=9+24t+16t^2$$"
   ]
  },
  {
   "cell_type": "code",
   "execution_count": 8,
   "metadata": {
    "collapsed": false
   },
   "outputs": [],
   "source": [
    "a=[1,-1] #coeficientes del primer polinomio \n",
    "m=1 #grado del polinomio a elevar al cuadrado\n",
    "n=2\n",
    "p2=zeros(n*m+1) #coeficientesde p^2\n",
    "p=zeros(n*m+1) #se necesita este arreglo por que el ciclo for corre desde 1 hasta 2m+1 para \n",
    "#calcular los coeficientes de g^2 y el arreglo \"a\" utilizado para definir al polinomio g es de \n",
    "#longitud m+1\n",
    "[p[i]=a[i] for i=1:m+1] \n",
    "p2[1]=p[1]^n\n",
    "for k in 2:length(p2)\n",
    "    suma=0\n",
    "    for i in 2:k\n",
    "        suma=suma+((2*(i-1)-(k-i))/(k-1))*p[i]*p2[k+1-i]\n",
    "    end \n",
    "    p2[k]=suma/p[1]\n",
    "end"
   ]
  },
  {
   "cell_type": "code",
   "execution_count": 9,
   "metadata": {
    "collapsed": false
   },
   "outputs": [
    {
     "data": {
      "text/plain": [
       "3-element Array{Float64,1}:\n",
       "  1.0\n",
       " -2.0\n",
       "  1.0"
      ]
     },
     "execution_count": 9,
     "metadata": {},
     "output_type": "execute_result"
    }
   ],
   "source": [
    "p2 #coef. del primer binomio, esperamos que sean 1,-2,1"
   ]
  },
  {
   "cell_type": "code",
   "execution_count": 10,
   "metadata": {
    "collapsed": true
   },
   "outputs": [],
   "source": [
    "a=[3,4] # coeficientes del segundo binomio\n",
    "m=1 #grado del polinomio a elevar al cuadrado\n",
    "n=2\n",
    "p2=zeros(n*m+1) #coeficientesde p^2\n",
    "p=zeros(n*m+1) #se necesita este arreglo por que el ciclo for corre desde 1 hasta 2m+1 para \n",
    "#calcular los coeficientes de g^2 y el arreglo \"a\" utilizado para definir al polinomio g es de \n",
    "#longitud m+1\n",
    "[p[i]=a[i] for i=1:m+1] \n",
    "p2[1]=p[1]^n\n",
    "for k in 2:length(p2)\n",
    "    suma=0\n",
    "    for i in 2:k\n",
    "        suma=suma+((2*(i-1)-(k-i))/(k-1))*p[i]*p2[k+1-i]\n",
    "    end \n",
    "    p2[k]=suma/p[1]\n",
    "end"
   ]
  },
  {
   "cell_type": "code",
   "execution_count": 11,
   "metadata": {
    "collapsed": false
   },
   "outputs": [
    {
     "data": {
      "text/plain": [
       "3-element Array{Float64,1}:\n",
       "  9.0\n",
       " 24.0\n",
       " 16.0"
      ]
     },
     "execution_count": 11,
     "metadata": {},
     "output_type": "execute_result"
    }
   ],
   "source": [
    "p2  #coef. del segundo binomio cuadrado, esperamos que sean 9,24,16"
   ]
  },
  {
   "cell_type": "markdown",
   "metadata": {},
   "source": [
    "#Método de taylor para la ecuación diferencial."
   ]
  },
  {
   "cell_type": "markdown",
   "metadata": {
    "collapsed": true
   },
   "source": [
    "$\\dot{x}=x^2=f(x,t), $  con    $\\ x(t_0=0)=1=x_1$"
   ]
  },
  {
   "cell_type": "code",
   "execution_count": 17,
   "metadata": {
    "collapsed": false
   },
   "outputs": [],
   "source": [
    "N=30 #orden de aproximación a la seie de Taylor, ie, cuátons términos tendrá nuestro polinomio\n",
    "xjet=zeros(2N+1) #arreglos para los jets\n",
    "fjet=zeros(2N+1)\n",
    "ϵ=1e-16 #error que ocupamos para definir el paso de integración \n",
    "iter=500 #numero de iteraciones \n",
    "x=zeros(iter) #Arreglo en donde guardaremos los valores que se van calculando de la función x(t)\n",
    "t=zeros(iter) #arreglo de tiempos apra la solución\n",
    "t[1]=0\n",
    "x[1]=1  #condición inicial\n",
    "xjet[1]=x[1]\n",
    "h=0\n",
    "#----------------------------------\n",
    "function xaux(t) #esta función construye la serie de Taylor para x(t) a partir del arreglo xjet\n",
    "    suma=0 #podría intentar sustituir este polinomio usando el metodo de Horner para ser un\n",
    "    for i in 1:N+1 #poco mas eficiente\n",
    "        suma=suma+xjet[i]*t^(i-1)\n",
    "    end \n",
    "    return suma\n",
    "end \n",
    "#----------------------------------\n",
    "for j in 1:1#iter-1 #for que se utiliza para ir \"ajustando\" la condición inicial con el paso de integracion\n",
    "xjet[1]=xaux(t[j])\n",
    "fjet[1]=xjet[1]^2\n",
    "n=2\n",
    "p=zeros(2N+1)\n",
    "#p2=zeros(n*m+1) #coeficientesde p^2 será el arreglo fjet\n",
    "[p[i]=xjet[i] for i in 1:2N+1] #arreglo auxiliar para calcular los coeficientes \n",
    "    for k in 2:N+1\n",
    "        p[k]=fjet[k-1]/(k-1)\n",
    "        suma=0\n",
    "            for i in 2:k\n",
    "                suma=suma+((2*(i-1)-(k-i))/(k-1))*p[i]*fjet[k+1-i]\n",
    "            end \n",
    "    fjet[k]=suma/p[1]\n",
    "    end\n",
    "[xjet[i]=p[i] for i in 1:N+1] \n",
    "#--------Necesitamos definir el paso de integración--------\n",
    "h1=(ϵ/xjet[N])^(1/N)\n",
    "h2=(ϵ/xjet[N+1])^(1/(N+1))\n",
    "h=min(h1,h2)\n",
    "t[j+1]=t[j]+h\n",
    "x[j+1]=xaux(t[j]+h)    \n",
    "end\n"
   ]
  },
  {
   "cell_type": "code",
   "execution_count": 22,
   "metadata": {
    "collapsed": false
   },
   "outputs": [
    {
     "data": {
      "text/plain": [
       "0.0"
      ]
     },
     "execution_count": 22,
     "metadata": {},
     "output_type": "execute_result"
    }
   ],
   "source": [
    "fjet[32]"
   ]
  },
  {
   "cell_type": "code",
   "execution_count": 15,
   "metadata": {
    "collapsed": false
   },
   "outputs": [
    {
     "data": {
      "text/plain": [
       "1.1363636363636367"
      ]
     },
     "execution_count": 15,
     "metadata": {},
     "output_type": "execute_result"
    }
   ],
   "source": [
    "xaux(0.12)"
   ]
  },
  {
   "cell_type": "code",
   "execution_count": 13,
   "metadata": {
    "collapsed": false
   },
   "outputs": [
    {
     "data": {
      "text/plain": [
       "exacta (generic function with 1 method)"
      ]
     },
     "execution_count": 13,
     "metadata": {},
     "output_type": "execute_result"
    }
   ],
   "source": [
    "exacta(t)=-1/(t-1)"
   ]
  },
  {
   "cell_type": "code",
   "execution_count": 14,
   "metadata": {
    "collapsed": false
   },
   "outputs": [
    {
     "data": {
      "text/plain": [
       "1.1363636363636365"
      ]
     },
     "execution_count": 14,
     "metadata": {},
     "output_type": "execute_result"
    }
   ],
   "source": [
    "exacta(0.12)"
   ]
  },
  {
   "cell_type": "code",
   "execution_count": null,
   "metadata": {
    "collapsed": true
   },
   "outputs": [],
   "source": []
  }
 ],
 "metadata": {
  "kernelspec": {
   "display_name": "Julia 0.3.11",
   "language": "julia",
   "name": "julia-0.3"
  },
  "language_info": {
   "file_extension": ".jl",
   "mimetype": "application/julia",
   "name": "julia",
   "version": "0.3.11"
  }
 },
 "nbformat": 4,
 "nbformat_minor": 0
}
