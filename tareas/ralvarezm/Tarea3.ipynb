{
 "cells": [
  {
   "cell_type": "markdown",
   "metadata": {},
   "source": [
    "## Ejercicio 1:Relaciones de recurrencia."
   ]
  },
  {
   "cell_type": "code",
   "execution_count": null,
   "metadata": {
    "collapsed": false
   },
   "outputs": [],
   "source": [
    "using PyPlot"
   ]
  },
  {
   "cell_type": "markdown",
   "metadata": {},
   "source": [
    "#### Seno y coseno:\n",
    "\n",
    "Como vimos en clase, podemos expresar las series de Taylor de una función por medio de sus coeficientes:\n",
    "\n",
    "$$g(x)=\\sum_{k=0}^{\\infty}g_{k}(x-x_{0})^{k}$$\n",
    "\n",
    "De igual forma,podemos expresar una composición de $sen$ y $cos$ con $g(x)$ de la siguiente manera:\n",
    "\n",
    "$$\\sin(g(x))=\\sum_{k=0}^{\\infty}(\\sin g)_{k}(x-x_{0})^{k}$$\n",
    "\n",
    "$$\\cos(g(x))=\\sum_{k=0}^{\\infty}(\\cos g)_{k}(x-x_{0})^{k}$$\n",
    "\n"
   ]
  },
  {
   "cell_type": "markdown",
   "metadata": {},
   "source": [
    "Pero sabemos que por la regla de la cadena, si derivamos $sin(g(x))$ y $cos(g(x))$ respecto de $x$ obtenemos:\n",
    "\n",
    "$$\\frac{d}{dx}\\cos(g(x))=-g'(x)\\sin(g(x))$$\n",
    "\n",
    "$$\\frac{d}{dx}\\sin(g(x))=g'(x)\\cos(g(x))$$\n"
   ]
  },
  {
   "cell_type": "markdown",
   "metadata": {},
   "source": [
    "Podemos escribir a la derivada de $g(x)$ por medio de coeficientes de Taylor como:\n",
    "$$g'(x)=\\sum_{k=1}^{\\infty}kg_{k}(x-x_{0})^{k-1}$$\n",
    "Y entonces, sustituyendo en las ecuaciones de $sen(g(x))\\prime$ y $cos(g(x))\\prime$ que obtuvimos, tenemos que:"
   ]
  },
  {
   "cell_type": "markdown",
   "metadata": {},
   "source": [
    "$$\\frac{d}{dx}\\sin(g(x))=\\sum_{k=1}^{\\infty}k(\\sin g)_{k}(x-x_{0})^{k-1}$$\n",
    "\n",
    "$$\\frac{d}{dx}\\cos(g(x))=\\sum_{k=1}^{\\infty}k(\\cos g)_{k}(x-x_{0})^{k-1}$$"
   ]
  },
  {
   "cell_type": "markdown",
   "metadata": {},
   "source": [
    "Y como ya habíamos calculando la serie de recurrencia de $cos(g(x))$, $sen(g(x))$ y $g(x)$, sustituyendo en las ecuaciones anteriores obtenemos:"
   ]
  },
  {
   "cell_type": "markdown",
   "metadata": {},
   "source": [
    "$$\\sum_{k=1}^{\\infty}k(\\cos g)_{k}(x-x_{0})^{k-1}=-\\left(\\sum_{k=1}^{\\infty}kg_{k}(x-x_{0})^{k-1}\\right)\\left( \\sum_{k=0}^{\\infty}(\\sin g)_{k}(x-x_{0})^{k}\\right)$$\n",
    "$$\\sum_{k=1}^{\\infty}k(\\sin g)_{k}(x-x_{0})^{k-1}=\\left(\\sum_{k=1}^{\\infty}kg_{k}(x-x_{0})^{k-1}\\right)\\left( \\sum_{k=0}^{\\infty}(\\cos g)_{k}(x-x_{0})^{k}\\right)$$"
   ]
  },
  {
   "cell_type": "markdown",
   "metadata": {},
   "source": [
    "Multiplicamos por $(x-x_0)$ obtenemos:"
   ]
  },
  {
   "cell_type": "markdown",
   "metadata": {},
   "source": [
    "$$\\sum_{k=1}^{\\infty}k(\\cos g)_{k}(x-x_{0})^{k}=-\\left(\\sum_{k=1}^{\\infty}kg_{k}(x-x_{0})^{k}\\right)\\left( \\sum_{k=0}^{\\infty}(\\sin g)_{k}(x-x_{0})^{k}\\right)$$\n",
    "\n",
    "$$\\sum_{k=1}^{\\infty}k(\\sin g)_{k}(x-x_{0})^{k}=\\left(\\sum_{k=1}^{\\infty}kg_{k}(x-x_{0})^{k}\\right)\\left( \\sum_{k=0}^{\\infty}(\\cos g)_{k}(x-x_{0})^{k}\\right)$$"
   ]
  },
  {
   "cell_type": "markdown",
   "metadata": {},
   "source": [
    "Ahora, por el producto de Cauchy entre dos series, podemos obtener la expresión de los coeficientes (para $k\\in\\{1,..\\}$), tal y como se vio en clase:"
   ]
  },
  {
   "cell_type": "markdown",
   "metadata": {},
   "source": [
    "$$k(\\cos g)_{k}=-\\sum_{i=1}^{k}ig_{i}(\\sin g)_{k-i}$$\n",
    "\n",
    "$$k(\\sin g)_{k}=\\sum_{i=1}^{k}ig_{i}(\\cos g)_{k-i}$$\n"
   ]
  },
  {
   "cell_type": "markdown",
   "metadata": {},
   "source": [
    "Los términos correspondientes a $k=0$ están dados simplemente por: $\\cos(g_{0})$ y $\\sin(g_{0})$\n",
    "Por lo tanto, podemos escribir los coeficientes como:"
   ]
  },
  {
   "cell_type": "markdown",
   "metadata": {},
   "source": [
    "$$(\\cos g)_{k} =\n",
    "\\left\\{\n",
    "\t\\begin{array}{ll}\n",
    "        \\cos(g_{0}) & \\mbox{si } k = 0 \\\\\n",
    "\t\t-\\frac{1}{k}\\sum_{i=1}^{k}ig_{i}(\\sin g)_{k-i}  & \\mbox{si } k > 0\n",
    "\t\\end{array}\n",
    "\\right.$$\n",
    "\n",
    "$$(\\sin g)_{k} =\n",
    "\\left\\{\n",
    "\t\\begin{array}{ll}\n",
    "        \\sin(g_{0}) & \\mbox{si } k = 0 \\\\\n",
    "\t\t\\frac{1}{k}\\sum_{i=1}^{k}ig_{i}(\\cos g)_{k-i}  & \\mbox{si } k > 0\n",
    "\t\\end{array}\n",
    "\\right.$$"
   ]
  },
  {
   "cell_type": "markdown",
   "metadata": {},
   "source": [
    "#### Tangente y cotangente:"
   ]
  },
  {
   "cell_type": "markdown",
   "metadata": {},
   "source": [
    "Análogo a lo que se hizo para las funciones seno y coseno, tenemos que:\n",
    "$$\\tan(g(x))=\\sum_{k=0}^{\\infty}(\\tan g)_{k}(x-x_{0})^{k}$$\n",
    "\n",
    "$$\\cot(g(x))=\\sum_{k=0}^{\\infty}(\\cot g)_{k}(x-x_{0})^{k}$$"
   ]
  },
  {
   "cell_type": "markdown",
   "metadata": {},
   "source": [
    "Ahora, para la tangente, sabemos que $\\tan{x}=\\frac{\\sin{x}}{\\cos{x}}$, \n",
    "y entonces, para $k>0$, diviendo los coeficientes, obtenemos:\n",
    "\n",
    "$$\n",
    "(\\tan{g})_k = \\frac{1}{\\cos{g_0}} ((\\sin{g})_k - \\sum_{i=0}^{k-1}(\\tan{g})_i (\\cos{g})_{k-i})=\\frac{1}{\\cos{g_0}} (\\frac{1}{k}\\sum_{i=1}^k i\\cdot g_i (\\cos{g})_{k-1} - \\sum_{i=0}^{k-1}(\\tan{g})_i (\\cos{g})_{k-i})=\\frac{1}{g_0}(\\frac{k g_k (\\cos{g})_0}{k} + \\frac{1}{k} \\sum_{n=1}^{k-1} i \\cdot g_i (\\cos{g})_{k-i} - \\frac{1}{k} \\sum_{i=0}^{k-1}(\\tan{g})_i (\\cos(g))_{k-i})=\\frac{1}{\\cos{g_0}}(g_k \\cos{g_0} - \\frac{1}{k} ( (\\tan{g})_0 (\\cos{g})_k + \\sum_{i=1}^{k-1} \\{(\\tan{g})_i (\\cos{g})_{k-i} - i\\cdot g_i (\\cos{g})_{k-i} \\}) )=\\frac{1}{\\cos{g_0}}(g_k \\cos{g_0} - \\frac{1}{k} ( (\\tan{g})_0 (\\cos{g})_k + \\sum_{i=1}^{k-1} \\{((\\tan{g})_i- i\\cdot g_i ) (\\cos{g})_{k-i} \\}) )=\\frac{1}{\\cos{g_0}}(g_k \\cos{g_0} - \\frac{1}{k}  \\sum_{i=0}^{k-1} \\{((\\tan{g})_i- i\\cdot g_i ) (\\cos{g})_{k-i} \\} )$$\n",
    "$$=g_k  - \\frac{1}{k\\cdot\\cos{g_0}}  \\sum_{i=0}^{k-1} \\{((\\tan{g})_i- i\\cdot g_i ) (\\cos{g})_{k-i} \\}\n",
    "$$\n"
   ]
  },
  {
   "cell_type": "markdown",
   "metadata": {},
   "source": [
    "Y por lo tanto ,los coeficientes de tangente están dados por:\n",
    "$$\n",
    "(\\tan{g})_k = \\begin{cases} \\tan{g_0} &\\mbox{si } k = 0 \\\\\n",
    " g_k  - \\frac{1}{k\\cdot\\cos{g_0}}  \\sum_{i=0}^{k-1} \\{((\\tan{g})_i- i\\cdot g_i ) (\\cos{g})_{k-i} \\}  & \\mbox{si } k > 0 \\end{cases} \n",
    "$$"
   ]
  },
  {
   "cell_type": "markdown",
   "metadata": {},
   "source": [
    "Finalmente, para la serie de cotangente, como $cot(x)=\\frac{cos(x)}{sen(x)}$, tenemos que el procedimiento es practicamente análogo a lo realizado para la tangente, únicamente se sustituyen cosenos por senos, y cotangentes por cotangentes, y al final se obtiene que:"
   ]
  },
  {
   "cell_type": "markdown",
   "metadata": {},
   "source": [
    "$$(\\cot{g})_k = \\begin{cases} \\cot{g_0} &\\mbox{si } k = 0 \\\\\n",
    " g_k  - \\frac{1}{k\\cdot\\sin{g_0}}  \\sum_{i=0}^{k-1} \\{((\\cot{g})_i- i\\cdot g_i ) (\\sin{g})_{k-i} \\}  & \\mbox{si } k > 0 \\end{cases} $$"
   ]
  },
  {
   "cell_type": "markdown",
   "metadata": {},
   "source": [
    "Se observa pues que $(\\tan{g})_k$ y $(\\cot{g})_k$ no están definidos cuando $\\sin{g_0}=0$ o cuando $\\cos{g_0}=0$."
   ]
  },
  {
   "cell_type": "markdown",
   "metadata": {},
   "source": [
    "## Ejercicio 2: Runge-Kutta de cuarto orden:"
   ]
  },
  {
   "cell_type": "markdown",
   "metadata": {},
   "source": [
    "Se integrará la siguiente ecuación diferencial:\n",
    "$$ \\dot{x} = x^2$$\n",
    "Con la condición inicial:\n",
    "$$x(0) = 1$$ "
   ]
  },
  {
   "cell_type": "markdown",
   "metadata": {},
   "source": [
    "Para ello definimos la función rk4 que implementa el método de Runge-Kutta:"
   ]
  },
  {
   "cell_type": "code",
   "execution_count": null,
   "metadata": {
    "collapsed": false
   },
   "outputs": [],
   "source": [
    "function rk4(x0::Float64,f::Function,m::Int32,a::Float64,b::Float64)\n",
    "    \n",
    "    x = Float64[]  #Creamos 2 arreglos de flotantes\n",
    "    t = Float64[]\n",
    "    \n",
    "    push!(x,x0)   #Anexamos x0 al arreglo x\n",
    "    push!(t,a)    #Anexamos a al arreglo t   \n",
    "  \n",
    "    delt=(b-a)/m  #Tamaño de cada subpartición\n",
    "    for n in 1:m+1\n",
    "        k1=delt*f(x[n]) #Se calculan los coeficientes del método de runge kutta\n",
    "        k2=delt*f(x[n]+k1/2)\n",
    "        k3=delt*f(x[n]+k2/2)\n",
    "        k4=delt*f(x[n]+k3)\n",
    "        \n",
    "        push!(t,t[n] + delt)  #Se va creando el arreglo de t+dt\n",
    "        \n",
    "        push!(x,x[n]+k1/6+k2/3+k3/3+k4/6) #En cada iteracion vamos anexando la suma de coeficientes a x\n",
    "        \n",
    "    end\n",
    "    \n",
    "   \n",
    "    return t,x \n",
    "    \n",
    "end"
   ]
  },
  {
   "cell_type": "markdown",
   "metadata": {},
   "source": [
    "Vemos que la solución analítica es:\n",
    "$$x(t)=\\frac{1}{1-t}$$\n",
    "\n",
    "Se observa que $x(t)$ está indefinida cuando $t=1$. Por ello, probaremos nuestra función en el interior del intervalo $[0,1]$:"
   ]
  },
  {
   "cell_type": "code",
   "execution_count": null,
   "metadata": {
    "collapsed": false
   },
   "outputs": [],
   "source": [
    "g(x)=x^2   #Definimos la función x^2\n",
    "w(t)=1.0/(1.0-t)  #Definimos la función de la solución analítica para comparar gŕáficas\n",
    "v1,v2=rk4(1.0,g,1000000,0.01,0.999) #Se integra en el intervalo (0.01,0.99)\n",
    "v3=[w(t) for t in v1]  #Vector para graficar la sol. analítica en los mismos puntos"
   ]
  },
  {
   "cell_type": "markdown",
   "metadata": {},
   "source": [
    "Graficamos:"
   ]
  },
  {
   "cell_type": "code",
   "execution_count": 36,
   "metadata": {
    "collapsed": false
   },
   "outputs": [
    {
     "data": {
      "image/png": "[encoded data removed]",
      "text/plain": [
       "Figure(PyObject <matplotlib.figure.Figure object at 0xae08a74c>)"
      ]
     },
     "metadata": {},
     "output_type": "display_data"
    },
    {
     "data": {
      "text/plain": [
       "4-element Array{Int32,1}:\n",
       "   0\n",
       "   1\n",
       "   0\n",
       " 200"
      ]
     },
     "execution_count": 36,
     "metadata": {},
     "output_type": "execute_result"
    }
   ],
   "source": [
    "plot(v1,v2,label=\"rk4\")\n",
    "plot(v1,v3, label=\"Solución analítica\")\n",
    "legend(loc=2)\n",
    "xlabel(L\"t\")\n",
    "ylabel(L\"x(t)\")\n",
    "axis([0,1,0,200])"
   ]
  },
  {
   "cell_type": "markdown",
   "metadata": {
    "collapsed": false
   },
   "source": [
    "Se observa que entre más nos acercamos a t=1, el error crece. \n",
    "Graficamos el error:\n",
    " "
   ]
  },
  {
   "cell_type": "code",
   "execution_count": 37,
   "metadata": {
    "collapsed": false
   },
   "outputs": [
    {
     "data": {
      "image/png": "[encoded data removed]",
      "text/plain": [
       "Figure(PyObject <matplotlib.figure.Figure object at 0xae31c86c>)"
      ]
     },
     "metadata": {},
     "output_type": "display_data"
    },
    {
     "data": {
      "text/plain": [
       "PyObject <matplotlib.text.Text object at 0xa66aae8c>"
      ]
     },
     "execution_count": 37,
     "metadata": {},
     "output_type": "execute_result"
    }
   ],
   "source": [
    "eps=v3-v2\n",
    "plot(v1,eps)\n",
    "xlabel(L\"t\")\n",
    "ylabel(L\"eps(t)\")"
   ]
  },
  {
   "cell_type": "markdown",
   "metadata": {
    "collapsed": false
   },
   "source": [
    "En donde se observa claramente que el método de Runge-Kutta a orden 4 nos da una buena aproximación de la solución real, pero conforme nos acercamos a t=1, el error crece.\n",
    "\n",
    "Ahora integramos en el intervalo $[0,2]$, que como se observa contiene al punto de indeterminación, y graficamos:\n",
    "\n"
   ]
  },
  {
   "cell_type": "code",
   "execution_count": 38,
   "metadata": {
    "collapsed": false
   },
   "outputs": [
    {
     "data": {
      "text/plain": [
       "1000002-element Array{Any,1}:\n",
       "  1.0     \n",
       "  1.0     \n",
       "  1.0     \n",
       "  1.00001 \n",
       "  1.00001 \n",
       "  1.00001 \n",
       "  1.00001 \n",
       "  1.00001 \n",
       "  1.00002 \n",
       "  1.00002 \n",
       "  1.00002 \n",
       "  1.00002 \n",
       "  1.00002 \n",
       "  ⋮       \n",
       " -1.00002 \n",
       " -1.00002 \n",
       " -1.00002 \n",
       " -1.00001 \n",
       " -1.00001 \n",
       " -1.00001 \n",
       " -1.00001 \n",
       " -1.00001 \n",
       " -1.0     \n",
       " -1.0     \n",
       " -1.0     \n",
       " -0.999998"
      ]
     },
     "execution_count": 38,
     "metadata": {},
     "output_type": "execute_result"
    }
   ],
   "source": [
    "v11,v22=rk4(1.0,g,1000000,0.0,2.0) #Se integra en el intervalo [0,2]\n",
    "v33=[w(t) for t in v11]  #Vector para graficar la sol. analítica en los mismos puntos"
   ]
  },
  {
   "cell_type": "code",
   "execution_count": 39,
   "metadata": {
    "collapsed": false
   },
   "outputs": [
    {
     "data": {
      "image/png": "[encoded data removed]",
      "text/plain": [
       "Figure(PyObject <matplotlib.figure.Figure object at 0xae39654c>)"
      ]
     },
     "metadata": {},
     "output_type": "display_data"
    },
    {
     "data": {
      "text/plain": [
       "4-element Array{Int32,1}:\n",
       "   0\n",
       "   2\n",
       "   0\n",
       " 200"
      ]
     },
     "execution_count": 39,
     "metadata": {},
     "output_type": "execute_result"
    }
   ],
   "source": [
    "plot(v11,v22,label=\"rk4\")\n",
    "legend(loc=2)\n",
    "xlabel(L\"t\")\n",
    "ylabel(L\"x(t)\")\n",
    "axis([0,2,0,200])"
   ]
  },
  {
   "cell_type": "markdown",
   "metadata": {},
   "source": [
    "Se observa pues que rk4 no hace lo que esperamos, y ni siquiera grafica puntos después de la indeterminación en t=1"
   ]
  },
  {
   "cell_type": "markdown",
   "metadata": {
    "collapsed": false
   },
   "source": [
    "## Ejercicio 3:Integración por Taylor."
   ]
  },
  {
   "cell_type": "markdown",
   "metadata": {},
   "source": [
    "Definimos primero el tipo Taylor (gracias al trabajo de lololobo93 por esta idea, honestamente no sabía como continuar y prácticamente toda la primera parte del tipo Taylor estoy usando su trabajo), con el que podremos construir las series de Taylor:"
   ]
  },
  {
   "cell_type": "code",
   "execution_count": null,
   "metadata": {
    "collapsed": false
   },
   "outputs": [],
   "source": [
    "type Taylor{T<:Number}<:Number #Se define el tipo Taylor\n",
    "    coef::Array{T,1}  #Vector de coeficientes de la serie de Taylor\n",
    "    orden_Taylor::Int  #Nos indica el orden de la expansión de Taylor\n",
    "    \n",
    "    #Ahora se define una función dentro de Taylor\n",
    "    function Taylor(coef::Array{T,1}, orden_Taylor::Int)\n",
    "        card= length(coef) #Se obtiene el tamaño del vector de coeficientes\n",
    "        orden_Taylor=max(orden_Taylor,card-1) #Tomamos el máximo para evitar errores\n",
    "        orden_Taylor==card-1 && return new(coef,orden_Taylor) # Corregimos si es que las entradas no coinciden\n",
    "        resize!(coef,orden_Taylor+1) #Se ajusta el tamaño del vector de coeficientes\n",
    "        for i = card+1:orden_Taylor+1 #Volvemos 0 a los coeficientes sobrantes\n",
    "            coef[i] = zero(T)\n",
    "        end\n",
    "        new(coef,orden_Taylor) #Finalmente se obtiene el vector corregido\n",
    "    end\n",
    "end   "
   ]
  },
  {
   "cell_type": "markdown",
   "metadata": {},
   "source": [
    "Ahora, como en la tarea 2 de duales, vamos a tener que definir métodos para que el tipo Taylor interactúe de forma esperada con otros objetos:"
   ]
  },
  {
   "cell_type": "code",
   "execution_count": null,
   "metadata": {
    "collapsed": false
   },
   "outputs": [],
   "source": [
    "Taylor{T<:Number}(x::Taylor{T},orden_Taylor::Int)=Taylor{T}(x.coef,orden_Taylor) #Se define que pasa cuando se obtiene un Taylor de un Taylor y un nuevo orden de Taylor, solo se trunca hasta el orden especificado\n",
    "Taylor{T<:Number}(x::Taylor{T}) = x #Se define el Taylor de un Taylor\n",
    "Taylor{T<:Number}(coef::Array{T,1},orden_Taylor::Int) = Taylor{T}(coef,orden_Taylor) #El Taylor de un vector de coeficientes y un orden de expansión regresa un Taylor formado con esos coeficientes\n",
    "Taylor{T<:Number}(coef::Array{T,1}) = Taylor{T}(coef,length(coef)-1) #Al igual que el caso anterior pero se toma como orden a la cardinalidad del vector de coef.\n",
    "Taylor{T<:Number}(x::T,orden_Taylor::Int) = Taylor{T}([x],orden_Taylor) #Se define el Taylor de una variable\n",
    "Taylor{T<:Number}(x::T) = Taylor{T}([x],0) #Se define el Taylor de una constante"
   ]
  },
  {
   "cell_type": "markdown",
   "metadata": {},
   "source": [
    "Como necesitamos integrar la función $x^2$, necesitamos calcular la serie de Taylor de ella. Por lo tanto, necesitamos una función que obtenga el cuadrado de una serie de Taylor, que podemos definir de la siguiente manera:"
   ]
  },
  {
   "cell_type": "code",
   "execution_count": null,
   "metadata": {
    "collapsed": false
   },
   "outputs": [],
   "source": [
    "function cuad(T::Taylor)\n",
    "    orden_Taylor=T.orden_Taylor #Se pide el orden de Taylor de x\n",
    "    x0=T.coef[1] #la función evaluada en 0 es el primer coeficiente.\n",
    "    T2=Taylor(x0^2,orden_Taylor) #Se obtiene un nuevo Taylor con la condición inicial x0 elevada al cuadrado\n",
    "    \n",
    "    #Al igual que en el ejercicio 1, se obtiene la serie de recurrencia\n",
    "    for j in 1:orden_Taylor\n",
    "        suma=0.0\n",
    "        for i in 1:j\n",
    "            value=(1/x0)*((3*i/j)-1)*T.coef[i+1]*T2.coef[j-i+1] #Relación para obtener el la serie de Taylor\n",
    "            suma+=value\n",
    "            \n",
    "        end\n",
    "        T2.coef[j+1]=suma\n",
    "    end\n",
    "    return T2\n",
    "end\n",
    "    "
   ]
  },
  {
   "cell_type": "markdown",
   "metadata": {},
   "source": [
    "Vemos si esta función hace lo que esperamos.\n",
    "Si tenemos el siguiente polinomio:\n",
    "$$p(t)=x^3+x^2$$\n",
    "Entonces elevándolo al cuadrado se obtiene:\n",
    "$$p^2(t)=x^6+2x^5+x^4$$\n",
    "Vemos si nuestra función nos devuelve los coeficientes de éste polinomio:"
   ]
  },
  {
   "cell_type": "code",
   "execution_count": null,
   "metadata": {
    "collapsed": false
   },
   "outputs": [],
   "source": [
    "p(t)=x^3+x^2 #Definimos el polinomio\n",
    "z=Taylor([1,1,0,0],6)  #Obtenemos el Taylor del polinomio\n",
    "cuad(z)      #Elevamos al cuadrado el Taylor del polinomio"
   ]
  },
  {
   "cell_type": "markdown",
   "metadata": {},
   "source": [
    "Y vemos que los coeficientes obtenidos son correctos."
   ]
  },
  {
   "cell_type": "markdown",
   "metadata": {},
   "source": [
    "Ahora, sabemos que para una ecuación diferencial ordinaria de primer grado:\n",
    "$$\\dot x=f(x),  x(0)=x_0$$\n",
    "\n",
    "A pesar de solo conocer el primer coeficiente $x(0)=1$, como vimos en clase, podemos calcular los coeficientes restantes alrededor del cero usando la la serie de recurrencia:\n",
    "$$x_{k+1}=\\frac{f_k}{k+1}$$\n",
    "\n",
    "Ahora, incorporaremos en una función la fórmula anterior y obtendremos los coeficientes restantes:\n"
   ]
  },
  {
   "cell_type": "code",
   "execution_count": null,
   "metadata": {
    "collapsed": false
   },
   "outputs": [],
   "source": [
    "function get_coef(y0::Float64,orden_Taylor::Int)\n",
    "    T3=Taylor(y0,orden_Taylor) #Se obtiene un polinomio de Talor alrededor de y0\n",
    "    T3_2=cuad(T3) #Se eleva el taylor anterior al cuadrado\n",
    "    for i in 1:orden_Taylor\n",
    "        T3.coef[i+1]=T3_2.coef[i]/i #Aquí va la fórmula mencionada arriba\n",
    "        T3_2=cuad(T3)  #Calculamos el cuadrado de T3\n",
    "    end\n",
    "    return T3\n",
    "end"
   ]
  },
  {
   "cell_type": "markdown",
   "metadata": {},
   "source": [
    "El siguiente paso será definir una función que evalue un polinomio de Taylor en un dado t, usando el método de Horner en cada iteración:"
   ]
  },
  {
   "cell_type": "code",
   "execution_count": null,
   "metadata": {
    "collapsed": false
   },
   "outputs": [],
   "source": [
    "function evaluador(T,t)\n",
    "    card_T=length(T.coef) #Cardinalidad del vector de coeficientes\n",
    "    #Incorporamos el método de Horner:\n",
    "    S=T.coef[card_T]\n",
    "    for i in 1:card_T-1\n",
    "        S=S*t+T.coef[card_T-i]\n",
    "    end\n",
    "    return S\n",
    "end\n",
    "    "
   ]
  },
  {
   "cell_type": "markdown",
   "metadata": {},
   "source": [
    "Ahora lo que falta es resolver la ecuación diferencial(integrar).\n",
    "Como fue visto en clase, podemos definir el paso de integración como:\n",
    "$$dt=\\left(\\frac{1}{2} \\right)\\left(\\frac{\\epsilon}{|x_{n}|} \\right)^{1/n}$$\n",
    "\n",
    "$\\epsilon$ será un parámetro introducido por el usuario, $x_n$ es el n-ésimo coeficiente, $n$ también estará determinado por el usuario y $dt$ será el tamaño del paso de integración(del punto t al punto t+dt)."
   ]
  },
  {
   "cell_type": "code",
   "execution_count": 51,
   "metadata": {
    "collapsed": false
   },
   "outputs": [
    {
     "data": {
      "text/plain": [
       "Integracion (generic function with 2 methods)"
      ]
     },
     "execution_count": 51,
     "metadata": {},
     "output_type": "execute_result"
    }
   ],
   "source": [
    "function Integracion(y0::Float64,a::Float64,b::Float64,eps::Float64,ord_Taylor::Int,tmax::Int)\n",
    "    #a y b son los extremos del intervalo cerrado [a,b] donde integraremos\n",
    "    #y0 es tal que x(0)=y0, eps como ya se mencionó, será especificado por el usuario,\n",
    "    #ord_Taylor es el orden de la expansión de Taylor de la solución\n",
    "    t0=a  #Inicialmente t es a\n",
    "    x0=y0 #En un principio expandimos alrededor de y0\n",
    "    dt=0.0 #Inicializamos el paso de integración \n",
    "    j=1 #Contador\n",
    "    xT=zeros(Float64,tmax) #Aquí se guardarán la soluciónes\n",
    "    tT=zeros(Float64,tmax) #aqui van los valores de t\n",
    "    while t0<b && j<=tmax\n",
    "        xT[j]=x0   #Se depositan en los arreglos las cond. iniciales\n",
    "        tT[j]=t0\n",
    "        xcoef=get_coef(x0,ord_Taylor) #Se usa la función que definimos anteriormente\n",
    "        dt=(0.5)*((eps/abs(xcoef.coef[ord_Taylor-1]))^(1/ord_Taylor)) #Sustituimos la fórmula para el paso de int\n",
    "        x0=evaluador(xcoef,dt) #Nueva condición inicial\n",
    "        t0+=dt #Incrementamos t\n",
    "        j+=1 \n",
    "    end\n",
    "    return tT,xT\n",
    "end"
   ]
  },
  {
   "cell_type": "markdown",
   "metadata": {},
   "source": [
    "Finalmente integramos y graficamos:"
   ]
  },
  {
   "cell_type": "code",
   "execution_count": 52,
   "metadata": {
    "collapsed": false
   },
   "outputs": [
    {
     "data": {
      "text/plain": [
       "([0.0,0.107722,0.204205,0.290585,0.367884,0.437026,0.498843,0.554086,0.603431,0.647488  …  0.0,0.0,0.0,0.0,0.0,0.0,0.0,0.0,0.0,0.0],[1.0,1.12073,1.25661,1.40961,1.58199,1.77628,1.99538,2.24258,2.52163,2.83678  …  0.0,0.0,0.0,0.0,0.0,0.0,0.0,0.0,0.0,0.0])"
      ]
     },
     "execution_count": 52,
     "metadata": {},
     "output_type": "execute_result"
    }
   ],
   "source": [
    "const epsilon=1e-20\n",
    "v11,v22=Integracion(1.0,0.0,1.0,epsilon,30,1000) #Integramos hasta orden 30"
   ]
  },
  {
   "cell_type": "markdown",
   "metadata": {},
   "source": [
    "Comparamos con la solución analítica:"
   ]
  },
  {
   "cell_type": "code",
   "execution_count": 68,
   "metadata": {
    "collapsed": false
   },
   "outputs": [
    {
     "data": {
      "image/png": "[encoded data removed]",
      "text/plain": [
       "Figure(PyObject <matplotlib.figure.Figure object at 0xacc42b2c>)"
      ]
     },
     "metadata": {},
     "output_type": "display_data"
    },
    {
     "data": {
      "text/plain": [
       "4-element Array{Int32,1}:\n",
       "   0\n",
       "   1\n",
       "   0\n",
       " 200"
      ]
     },
     "execution_count": 68,
     "metadata": {},
     "output_type": "execute_result"
    }
   ],
   "source": [
    "va=[w(t) for t in v11]   #Evaluamos la sol. analítica en los mismos t\n",
    "plot(v11,v22,label=\"Taylor\")\n",
    "plot(v11,va, label=\"Solución analítica\")\n",
    "legend(loc=2)\n",
    "xlabel(L\"t\")\n",
    "ylabel(L\"x(t)\")\n",
    "axis([0,1,0,200])"
   ]
  },
  {
   "cell_type": "markdown",
   "metadata": {},
   "source": [
    "A primera vista parece más exacto que lo obtenido con rk4.\n",
    "Graficamos el error:"
   ]
  },
  {
   "cell_type": "code",
   "execution_count": 54,
   "metadata": {
    "collapsed": false
   },
   "outputs": [
    {
     "data": {
      "image/png": "[encoded data removed]",
      "text/plain": [
       "Figure(PyObject <matplotlib.figure.Figure object at 0xae04e54c>)"
      ]
     },
     "metadata": {},
     "output_type": "display_data"
    },
    {
     "data": {
      "text/plain": [
       "4-element Array{Int32,1}:\n",
       "  0\n",
       "  1\n",
       " -1\n",
       " 50"
      ]
     },
     "execution_count": 54,
     "metadata": {},
     "output_type": "execute_result"
    }
   ],
   "source": [
    "eps3=v22-va #Calculamos el error\n",
    "plot(v11,eps3)\n",
    "xlabel(L\"t\")\n",
    "ylabel(L\"error(t)\")\n",
    "axis([0,1,-1,50])\n",
    "\n"
   ]
  },
  {
   "cell_type": "markdown",
   "metadata": {},
   "source": [
    "Y se observa que a diferencia de rk4, no hay error en la aproximación hasta que llegamos al punto de indeterminación en t=1."
   ]
  },
  {
   "cell_type": "markdown",
   "metadata": {},
   "source": [
    "### Ejercicio 4: Recordatorio\n",
    "\n",
    "> Memoria minuitur nisi eam exerceas — La memoria disminuye si no la ejercitas (Marco Tulio Cicerón).\n",
    "\n",
    "Con tus palabras explica (sin utilizar muchas matemáticas) lo siguiente:\n",
    "\n",
    "* La esencia del método de integración de Taylor.\n",
    "* ¿Qué relación tiene con los duales?\n",
    "* ¿Cómo elegimos el paso de avance en el método de Taylor?\n",
    "* ¿Se pueden integrar sistemas de ecuaciones con este método? ¿Por qué?"
   ]
  },
  {
   "cell_type": "markdown",
   "metadata": {},
   "source": [
    "* La escencia del método de integración de Taylor es que éste construye la solución a una ecuación diferencial usando polinomios de Taylor localmente, empezando con la condición inicial. Después, el siguiente paso lo determina el mismo método,de tal forma que el paso de integración nunca se hace cero."
   ]
  },
  {
   "cell_type": "markdown",
   "metadata": {},
   "source": [
    "* El método de Taylor trabaja con coeficientes de polinomios, por lo tanto, podríamos crear vectores cuyas entradas fueran estos coeficientes y manejarlos a nuestro antojo, definiendo cualquier tipo de operación entre ellos, como se hizo en la tarea 2."
   ]
  },
  {
   "cell_type": "markdown",
   "metadata": {},
   "source": [
    "* En el método de Taylor, esto no es algo que esté desde el principio, sino que la partición se va construyendo al mismo tiempo que se construye la solución a la ecuación, por lo que únicamente depende de los parametros introducidos por el usuario (orden, epsilon, tmax, etc) y de la iteración anterior."
   ]
  },
  {
   "cell_type": "markdown",
   "metadata": {},
   "source": [
    "* Por clases de cálculo sabemos que las series de Taylor se pueden extender a n dimensiones, por lo que esto es posible."
   ]
  },
  {
   "cell_type": "code",
   "execution_count": null,
   "metadata": {
    "collapsed": true
   },
   "outputs": [],
   "source": []
  }
 ],
 "metadata": {
  "kernelspec": {
   "display_name": "Julia 0.3.10",
   "language": "julia",
   "name": "julia-0.3"
  },
  "language_info": {
   "name": "julia",
   "version": "0.3.10"
  }
 },
 "nbformat": 4,
 "nbformat_minor": 0
}
