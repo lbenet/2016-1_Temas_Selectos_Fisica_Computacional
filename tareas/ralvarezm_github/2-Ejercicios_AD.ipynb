{
 "cells": [
  {
   "cell_type": "markdown",
   "metadata": {},
   "source": [
    "## Ejercicio 2:"
   ]
  },
  {
   "cell_type": "markdown",
   "metadata": {},
   "source": [
    "Para responder a la primera pregunta, primero definimos 2 cadenas:"
   ]
  },
  {
   "cell_type": "code",
   "execution_count": 75,
   "metadata": {
    "collapsed": false
   },
   "outputs": [
    {
     "data": {
      "text/plain": [
       "\"Hola\""
      ]
     },
     "execution_count": 75,
     "metadata": {},
     "output_type": "execute_result"
    }
   ],
   "source": [
    "cadena_1=\"Hola\""
   ]
  },
  {
   "cell_type": "code",
   "execution_count": 76,
   "metadata": {
    "collapsed": false
   },
   "outputs": [
    {
     "data": {
      "text/plain": [
       "\"Mundo\""
      ]
     },
     "execution_count": 76,
     "metadata": {},
     "output_type": "execute_result"
    }
   ],
   "source": [
    "cadena_2=\"Mundo\""
   ]
  },
  {
   "cell_type": "markdown",
   "metadata": {},
   "source": [
    "Y ahora tratamos de sumarlas:"
   ]
  },
  {
   "cell_type": "code",
   "execution_count": 77,
   "metadata": {
    "collapsed": false
   },
   "outputs": [
    {
     "ename": "LoadError",
     "evalue": "`+` has no method matching +(::ASCIIString, ::ASCIIString)\nwhile loading In[77], in expression starting on line 1",
     "output_type": "error",
     "traceback": [
      "`+` has no method matching +(::ASCIIString, ::ASCIIString)\nwhile loading In[77], in expression starting on line 1",
      ""
     ]
    }
   ],
   "source": [
    "cadena_1+cadena_2"
   ]
  },
  {
   "cell_type": "markdown",
   "metadata": {},
   "source": [
    "Observamos que no es posible ya que + no sabe que hacer si ambos argumentos son de tipo \"ASCIIString\".\n",
    "\n",
    "Ahora para la pregunta 2, multiplicaremos a nuestras cadenas:"
   ]
  },
  {
   "cell_type": "code",
   "execution_count": 78,
   "metadata": {
    "collapsed": false
   },
   "outputs": [
    {
     "data": {
      "text/plain": [
       "\"HolaMundo\""
      ]
     },
     "execution_count": 78,
     "metadata": {},
     "output_type": "execute_result"
    }
   ],
   "source": [
    "cadena_1*cadena_2"
   ]
  },
  {
   "cell_type": "markdown",
   "metadata": {},
   "source": [
    "Vemos que multiplicar cadenas si es posible y es equivalente a concatenarlas.\n",
    "\n",
    "Para la pregunta 3, sabemos que podemos definir un nuevo método de + que al recibir como argumento a dos cadenas las concatene (como en Python), aunque en realidad podemos hacer que + realizara cualquier operación deseada sobre las dos cadenas.\n",
    "Por ejemplo, podríamos hacer que al sumar dos cadenas, + aparte de concatenarlas coloque un espacio entre ellas:"
   ]
  },
  {
   "cell_type": "code",
   "execution_count": 92,
   "metadata": {
    "collapsed": false
   },
   "outputs": [
    {
     "data": {
      "text/plain": [
       "+ (generic function with 123 methods)"
      ]
     },
     "execution_count": 92,
     "metadata": {},
     "output_type": "execute_result"
    }
   ],
   "source": [
    "+(x::ASCIIString,y::ASCIIString)=x*\" \"*y #Definimos un nuevo método a + cuando ambos argumentos son cadenas."
   ]
  },
  {
   "cell_type": "markdown",
   "metadata": {},
   "source": [
    "Ya que definimos el nuevo método, vamos a sumar nuestras cadenas:"
   ]
  },
  {
   "cell_type": "code",
   "execution_count": 91,
   "metadata": {
    "collapsed": false
   },
   "outputs": [
    {
     "data": {
      "text/plain": [
       "\"Hola Mundo\""
      ]
     },
     "execution_count": 91,
     "metadata": {},
     "output_type": "execute_result"
    }
   ],
   "source": [
    "cadena_1+cadena_2"
   ]
  },
  {
   "cell_type": "markdown",
   "metadata": {},
   "source": [
    "Y efectívamente, obtuvimos la cadena esperada."
   ]
  },
  {
   "cell_type": "markdown",
   "metadata": {},
   "source": [
    "## Ejercicio 3: Diferenciación automática"
   ]
  },
  {
   "cell_type": "markdown",
   "metadata": {},
   "source": [
    "Primero invocamos a nuestro módulo AutDiff.jl:"
   ]
  },
  {
   "cell_type": "code",
   "execution_count": 61,
   "metadata": {
    "collapsed": false
   },
   "outputs": [],
   "source": [
    "using AutDiff"
   ]
  },
  {
   "cell_type": "markdown",
   "metadata": {},
   "source": [
    "Probamos si `dual_var()` en `x0` nos regresa al Dual esperado:"
   ]
  },
  {
   "cell_type": "code",
   "execution_count": null,
   "metadata": {
    "collapsed": false
   },
   "outputs": [],
   "source": [
    "dual_var(1.0)  #Probando con un número real."
   ]
  },
  {
   "cell_type": "code",
   "execution_count": null,
   "metadata": {
    "collapsed": false
   },
   "outputs": [],
   "source": [
    "dual_var(π)  #Probando con un número irracional."
   ]
  },
  {
   "cell_type": "code",
   "execution_count": null,
   "metadata": {
    "collapsed": false
   },
   "outputs": [],
   "source": [
    "dual_var(5) #Probando con un número entero"
   ]
  },
  {
   "cell_type": "markdown",
   "metadata": {},
   "source": [
    "Vemos que `dual_var()` funciona como esperábamos, y ahora probaremos que nuestra función `dual_cte()` haga lo esperado (nos debe de regresar el dual de un número):"
   ]
  },
  {
   "cell_type": "code",
   "execution_count": null,
   "metadata": {
    "collapsed": false
   },
   "outputs": [],
   "source": [
    "arregloprueba=[dual_cte(π),dual_cte(2.0),dual_cte(-10)]  #Probamos dual_cte() con un real, irracional y un entero."
   ]
  },
  {
   "cell_type": "markdown",
   "metadata": {},
   "source": [
    "Efectivamente, también hace lo esperado.\n",
    "Definimos la siguiente función:\n",
    "\n",
    "$$f(x)=2x+log(x)-x^3$$\n",
    "\n",
    "De la cual sabemos que su primera derivada es:\n",
    "\n",
    "$$f\\prime(x)=2+\\frac{1}{x} -3x^2$$\n",
    "\n",
    "Por lo que si $x_0 =2$, esperamos que $f\\prime(2)=-9.5$.\n",
    "Entonces, usando Duales calcularemos $f\\prime(2)$:"
   ]
  },
  {
   "cell_type": "code",
   "execution_count": 67,
   "metadata": {
    "collapsed": false
   },
   "outputs": [
    {
     "data": {
      "text/plain": [
       "Dual{Float64}(-3.3068528194400546,-9.5)"
      ]
     },
     "execution_count": 67,
     "metadata": {},
     "output_type": "execute_result"
    }
   ],
   "source": [
    "x0=dual_var(2.0) #Creamos un dual que corresponde a x0\n",
    "f(x)=dual_cte(2.0)x+log(x)-x^3 #Definimos f(x) pero sustituyendo dual_cte() en las constantes.\n",
    "f(x0)  #Evaluamos f(x) en x0"
   ]
  },
  {
   "cell_type": "markdown",
   "metadata": {},
   "source": [
    "Vemos que el valor obtenido es exactamente el mismo al esperado.\n",
    "Ahora vamos a evaluar $f(x)$ en varios `x0` para ver si el comportamiento persiste:"
   ]
  },
  {
   "cell_type": "code",
   "execution_count": 68,
   "metadata": {
    "collapsed": false
   },
   "outputs": [
    {
     "data": {
      "text/plain": [
       "20-element Array{Dual{Float64},1}:\n",
       "  Dual{Float64}(1.0,1.0)\n",
       "  Dual{Float64}(6.0,1.0)\n",
       " Dual{Float64}(11.0,1.0)\n",
       " Dual{Float64}(16.0,1.0)\n",
       " Dual{Float64}(21.0,1.0)\n",
       " Dual{Float64}(26.0,1.0)\n",
       " Dual{Float64}(31.0,1.0)\n",
       " Dual{Float64}(36.0,1.0)\n",
       " Dual{Float64}(41.0,1.0)\n",
       " Dual{Float64}(46.0,1.0)\n",
       " Dual{Float64}(51.0,1.0)\n",
       " Dual{Float64}(56.0,1.0)\n",
       " Dual{Float64}(61.0,1.0)\n",
       " Dual{Float64}(66.0,1.0)\n",
       " Dual{Float64}(71.0,1.0)\n",
       " Dual{Float64}(76.0,1.0)\n",
       " Dual{Float64}(81.0,1.0)\n",
       " Dual{Float64}(86.0,1.0)\n",
       " Dual{Float64}(91.0,1.0)\n",
       " Dual{Float64}(96.0,1.0)"
      ]
     },
     "execution_count": 68,
     "metadata": {},
     "output_type": "execute_result"
    }
   ],
   "source": [
    "vectorx0=[dual_var(i) for i in 1:5.0:100]  #Creamos un vector con varios valores de x0"
   ]
  },
  {
   "cell_type": "code",
   "execution_count": 69,
   "metadata": {
    "collapsed": false
   },
   "outputs": [
    {
     "data": {
      "text/plain": [
       "df (generic function with 1 method)"
      ]
     },
     "execution_count": 69,
     "metadata": {},
     "output_type": "execute_result"
    }
   ],
   "source": [
    "df(x)=2+(1/x)-3x^2 #Definimos la derivada de f(x)"
   ]
  },
  {
   "cell_type": "code",
   "execution_count": 70,
   "metadata": {
    "collapsed": false
   },
   "outputs": [],
   "source": [
    "res1=Array(Float64,0)  #Creamos un vector vacío\n",
    "for j in vectorx0      #Evaluamos g(x) en cada x0 y luego anexamos a nuestro vector vacío la segunda entrada del Dual resultante.\n",
    "    m=f(j).fp\n",
    "    push!(res1,m)\n",
    "end"
   ]
  },
  {
   "cell_type": "code",
   "execution_count": 72,
   "metadata": {
    "collapsed": false
   },
   "outputs": [],
   "source": [
    "res2=Array(Float64,0)  #Creamos otro vector vacío\n",
    "for n in vectorx0      #Evaluamos dg(x) en cada x0 y anexamos la imagen al vector res2\n",
    "    push!(res2,df(n.f))\n",
    "end"
   ]
  },
  {
   "cell_type": "code",
   "execution_count": 74,
   "metadata": {
    "collapsed": false
   },
   "outputs": [
    {
     "data": {
      "text/plain": [
       "20x2 Array{Float64,2}:\n",
       "      0.0         0.0  \n",
       "   -105.833    -105.833\n",
       "   -360.909    -360.909\n",
       "   -765.938    -765.938\n",
       "  -1320.95    -1320.95 \n",
       "  -2025.96    -2025.96 \n",
       "  -2880.97    -2880.97 \n",
       "  -3885.97    -3885.97 \n",
       "  -5040.98    -5040.98 \n",
       "  -6345.98    -6345.98 \n",
       "  -7800.98    -7800.98 \n",
       "  -9405.98    -9405.98 \n",
       " -11161.0    -11161.0  \n",
       " -13066.0    -13066.0  \n",
       " -15121.0    -15121.0  \n",
       " -17326.0    -17326.0  \n",
       " -19681.0    -19681.0  \n",
       " -22186.0    -22186.0  \n",
       " -24841.0    -24841.0  \n",
       " -27646.0    -27646.0  "
      ]
     },
     "execution_count": 74,
     "metadata": {},
     "output_type": "execute_result"
    }
   ],
   "source": [
    "[res1 res2]  #Comparamos las derivadas obtenidas vs las esperadas."
   ]
  },
  {
   "cell_type": "markdown",
   "metadata": {},
   "source": [
    "Vemos que para todos los `x0`, se obtuvieron las derivadas exactas usando Duales.\n",
    "Ahora probaremos con casos más complicados en donde la regla de la cadena se tiene que usar más de una vez.\n",
    "\n",
    "Definimos las siguientes funciones y sus respectivas derivadas:"
   ]
  },
  {
   "cell_type": "code",
   "execution_count": 3,
   "metadata": {
    "collapsed": false
   },
   "outputs": [
    {
     "data": {
      "text/plain": [
       "g (generic function with 1 method)"
      ]
     },
     "execution_count": 3,
     "metadata": {},
     "output_type": "execute_result"
    }
   ],
   "source": [
    "g(x)=exp(sin(cos(x^3))) #Definimos g(x)"
   ]
  },
  {
   "cell_type": "code",
   "execution_count": 18,
   "metadata": {
    "collapsed": false
   },
   "outputs": [
    {
     "data": {
      "text/plain": [
       "dg (generic function with 1 method)"
      ]
     },
     "execution_count": 18,
     "metadata": {},
     "output_type": "execute_result"
    }
   ],
   "source": [
    "dg(x)=(-3exp(sin(cos(x^3))))*((x^2)cos(cos(x^3))sin(x^3)) #Definimos a la derivada de g(x)"
   ]
  },
  {
   "cell_type": "code",
   "execution_count": 49,
   "metadata": {
    "collapsed": false
   },
   "outputs": [
    {
     "data": {
      "text/plain": [
       "h (generic function with 1 method)"
      ]
     },
     "execution_count": 49,
     "metadata": {},
     "output_type": "execute_result"
    }
   ],
   "source": [
    "h(x)=log(x^2)/exp(x^3)  #Definimos h(x)"
   ]
  },
  {
   "cell_type": "code",
   "execution_count": 50,
   "metadata": {
    "collapsed": false
   },
   "outputs": [
    {
     "data": {
      "text/plain": [
       "dh (generic function with 1 method)"
      ]
     },
     "execution_count": 50,
     "metadata": {},
     "output_type": "execute_result"
    }
   ],
   "source": [
    "dh(x)=(exp(-x^3)*(2-(3x^3)log(x^2)))/x #Definimos a la derivada de h(x)"
   ]
  },
  {
   "cell_type": "markdown",
   "metadata": {},
   "source": [
    "Creamos un nuevo vector de $x_0$ para evaluar a $g(x)$ (Cuidamos que los números estén entre 0 y 2 ya que la derivada o no está definida, o bien, crece muy rápido): "
   ]
  },
  {
   "cell_type": "code",
   "execution_count": 14,
   "metadata": {
    "collapsed": false
   },
   "outputs": [
    {
     "data": {
      "text/plain": [
       "14-element Array{Dual{Float64},1}:\n",
       " Dual{Float64}(-100.0,1.0)\n",
       "  Dual{Float64}(-85.0,1.0)\n",
       "  Dual{Float64}(-70.0,1.0)\n",
       "  Dual{Float64}(-55.0,1.0)\n",
       "  Dual{Float64}(-40.0,1.0)\n",
       "  Dual{Float64}(-25.0,1.0)\n",
       "  Dual{Float64}(-10.0,1.0)\n",
       "    Dual{Float64}(5.0,1.0)\n",
       "   Dual{Float64}(20.0,1.0)\n",
       "   Dual{Float64}(35.0,1.0)\n",
       "   Dual{Float64}(50.0,1.0)\n",
       "   Dual{Float64}(65.0,1.0)\n",
       "   Dual{Float64}(80.0,1.0)\n",
       "   Dual{Float64}(95.0,1.0)"
      ]
     },
     "execution_count": 14,
     "metadata": {},
     "output_type": "execute_result"
    }
   ],
   "source": [
    "vector2x0=[dual_var(i) for i in -100.0:15.0:100.0]  #Creamos un vector con varios valores de x0"
   ]
  },
  {
   "cell_type": "markdown",
   "metadata": {},
   "source": [
    "Ahora evaluaremos a $g(x)$ y a su derivada en todos los valores x0 de nuestro vector:"
   ]
  },
  {
   "cell_type": "code",
   "execution_count": 15,
   "metadata": {
    "collapsed": false
   },
   "outputs": [],
   "source": [
    "res3=Array(Float64,0)  #Creamos un vector vacío\n",
    "for j in vector2x0      #Evaluamos g(x) en cada x0 y luego anexamos a nuestro vector vacío la segunda entrada del Dual resultante.\n",
    "    m=g(j).fp\n",
    "    push!(res3,m)\n",
    "end"
   ]
  },
  {
   "cell_type": "code",
   "execution_count": 19,
   "metadata": {
    "collapsed": false
   },
   "outputs": [],
   "source": [
    "res4=Array(Float64,0)  #Creamos otro vector vacío\n",
    "for n in vector2x0      #Evaluamos dg(x) en cada x0 y anexamos la imagen al vector res2\n",
    "    z=n.f\n",
    "    push!(res4,dg(z))\n",
    "end"
   ]
  },
  {
   "cell_type": "code",
   "execution_count": 20,
   "metadata": {
    "collapsed": false
   },
   "outputs": [
    {
     "data": {
      "text/plain": [
       "14x2 Array{Float64,2}:\n",
       " -13921.5     -13921.5   \n",
       "   5078.6       5078.6   \n",
       "  16923.5      16923.5   \n",
       "   1688.98      1688.98  \n",
       "  -3343.48     -3343.48  \n",
       "  -2284.65     -2284.65  \n",
       "    357.68       357.68  \n",
       "     66.2141      66.2141\n",
       "  -1275.84     -1275.84  \n",
       "   4064.39      4064.39  \n",
       "  -2313.91     -2313.91  \n",
       "   7734.98      7734.98  \n",
       "  -9290.67     -9290.67  \n",
       "  -1254.83     -1254.83  "
      ]
     },
     "execution_count": 20,
     "metadata": {},
     "output_type": "execute_result"
    }
   ],
   "source": [
    "[res3 res4]"
   ]
  },
  {
   "cell_type": "markdown",
   "metadata": {},
   "source": [
    "Observamos que la derivada obtenida por medio de Duales es nuevamente idéntica a la esperada.\n",
    "Ahora creamos otro vector de $x_0$ para evaluar a $h(x)$ y su derivada:"
   ]
  },
  {
   "cell_type": "code",
   "execution_count": 57,
   "metadata": {
    "collapsed": false
   },
   "outputs": [
    {
     "data": {
      "text/plain": [
       "41-element Array{Dual{Float64},1}:\n",
       "  Dual{Float64}(-1.0,1.0)\n",
       " Dual{Float64}(-0.95,1.0)\n",
       "  Dual{Float64}(-0.9,1.0)\n",
       " Dual{Float64}(-0.85,1.0)\n",
       "  Dual{Float64}(-0.8,1.0)\n",
       " Dual{Float64}(-0.75,1.0)\n",
       "  Dual{Float64}(-0.7,1.0)\n",
       " Dual{Float64}(-0.65,1.0)\n",
       "  Dual{Float64}(-0.6,1.0)\n",
       " Dual{Float64}(-0.55,1.0)\n",
       "  Dual{Float64}(-0.5,1.0)\n",
       " Dual{Float64}(-0.45,1.0)\n",
       "  Dual{Float64}(-0.4,1.0)\n",
       "                        ⋮\n",
       "  Dual{Float64}(0.45,1.0)\n",
       "   Dual{Float64}(0.5,1.0)\n",
       "  Dual{Float64}(0.55,1.0)\n",
       "   Dual{Float64}(0.6,1.0)\n",
       "  Dual{Float64}(0.65,1.0)\n",
       "   Dual{Float64}(0.7,1.0)\n",
       "  Dual{Float64}(0.75,1.0)\n",
       "   Dual{Float64}(0.8,1.0)\n",
       "  Dual{Float64}(0.85,1.0)\n",
       "   Dual{Float64}(0.9,1.0)\n",
       "  Dual{Float64}(0.95,1.0)\n",
       "   Dual{Float64}(1.0,1.0)"
      ]
     },
     "execution_count": 57,
     "metadata": {},
     "output_type": "execute_result"
    }
   ],
   "source": [
    "vector3x0=[dual_var(i) for i in -1.0:0.05:1.0]  #Creamos un vector con varios valores de x0"
   ]
  },
  {
   "cell_type": "code",
   "execution_count": 58,
   "metadata": {
    "collapsed": true
   },
   "outputs": [],
   "source": [
    "res5=Array(Float64,0)  #Creamos un vector vacío\n",
    "for j in vector3x0      #Evaluamos g(x) en cada x0 y luego anexamos a nuestro vector vacío la segunda entrada del Dual resultante.\n",
    "    m=h(j).fp\n",
    "    push!(res5,m)\n",
    "end"
   ]
  },
  {
   "cell_type": "code",
   "execution_count": 59,
   "metadata": {
    "collapsed": false
   },
   "outputs": [],
   "source": [
    "res6=Array(Float64,0)  #Creamos otro vector vacío\n",
    "for n in vector3x0     #Evaluamos dg(x) en cada x0 y anexamos la imagen al vector res6\n",
    "    push!(res6,dh(n.f))\n",
    "end"
   ]
  },
  {
   "cell_type": "code",
   "execution_count": 60,
   "metadata": {
    "collapsed": false
   },
   "outputs": [
    {
     "data": {
      "text/plain": [
       "41x2 Array{Float64,2}:\n",
       " -5.43656   -5.43656 \n",
       " -4.30738   -4.30738 \n",
       " -3.54519   -3.54519 \n",
       " -3.04635   -3.04635 \n",
       " -2.74177   -2.74177 \n",
       " -2.58569   -2.58569 \n",
       " -2.54851   -2.54851 \n",
       " -2.61219   -2.61219 \n",
       " -2.7676    -2.7676  \n",
       " -3.01311   -3.01311 \n",
       " -3.35444   -3.35444 \n",
       " -3.80572   -3.80572 \n",
       " -4.39269   -4.39269 \n",
       "  ⋮                  \n",
       "  4.94304    4.94304 \n",
       "  4.44754    4.44754 \n",
       "  3.99778    3.99778 \n",
       "  3.57482    3.57482 \n",
       "  3.16781    3.16781 \n",
       "  2.77168    2.77168 \n",
       "  2.38559    2.38559 \n",
       "  2.01176    2.01176 \n",
       "  1.65444    1.65444 \n",
       "  1.31899    1.31899 \n",
       "  1.01105    1.01105 \n",
       "  0.735759   0.735759"
      ]
     },
     "execution_count": 60,
     "metadata": {},
     "output_type": "execute_result"
    }
   ],
   "source": [
    "[res5 res6]"
   ]
  },
  {
   "cell_type": "markdown",
   "metadata": {},
   "source": [
    "Y de nuevo, observamos que la derivada de $h(x)$ calculada usando Duales es exacta."
   ]
  }
 ],
 "metadata": {
  "kernelspec": {
   "display_name": "Julia 0.3.10",
   "language": "julia",
   "name": "julia-0.3"
  },
  "language_info": {
   "name": "julia",
   "version": "0.3.10"
  }
 },
 "nbformat": 4,
 "nbformat_minor": 0
}
