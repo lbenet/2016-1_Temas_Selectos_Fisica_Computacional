{
 "cells": [
  {
   "cell_type": "markdown",
   "metadata": {},
   "source": [
    "# Ejercicio 1:\n",
    "\n",
    "Si le pedimos a Julia la representación en binario de 0.1 (flotante de 64-bits), obtenemos:"
   ]
  },
  {
   "cell_type": "code",
   "execution_count": 2,
   "metadata": {
    "collapsed": false
   },
   "outputs": [
    {
     "data": {
      "text/plain": [
       "\"0011111110111001100110011001100110011001100110011001100110011010\""
      ]
     },
     "execution_count": 2,
     "metadata": {},
     "output_type": "execute_result"
    }
   ],
   "source": [
    "bits(0.1)"
   ]
  },
  {
   "cell_type": "markdown",
   "metadata": {},
   "source": [
    "Como vimos en clase,los flotantes tienen tres componentes básicos: el signo, el exponente y la mantisa. En éste caso estamos tratando con un flotante de doble precisión, que utiliza 1 bit para el signo, 11 para el exponente y 52 para la mantisa. \n",
    "\n",
    "En particular, nos interesan los 11 bits del exponente.\n",
    "\n",
    "\n",
    " $01111111011$ ,cuando se codifica el exponente de un punto flotante IEEE 754 de precisión doble, significa $-4$. Éste es el exponente que todos los números entre $0.06125$ (incluido) y $0.125$ (excluido) tienen, y ésto significa que el número es de la forma $m * 2^e$ con $1 ≤ m < 2$ y $e = -4$.\n",
    " \n",
    "Ésta secuencia de bits representa éste exponente porque los exponentes son almacenados en la memoria como enteros sin signo($01111111011$ como un número sin signo es $1019$) con un \"bias\" de $1023$. El exponende entonces debe ser computado como $1019-1023$, ésto es, $24$.\n",
    "\n"
   ]
  },
  {
   "cell_type": "markdown",
   "metadata": {},
   "source": [
    "# Ejercicio 2:\n",
    "\n",
    "Implementamos la siguiente función recursiva para encontrar el machine epsilon:"
   ]
  },
  {
   "cell_type": "code",
   "execution_count": 39,
   "metadata": {
    "collapsed": false
   },
   "outputs": [
    {
     "data": {
      "text/plain": [
       "machineepsilon (generic function with 2 methods)"
      ]
     },
     "execution_count": 39,
     "metadata": {},
     "output_type": "execute_result"
    }
   ],
   "source": [
    "function machineepsilon(x,eps=1.0)\n",
    "    \"\"\"Encuentra el machine epsilon de un \n",
    "    número flotante determinado, recibe como\n",
    "    argumentos el flotante.\"\"\"\n",
    "    if x+ (eps/2) > x #test para ver si el valor de x cambia al sumarle epsilon\n",
    "        return machineepsilon(x,(eps/2)) #llamada recursiva\n",
    "        end\n",
    "    return eps #regresa el valor final de eps, cuando se cumple el caso base x+eps=x\n",
    "    end\n"
   ]
  },
  {
   "cell_type": "markdown",
   "metadata": {},
   "source": [
    "La función inicialmente realiza un test para ver si nuestro epsilon(inicialmente 1) es lo suficientemente grande para alterar el valor de x al ser sumado a él.\n",
    "Si el test se cumple, la función hace una llamada recursiva de sí misma pero en ésta ocasión es evaluada en x y eps/2. Esto nos indica que, en el peor de los casos,el resultado se obtendrá en un tiempo $O(log_{2}eps)$, por lo que nuestro algoritmo recursivo es eficiente.\n",
    "\n",
    "Finalmente, cuando el valor de eps es tan pequeño que la suma de éste con x no afecta al valor de x, la función regresa el machine epsilon de x."
   ]
  },
  {
   "cell_type": "markdown",
   "metadata": {
    "collapsed": true
   },
   "source": [
    "A continuación comparamos los machine epsilon de 1.0 y 10.0 obtenidos usando nuestra función con los obtenidos con la funcion eps():"
   ]
  },
  {
   "cell_type": "code",
   "execution_count": 38,
   "metadata": {
    "collapsed": false
   },
   "outputs": [
    {
     "data": {
      "text/plain": [
       "(2.220446049250313e-16,2.220446049250313e-16)"
      ]
     },
     "execution_count": 38,
     "metadata": {},
     "output_type": "execute_result"
    }
   ],
   "source": [
    "machineepsilon(1.0),eps(1.0)"
   ]
  },
  {
   "cell_type": "code",
   "execution_count": 36,
   "metadata": {
    "collapsed": false
   },
   "outputs": [
    {
     "data": {
      "text/plain": [
       "(1.7763568394002505e-15,1.7763568394002505e-15)"
      ]
     },
     "execution_count": 36,
     "metadata": {},
     "output_type": "execute_result"
    }
   ],
   "source": [
    "machineepsilon(10.0),eps(10.0)"
   ]
  },
  {
   "cell_type": "markdown",
   "metadata": {},
   "source": [
    "Por lo tanto, vemos que los machine epsilon obtenidos por nuestra función son correctos y distintos para 1.0 y 10.0"
   ]
  },
  {
   "cell_type": "markdown",
   "metadata": {},
   "source": [
    "# Ejercicio 3:"
   ]
  },
  {
   "cell_type": "markdown",
   "metadata": {},
   "source": [
    "Para responder a las preguntas, definimos la función derivada1 en base a la ecuación que aparece en el enunciado del ejercicio:"
   ]
  },
  {
   "cell_type": "code",
   "execution_count": 48,
   "metadata": {
    "collapsed": false,
    "scrolled": true
   },
   "outputs": [
    {
     "data": {
      "text/plain": [
       "derivada1 (generic function with 1 method)"
      ]
     },
     "execution_count": 48,
     "metadata": {},
     "output_type": "execute_result"
    }
   ],
   "source": [
    "function derivada1(f,xo,h)\n",
    "    \"\"\"Obtiene una aproximación a la derivada de \n",
    "    f(x) en x_0. Toma como argumentos a una función,\n",
    "    a un valor arbitrario de x_0 donde f sea diferenciable,\n",
    "    y a un h o deltax arbitrario que sea mayor a 0\"\"\"\n",
    "    #@assert h>0 #se asegura que h sea distinta de 0.\n",
    "    diferencia= (f(xo+h)-f(xo))/h #implementamos la operación que aproximará a la derivada.\n",
    "    return diferencia #regresa nuestra aproximación de la derivada en x_0\n",
    "end"
   ]
  },
  {
   "cell_type": "markdown",
   "metadata": {},
   "source": [
    "Para poder responder a la pregunta de que tan buena es la aproximación definida por derivada1, estudiaremos al error por aproximación, y luego compararemos valores obtenidos por derivada1 con los valores de las derivadas conocidas para varias funciones.\n",
    "\n",
    "\n",
    "Con éste fin,primero desarrollaremos la expansión de Taylor de $f(x+h)$ alrededor de x, ésto con el fin de obtener una fórmula matemática que exprese al error de aproximación en términos de $h$:\n",
    "\n",
    "$$f(x+h)=f(x)+hf'(x)+\\frac{h^2f''(\\epsilon)}{2}   :\\epsilon\\in(x,x+h)$$\n",
    "\n",
    "\n",
    "De donde despejando obtenemos:\n",
    "\n",
    "\n",
    "$$f'(x)=\\frac{f(x+h)-f(x)}{h}-\\frac{hf''(\\epsilon)}{2}$$\n",
    "\n",
    "\n",
    "Observamos entonces, que el error es de tiempo $h$, osea, $O(h)$.\n",
    "Esto nos sugiere que si quisiéramos reducir el error, tendríamos que encontrar un $h$ cuyo valor absoluto sea tan pequeño como sea posible. \n",
    "\n",
    "Para estudiar el comportamiento del error, definimos la siguiente función:"
   ]
  },
  {
   "cell_type": "code",
   "execution_count": 9,
   "metadata": {
    "collapsed": false
   },
   "outputs": [
    {
     "data": {
      "text/plain": [
       "f (generic function with 1 method)"
      ]
     },
     "execution_count": 9,
     "metadata": {},
     "output_type": "execute_result"
    }
   ],
   "source": [
    "f(x)=5x"
   ]
  },
  {
   "cell_type": "markdown",
   "metadata": {},
   "source": [
    "Sabemos que $f'(x)=5,\\forall x$\n",
    "También sabemos que $f''(x)=0,\\forall x$.\n",
    "\n",
    "\n",
    "Sin perdida de la generalidad podemos decir que, al menos en teoría, el error total de nuestra función al calcular la derivada1 de cualquier funcion lineal debería ser cero, ya que el error por truncamiento es cero.\n",
    "\n",
    "Ahora probaremos el comportamiento de derivada1 para la función $f(x)=5x$ en $x_{0}=1$, y usaremos 100 valores de $h$ en el intervalo $(eps(),50eps())$, ya que lo que más nos interesa es el comportamiento del error en función de $h$ y cuando $h\\rightarrow 0$.\n",
    "\n",
    "A continuación definimos un vector que nos ayudará a evaluar el comportamiento de derivada1 cuando $h\\rightarrow 0$:"
   ]
  },
  {
   "cell_type": "code",
   "execution_count": 68,
   "metadata": {
    "collapsed": false,
    "scrolled": true
   },
   "outputs": [
    {
     "data": {
      "text/plain": [
       "100-element Array{Float64,1}:\n",
       " 1.11022e-14\n",
       " 1.09923e-14\n",
       " 1.08824e-14\n",
       " 1.07725e-14\n",
       " 1.06626e-14\n",
       " 1.05527e-14\n",
       " 1.04428e-14\n",
       " 1.03329e-14\n",
       " 1.0223e-14 \n",
       " 1.01131e-14\n",
       " 1.00032e-14\n",
       " 9.89332e-15\n",
       " 9.78342e-15\n",
       " ⋮          \n",
       " 1.43095e-15\n",
       " 1.32105e-15\n",
       " 1.21115e-15\n",
       " 1.10125e-15\n",
       " 9.91351e-16\n",
       " 8.8145e-16 \n",
       " 7.71549e-16\n",
       " 6.61648e-16\n",
       " 5.51747e-16\n",
       " 4.41846e-16\n",
       " 3.31945e-16\n",
       " 2.22045e-16"
      ]
     },
     "execution_count": 68,
     "metadata": {},
     "output_type": "execute_result"
    }
   ],
   "source": [
    "i=50eps() #variables para definir un vector de valores en los que evaluaremos derivada1\n",
    "z=eps()\n",
    "n=100\n",
    "\n",
    "vector=linspace(i,z,n) #Construimos un vector de 100-linealmente espaciados números entre eps() y 50eps()."
   ]
  },
  {
   "cell_type": "markdown",
   "metadata": {},
   "source": [
    "Procedemos a evaluar derivada1 en todos los elementos del vector definido en el paso anterior:"
   ]
  },
  {
   "cell_type": "code",
   "execution_count": 69,
   "metadata": {
    "collapsed": false
   },
   "outputs": [
    {
     "name": "stdout",
     "output_type": "stream",
     "text": [
      "1.1102230246251565e-14  4.96\n",
      "1.0992329381187661e-14  5.009589879616405\n",
      "1.0882428516123757e-14  4.978565539983512\n",
      "1.0772527651059852e-14  5.029356652092442\n",
      "1.0662626785995948e-14  4.997896508203618\n",
      "1.0552725920932044e-14  5.049946865037194\n",
      "1.044282505586814e-14  5.018041237113402\n",
      "1.0332924190804235e-14  5.071413067071847\n",
      "1.022302332574033e-14  5.039052215884159\n",
      "1.0113122460676426e-14  5.093812375249501\n",
      "1.0003221595612522e-14  4.97219730941704\n",
      "9.893320730548618e-15  5.0274314214463836\n",
      "9.783419865484713e-15  4.993122420907841\n",
      "9.673519000420809e-15  5.049849292835613\n",
      "9.563618135356903e-15  5.01500938086304\n",
      "9.453717270292999e-15  5.073309608540926\n",
      "9.343816405229094e-15  4.942870859337495\n",
      "9.23391554016519e-15  5.001700267184844\n",
      "9.124014675101287e-15  4.964601769911504\n",
      "9.014113810037381e-15  5.025130629509829\n",
      "8.904212944973478e-15  4.987405541561713\n",
      "8.794312079909572e-15  5.04973221117062\n",
      "8.68441121484567e-15  5.011363636363636\n",
      "8.574510349781764e-15  5.075595082396025\n",
      "8.46460948471786e-15  5.036565977742449\n",
      "8.354708619653957e-15  5.102818791946309\n",
      "8.24480775459005e-15  4.955386289445049\n",
      "8.134906889526148e-15  5.022332506203473\n",
      "8.025006024462242e-15  4.980435997764115\n",
      "7.915105159398339e-15  5.049589118730518\n",
      "7.805204294334435e-15  5.006896551724138\n",
      "7.695303429270529e-15  5.078402798018071\n",
      "7.585402564206626e-15  4.9178001182732105\n",
      "7.47550169914272e-15  4.99009900990099\n",
      "7.365600834078817e-15  4.943970767356881\n",
      "7.255699969014913e-15  5.018856259659969\n",
      "7.145799103951007e-15  4.971751412429379\n",
      "7.0358982388871036e-15  5.049410264583997\n",
      "6.9259973738231984e-15  5.001295336787565\n",
      "6.816096508759295e-15  5.0819348469891406\n",
      "6.70619564369539e-15  5.032775919732441\n",
      "6.596294778631486e-15  5.116626997619857\n",
      "6.486393913567582e-15  4.929460580912862\n",
      "6.376493048503677e-15  5.0144213858600075\n",
      "6.266592183439772e-15  4.960629921259843\n",
      "6.156691318375867e-15  5.049180327868854\n",
      "6.0467904533119636e-15  4.99406528189911\n",
      "5.93688958824806e-15  5.0865130336229685\n",
      "5.826988723184155e-15  4.877598152424942\n",
      "5.7170878581202505e-15  4.971361318163986\n",
      "5.607186993056346e-15  4.9104\n",
      "5.497286127992442e-15  5.0085679314565485\n",
      "5.3873852629285375e-15  4.945878434637802\n",
      "5.277484397864633e-15  5.048873778155546\n",
      "5.167583532800729e-15  4.984375\n",
      "5.0576826677368244e-15  5.092682926829268\n",
      "4.94778180267292e-15  5.026291931097008\n",
      "4.837880937609015e-15  5.14047287899861\n",
      "4.7279800725451106e-15  4.884250474383302\n",
      "4.618079207481206e-15  5.00048567265663\n",
      "4.508178342417302e-15  4.925373134328359\n",
      "4.3982774773533975e-15  5.048444671086181\n",
      "4.288376612289494e-15  4.970711297071129\n",
      "4.1784757472255896e-15  5.101449275362318\n",
      "4.068574882161685e-15  4.802646085997794\n",
      "3.95867401709778e-15  4.935977337110482\n",
      "3.848773152033876e-15  4.846153846153847\n",
      "3.738872286969972e-15  4.98860227954409\n",
      "3.628971421906068e-15  4.894932014833127\n",
      "3.519070556842163e-15  5.047801147227533\n",
      "3.4091696917782587e-15  4.949999999999999\n",
      "3.299268826714354e-15  5.114887831407206\n",
      "3.1893679616504492e-15  5.012658227848102\n",
      "3.0794670965865457e-15  5.19155134741442\n",
      "2.969566231522641e-15  4.785498489425982\n",
      "2.8596653664587366e-15  4.969411764705883\n",
      "2.7497645013948322e-15  4.8450244698205545\n",
      "2.639863636330928e-15  5.046728971962617\n",
      "2.529962771267023e-15  4.914893617021277\n",
      "2.4200619062031188e-15  5.138090824837813\n",
      "2.3101610411392144e-15  4.613592233009709\n",
      "2.2002601760753104e-15  4.844036697247706\n",
      "2.0903593110114057e-15  4.673819742489271\n",
      "1.9804584459475017e-15  4.933182332955831\n",
      "1.870557580883597e-15  4.748201438848921\n",
      "1.7606567158196926e-15  5.044585987261146\n",
      "1.6507558507557885e-15  4.842391304347825\n",
      "1.540854985691884e-15  5.187772925764192\n",
      "1.4309541206279796e-15  4.9655172413793105\n",
      "1.321053255564075e-15  5.378607809847199\n",
      "1.2111523905001709e-15  4.3999999999999995\n",
      "1.1012515254362665e-15  4.839103869653767\n",
      "9.91350660372362e-16  4.479638009049774\n",
      "8.814497953084576e-16  5.038167938931298\n",
      "7.715489302445532e-16  4.604651162790698\n",
      "6.616480651806489e-16  5.3694915254237285\n",
      "5.517472001167445e-16  3.2195121951219514\n",
      "4.418463350528401e-16  4.020304568527918\n",
      "3.319454699889357e-16  2.6756756756756754\n",
      "2.220446049250313e-16  4.0\n"
     ]
    }
   ],
   "source": [
    "for i in vector\n",
    "    println(i,\"  \",derivada1(f,1,i)) #Imprime en la primera columna h, \n",
    "    # y en la segunda a los valores de derivada 1 en cada h.\n",
    "    end  \n",
    "\n",
    "     "
   ]
  },
  {
   "cell_type": "markdown",
   "metadata": {},
   "source": [
    "Sin embargo observamos que derivada1 no se comporta como esperabamos.\n",
    "\n",
    "Para cualquier elemento de nuestro vector, derivada1 tendría que haber arrojado $5$, y sin embargo vemos que en algunos casos obtuvimos valores mucho mayores o menores a $5$, aunque bastante cercanos a $5$.\n",
    "\n",
    "Pero para numeros menores a $1e-16$, derivada1  comenzo a comportarse de forma sorprendente.\n",
    "Por ejemplo, cuando derivada1 fue evaluada en $eps()$, ésta nos regresó el valor de $4.0$, increíble puesto que ésto implica un error relativo de aproximadamente $8\\%$. \n",
    "\n",
    "Pero aún más increible es que al ser evaluada en $3.319454699889357e-16$,derivada1 nos arrojó el valor de $2.6756756756756754$, lo que implica un error relativo de más del $50\\%$!. Entre más nos acercamos a cero, derivada1 parece alejarse cada vez más del valor esperado."
   ]
  },
  {
   "cell_type": "markdown",
   "metadata": {},
   "source": [
    "¿Por qué derivada1 no se comportó como se esperaba?.\n",
    "\n",
    "La única posible respuesta a ésto es que como el término de la diferencia es dividido por $h$, al hacer $h$ muy pequeño es como si multiplicáramos el numerador de la diferencia por un número muy grande. \n",
    "Ésto implica que cualquier error de redondeo (producto de la aritmética de los números de punto flotante) en el numerador se amplificará, y entre más pequeño $h$, éste error aumentará.\n",
    "\n",
    "Para corroborar ésto,siguiendo la sugerencia del segundo inciso, probemos ahora con un polinomio de grado 3:\n"
   ]
  },
  {
   "cell_type": "code",
   "execution_count": 70,
   "metadata": {
    "collapsed": false,
    "scrolled": true
   },
   "outputs": [
    {
     "data": {
      "text/plain": [
       "g (generic function with 1 method)"
      ]
     },
     "execution_count": 70,
     "metadata": {},
     "output_type": "execute_result"
    }
   ],
   "source": [
    "g(x)=2x^3+10 "
   ]
  },
  {
   "cell_type": "markdown",
   "metadata": {},
   "source": [
    "Sabemos analíticamente, que la derivada de ésta función es $g'(x)=6x^2$.\n"
   ]
  },
  {
   "cell_type": "markdown",
   "metadata": {},
   "source": [
    "Conocemos que $g'(1)=6$ y que $g''(x)=12x$.\n",
    "Ahora, escogemos $h\\le 50eps()$, y acotamos el error por truncamiento de la siguiente manera:\n",
    "$$|E_{2}|\\le \\frac{50eps()12(\\epsilon)}{2} : \\epsilon\\in(1,1+50eps())$$\n",
    "Lo que implica que:\n",
    "$$|E_{2}|\\le 6.661338147751014e-14 : \\epsilon\\in(1,1+50eps())$$\n",
    "Ya que:\n"
   ]
  },
  {
   "cell_type": "code",
   "execution_count": 76,
   "metadata": {
    "collapsed": false
   },
   "outputs": [
    {
     "data": {
      "text/plain": [
       "6.661338147751014e-14"
      ]
     },
     "execution_count": 76,
     "metadata": {},
     "output_type": "execute_result"
    }
   ],
   "source": [
    "(50eps()12(1+50eps()))/2 #Cálculo para determinar cota."
   ]
  },
  {
   "cell_type": "markdown",
   "metadata": {},
   "source": [
    "Ahora, al igual que en el caso con la función $f(x)=5x$, procedemos a evaluar derivada1 en los elementos de nuestro vector, pero ahora evaluada en $x_0=1$ y $g(x)=2x^3+10$: "
   ]
  },
  {
   "cell_type": "code",
   "execution_count": 78,
   "metadata": {
    "collapsed": false
   },
   "outputs": [
    {
     "name": "stdout",
     "output_type": "stream",
     "text": [
      "1.1102230246251565e-14  6.08\n",
      "1.0992329381187661e-14  6.140787594368496\n",
      "1.0882428516123757e-14  6.03957131079967\n",
      "1.0772527651059852e-14  6.101186758276078\n",
      "1.0662626785995948e-14  5.9974758098443415\n",
      "1.0552725920932044e-14  6.059936238044633\n",
      "1.044282505586814e-14  5.953608247422681\n",
      "1.0332924190804235e-14  6.01693075754287\n",
      "1.022302332574033e-14  5.907854322071084\n",
      "1.0113122460676426e-14  5.972055888223553\n",
      "1.0003221595612522e-14  6.037668161434977\n",
      "9.893320730548618e-15  6.104738154613466\n",
      "9.783419865484713e-15  5.991746905089408\n",
      "9.673519000420809e-15  6.059819151402736\n",
      "9.563618135356903e-15  5.943714821763603\n",
      "9.453717270292999e-15  6.012811387900356\n",
      "9.343816405229094e-15  6.083533365338455\n",
      "9.23391554016519e-15  6.155938790381346\n",
      "9.124014675101287e-15  6.035398230088496\n",
      "9.014113810037381e-15  6.10898233391391\n",
      "8.904212944973478e-15  5.984886649874055\n",
      "8.794312079909572e-15  6.059678653404744\n",
      "8.68441121484567e-15  5.931818181818182\n",
      "8.574510349781764e-15  6.0078472403871315\n",
      "8.46460948471786e-15  5.875993640699524\n",
      "8.354708619653957e-15  5.953288590604027\n",
      "8.24480775459005e-15  6.032644178454842\n",
      "8.134906889526148e-15  6.114143920595533\n",
      "8.025006024462242e-15  5.976523197316937\n",
      "7.915105159398339e-15  6.059506942476622\n",
      "7.805204294334435e-15  5.917241379310344\n",
      "7.695303429270529e-15  6.001748761294084\n",
      "7.585402564206626e-15  6.0887049083382605\n",
      "7.47550169914272e-15  6.178217821782178\n",
      "7.365600834078817e-15  6.0292326431181475\n",
      "7.255699969014913e-15  6.1205564142194735\n",
      "7.145799103951007e-15  5.966101694915254\n",
      "7.0358982388871036e-15  6.059292317500796\n",
      "6.9259973738231984e-15  5.898963730569949\n",
      "6.816096508759295e-15  5.994076999012833\n",
      "6.70619564369539e-15  5.82742474916388\n",
      "6.596294778631486e-15  5.924515470928255\n",
      "6.486393913567582e-15  6.024896265560166\n",
      "6.376493048503677e-15  6.128737249384454\n",
      "6.266592183439772e-15  5.952755905511811\n",
      "6.156691318375867e-15  6.059016393442624\n",
      "6.0467904533119636e-15  5.8753709198813056\n",
      "5.93688958824806e-15  5.9841329807329044\n",
      "5.826988723184155e-15  6.096997690531178\n",
      "5.7170878581202505e-15  6.214201647704982\n",
      "5.607186993056346e-15  6.0192\n",
      "5.497286127992442e-15  6.1395348837209305\n",
      "5.3873852629285375e-15  5.935054121565362\n",
      "5.277484397864633e-15  6.058648533786656\n",
      "5.167583532800729e-15  5.84375\n",
      "5.0576826677368244e-15  5.970731707317073\n",
      "4.94778180267292e-15  5.744333635539438\n",
      "4.837880937609015e-15  5.874826147426982\n",
      "4.7279800725451106e-15  6.011385199240987\n",
      "4.618079207481206e-15  6.15444390480816\n",
      "4.508178342417302e-15  5.91044776119403\n",
      "4.3982774773533975e-15  6.058133605303417\n",
      "4.288376612289494e-15  5.7991631799163175\n",
      "4.1784757472255896e-15  5.951690821256038\n",
      "4.068574882161685e-15  6.112458654906284\n",
      "3.95867401709778e-15  6.28215297450425\n",
      "3.848773152033876e-15  6.0\n",
      "3.738872286969972e-15  6.1763647270545885\n",
      "3.628971421906068e-15  5.873918417799752\n",
      "3.519070556842163e-15  6.05736137667304\n",
      "3.4091696917782587e-15  5.731578947368421\n",
      "3.299268826714354e-15  5.922501699524133\n",
      "3.1893679616504492e-15  5.569620253164557\n",
      "3.0794670965865457e-15  5.768390386016023\n",
      "2.969566231522641e-15  5.981873111782478\n",
      "2.8596653664587366e-15  6.211764705882353\n",
      "2.7497645013948322e-15  5.814029363784665\n",
      "2.639863636330928e-15  6.05607476635514\n",
      "2.529962771267023e-15  5.617021276595746\n",
      "2.4200619062031188e-15  5.872103799814644\n",
      "2.3101610411392144e-15  6.151456310679612\n",
      "2.2002601760753104e-15  6.458715596330275\n",
      "2.0903593110114057e-15  5.948497854077254\n",
      "1.9804584459475017e-15  6.278595696489241\n",
      "1.870557580883597e-15  5.697841726618705\n",
      "1.7606567158196926e-15  6.053503184713376\n",
      "1.6507558507557885e-15  5.380434782608695\n",
      "1.540854985691884e-15  5.764192139737991\n",
      "1.4309541206279796e-15  4.9655172413793105\n",
      "1.321053255564075e-15  5.378607809847199\n",
      "1.2111523905001709e-15  5.866666666666666\n",
      "1.1012515254362665e-15  6.45213849287169\n",
      "9.91350660372362e-16  5.375565610859729\n",
      "8.814497953084576e-16  6.0458015267175576\n",
      "7.715489302445532e-16  4.604651162790698\n",
      "6.616480651806489e-16  5.3694915254237285\n",
      "5.517472001167445e-16  6.439024390243903\n",
      "4.418463350528401e-16  8.040609137055837\n",
      "3.319454699889357e-16  5.351351351351351\n",
      "2.220446049250313e-16  8.0\n"
     ]
    }
   ],
   "source": [
    "for i in vector\n",
    "    println(i,\"  \",derivada1(g,1,i)) #Imprime en la primera columna h, \n",
    "    # y en la segunda a los valores de derivada 1 en cada h.\n",
    "    end"
   ]
  },
  {
   "cell_type": "markdown",
   "metadata": {},
   "source": [
    "Al igual que en el caso anterior, derivada1 nos arrojó resultados más inexactos entre más pequeña se iba haciendo $h$.\n",
    "Pero ahora notamos que grandes variaciones respecto al valor esperado se opservan a partir de $1e-15$ y no a partir de $1e-16$ como en el caso anterior. \n",
    "Esto se le puede atribuir al hecho de que en ésta ocasión el error por truncamiento era distinto a cero y éste se sumó al error por redondeo de flotantes.\n",
    "\n",
    "Por ejemplo, vemos derivada1 cuando $h=1.1102230246251565e-14$ nos devolvió $6.08$\n",
    "Vemos que el error absoluto en éste caso es igual a $0.08$, lo que es mucho mayor al error esperado por nuestra cota.\n",
    "\n",
    "En ésta ocasión el resultado más alejado del valor esperado fue $8.04$, que implica en éste caso un error relativo de hasta $35\\%$.\n",
    "\n",
    "Por tanto, la función derivada1 funciona correctamente para funciones más o menos arbitrarias, pero entre más nos acercamos a cero la aproximación deja de funcionar como quisiéramos.\n",
    "\n",
    "\n",
    "\n"
   ]
  },
  {
   "cell_type": "markdown",
   "metadata": {
    "collapsed": true
   },
   "source": [
    "# Ejercicio 4:"
   ]
  },
  {
   "cell_type": "markdown",
   "metadata": {},
   "source": [
    "Definimos ahora la función derivada2:"
   ]
  },
  {
   "cell_type": "code",
   "execution_count": 79,
   "metadata": {
    "collapsed": false
   },
   "outputs": [
    {
     "data": {
      "text/plain": [
       "derivada2 (generic function with 1 method)"
      ]
     },
     "execution_count": 79,
     "metadata": {},
     "output_type": "execute_result"
    }
   ],
   "source": [
    "function derivada2(f,xo,h)\n",
    "    \"\"\"Obtiene una aproximación a la derivada de \n",
    "    f(x) alrededor de x_0\"\"\"\n",
    "    @assert h>0 #se asegura que h sea mayor a 0\n",
    "    derivada= (f(xo+h)-f(xo-h))/(2h)\n",
    "    return derivada\n",
    "end"
   ]
  },
  {
   "cell_type": "markdown",
   "metadata": {},
   "source": [
    "Análogamente al ejercicio anterior, desarrollamos la expansión de Taylor para $f(x+h)$ alrededor de $x$:\n",
    "\n",
    "\n",
    "$$f(x+h)=f(x)+hf'(x)+\\frac{h^2f''(\\epsilon)}{2}+\\frac{h^2f'''(\\epsilon_{1})}{6}:\\epsilon_{1}\\in(x,x+h)$$\n",
    "\n",
    "Pero ahora también la desarrollaremos para $f(x-h)$:\n",
    "\n",
    "\n",
    "$$f(x-h)=f(x)+hf'(x)+\\frac{h^2f''(\\epsilon)}{2}-\\frac{h^2f'''(\\epsilon_{2})}{6}:\\epsilon_{2}\\in(x-h,x)$$\n",
    "\n",
    "\n",
    "Por lo tanto:\n",
    "\n",
    "\n",
    "$$f'(x)=\\frac{f(x+h)-f(x-h)}{2h}-\\frac{h^2[f'''(\\epsilon_{1})+f'''(\\epsilon_{2})]}{12}$$\n",
    "\n",
    "Pero por continuidad en el intervalo $(x−h,x+h)$ y usando el teorema del valor intermedio, existe un $\\epsilon$ tal que:\n",
    "\n",
    "$$f'(x)=\\frac{f(x+h)-f(x-h)}{2h}-\\frac{[h^2f'''(\\epsilon_{2})]}{6} :  \\epsilon \\in (x−h,x+h)$$\n",
    "\n",
    "\n",
    "Con lo que se observa que el residuo es ahora de tiempo $h^2$ o $O(h^2)$.\n",
    "\n",
    "\n",
    "A primera impresión podemos pensar que, a $h$ pequeña, el residuo debería disminuir más que el error causado por el redondeo de flotantes en el  numerador de la diferencia, por lo que deberíamos obtenener aproximaciones más exactas.\n",
    "Vamos a probarlo de forma análoga al ejercicio anterior.\n",
    "\n",
    "Probamos derivada2 en el intervalo $(eps(),50eps())$, evaluándola en $f(x)=5x$  ,  $ x_0=1$ y todos los $h$ de nuestro vector:"
   ]
  },
  {
   "cell_type": "code",
   "execution_count": 82,
   "metadata": {
    "collapsed": false,
    "scrolled": true
   },
   "outputs": [
    {
     "name": "stdout",
     "output_type": "stream",
     "text": [
      "1.1102230246251565e-14  4.96\n",
      "1.0992329381187661e-14  5.009589879616405\n",
      "1.0882428516123757e-14  4.978565539983512\n",
      "1.0772527651059852e-14  5.029356652092442\n",
      "1.0662626785995948e-14  4.997896508203618\n",
      "1.0552725920932044e-14  5.007863974495217\n",
      "1.044282505586814e-14  5.018041237113402\n",
      "1.0332924190804235e-14  5.028434990232255\n",
      "1.022302332574033e-14  5.039052215884159\n",
      "1.0113122460676426e-14  5.049900199600798\n",
      "1.0003221595612522e-14  4.97219730941704\n",
      "9.893320730548618e-15  5.0274314214463836\n",
      "9.783419865484713e-15  4.993122420907841\n",
      "9.673519000420809e-15  5.003941571991653\n",
      "9.563618135356903e-15  5.01500938086304\n",
      "9.453717270292999e-15  5.026334519572955\n",
      "9.343816405229094e-15  4.942870859337495\n",
      "9.23391554016519e-15  5.001700267184844\n",
      "9.124014675101287e-15  4.964601769911504\n",
      "9.014113810037381e-15  5.025130629509829\n",
      "8.904212944973478e-15  4.987405541561713\n",
      "8.794312079909572e-15  4.999234889058914\n",
      "8.68441121484567e-15  5.011363636363636\n",
      "8.574510349781764e-15  5.023803295840963\n",
      "8.46460948471786e-15  5.036565977742449\n",
      "8.354708619653957e-15  5.049664429530201\n",
      "8.24480775459005e-15  4.955386289445049\n",
      "8.134906889526148e-15  5.022332506203473\n",
      "8.025006024462242e-15  4.980435997764115\n",
      "7.915105159398339e-15  4.993482572966846\n",
      "7.805204294334435e-15  5.006896551724138\n",
      "7.695303429270529e-15  5.0206936753133204\n",
      "7.585402564206626e-15  4.9178001182732105\n",
      "7.47550169914272e-15  4.99009900990099\n",
      "7.365600834078817e-15  4.943970767356881\n",
      "7.255699969014913e-15  5.018856259659969\n",
      "7.145799103951007e-15  4.971751412429379\n",
      "7.0358982388871036e-15  4.986292636276697\n",
      "6.9259973738231984e-15  5.001295336787565\n",
      "6.816096508759295e-15  5.016781836130305\n",
      "6.70619564369539e-15  5.032775919732441\n",
      "6.596294778631486e-15  5.04930295817749\n",
      "6.486393913567582e-15  4.929460580912862\n",
      "6.376493048503677e-15  5.0144213858600075\n",
      "6.266592183439772e-15  4.960629921259843\n",
      "6.156691318375867e-15  4.97704918032787\n",
      "6.0467904533119636e-15  4.99406528189911\n",
      "5.93688958824806e-15  5.011711371363807\n",
      "5.826988723184155e-15  4.877598152424942\n",
      "5.7170878581202505e-15  4.971361318163986\n",
      "5.607186993056346e-15  4.9896\n",
      "5.497286127992442e-15  5.0085679314565485\n",
      "5.3873852629285375e-15  5.028309741881765\n",
      "5.277484397864633e-15  5.048873778155546\n",
      "5.167583532800729e-15  4.984375\n",
      "5.0576826677368244e-15  5.092682926829268\n",
      "4.94778180267292e-15  5.026291931097008\n",
      "4.837880937609015e-15  5.14047287899861\n",
      "4.7279800725451106e-15  4.978178368121442\n",
      "4.618079207481206e-15  5.00048567265663\n",
      "4.508178342417302e-15  5.023880597014926\n",
      "4.3982774773533975e-15  5.048444671086181\n",
      "4.288376612289494e-15  4.970711297071129\n",
      "4.1784757472255896e-15  5.101449275362318\n",
      "4.068574882161685e-15  4.911797133406835\n",
      "3.95867401709778e-15  4.935977337110482\n",
      "3.848773152033876e-15  4.961538461538462\n",
      "3.738872286969972e-15  4.98860227954409\n",
      "3.628971421906068e-15  5.017305315203955\n",
      "3.519070556842163e-15  5.047801147227533\n",
      "3.4091696917782587e-15  4.949999999999999\n",
      "3.299268826714354e-15  5.114887831407206\n",
      "3.1893679616504492e-15  5.012658227848102\n",
      "3.0794670965865457e-15  5.19155134741442\n",
      "2.969566231522641e-15  4.935045317220544\n",
      "2.8596653664587366e-15  4.969411764705883\n",
      "2.7497645013948322e-15  5.006525285481239\n",
      "2.639863636330928e-15  5.046728971962617\n",
      "2.529962771267023e-15  4.914893617021277\n",
      "2.4200619062031188e-15  5.138090824837813\n",
      "2.3101610411392144e-15  4.805825242718447\n",
      "2.2002601760753104e-15  4.844036697247706\n",
      "2.0903593110114057e-15  4.886266094420601\n",
      "1.9804584459475017e-15  4.933182332955831\n",
      "1.870557580883597e-15  4.985611510791367\n",
      "1.7606567158196926e-15  5.044585987261146\n",
      "1.6507558507557885e-15  4.842391304347825\n",
      "1.540854985691884e-15  5.187772925764192\n",
      "1.4309541206279796e-15  4.9655172413793105\n",
      "1.321053255564075e-15  5.378607809847199\n",
      "1.2111523905001709e-15  4.766666666666667\n",
      "1.1012515254362665e-15  4.839103869653767\n",
      "9.91350660372362e-16  4.927601809954751\n",
      "8.814497953084576e-16  5.038167938931298\n",
      "7.715489302445532e-16  4.604651162790698\n",
      "6.616480651806489e-16  5.3694915254237285\n",
      "5.517472001167445e-16  4.024390243902439\n",
      "4.418463350528401e-16  4.020304568527918\n",
      "3.319454699889357e-16  4.013513513513513\n",
      "2.220446049250313e-16  4.0\n"
     ]
    }
   ],
   "source": [
    "for i in vector\n",
    "    println(i,\"  \",derivada2(f,1,i)) #Imprime en la primera columna h, \n",
    "    # y en la segunda a los valores de derivada2 en cada h.\n",
    "    end"
   ]
  },
  {
   "cell_type": "markdown",
   "metadata": {},
   "source": [
    "En éste caso vemos que se comportan casi igual, lo que tiene sentido ya que para cualquier función lineal, el error por truncamiento será de nuevo cero. Aunque si vemos que para los valores más cercanos a cero, la función derivada2 no se aleja tanto del resultado como la función derivada1.\n",
    "\n",
    "Para la siguiente prueba, definimos y usamos la función $h(x)=10x^4-5$:"
   ]
  },
  {
   "cell_type": "code",
   "execution_count": 92,
   "metadata": {
    "collapsed": false
   },
   "outputs": [
    {
     "data": {
      "text/plain": [
       "h (generic function with 1 method)"
      ]
     },
     "execution_count": 92,
     "metadata": {},
     "output_type": "execute_result"
    }
   ],
   "source": [
    "h(x)=10x^4-5 "
   ]
  },
  {
   "cell_type": "code",
   "execution_count": 93,
   "metadata": {
    "collapsed": false
   },
   "outputs": [
    {
     "name": "stdout",
     "output_type": "stream",
     "text": [
      "1.1102230246251565e-14  40.0\n",
      "1.0992329381187661e-14  40.238318710467254\n",
      "1.0882428516123757e-14  39.991755976916735\n",
      "1.0772527651059852e-14  40.1524047470331\n",
      "1.0662626785995948e-14  39.98317206562894\n",
      "1.0552725920932044e-14  40.231243358129646\n",
      "1.044282505586814e-14  39.97422680412371\n",
      "1.0332924190804235e-14  40.14152376817886\n",
      "1.022302332574033e-14  39.96489688459851\n",
      "1.0113122460676426e-14  40.22355289421158\n",
      "1.0003221595612522e-14  39.955156950672645\n",
      "9.893320730548618e-15  40.12967581047381\n",
      "9.783419865484713e-15  39.944979367262725\n",
      "9.673519000420809e-15  40.21516345930906\n",
      "9.563618135356903e-15  39.93433395872421\n",
      "9.453717270292999e-15  40.11672597864769\n",
      "9.343816405229094e-15  39.92318771003361\n",
      "9.23391554016519e-15  40.20597522467817\n",
      "9.124014675101287e-15  39.911504424778755\n",
      "9.014113810037381e-15  40.10251306295099\n",
      "8.904212944973478e-15  39.8992443324937\n",
      "8.794312079909572e-15  40.19586840091814\n",
      "8.68441121484567e-15  39.88636363636363\n",
      "8.574510349781764e-15  40.086842793617585\n",
      "8.46460948471786e-15  39.872813990461054\n",
      "8.354708619653957e-15  40.18469798657718\n",
      "8.24480775459005e-15  39.85854189336236\n",
      "8.134906889526148e-15  40.06947890818858\n",
      "8.025006024462242e-15  39.84348798211292\n",
      "7.915105159398339e-15  40.172286766789455\n",
      "7.805204294334435e-15  39.82758620689655\n",
      "7.695303429270529e-15  40.05013115709706\n",
      "7.585402564206626e-15  39.8107628622117\n",
      "7.47550169914272e-15  40.15841584158416\n",
      "7.365600834078817e-15  39.792935444579776\n",
      "7.255699969014913e-15  40.02843894899536\n",
      "7.145799103951007e-15  39.77401129943503\n",
      "7.0358982388871036e-15  40.14281160344278\n",
      "6.9259973738231984e-15  39.7538860103627\n",
      "6.816096508759295e-15  40.00394866732478\n",
      "6.70619564369539e-15  39.73244147157191\n",
      "6.596294778631486e-15  40.125127507650454\n",
      "6.486393913567582e-15  39.709543568464724\n",
      "6.376493048503677e-15  39.976081603939505\n",
      "6.266592183439772e-15  39.68503937007874\n",
      "6.156691318375867e-15  40.10491803278689\n",
      "6.0467904533119636e-15  39.65875370919881\n",
      "5.93688958824806e-15  39.944087646392134\n",
      "5.826988723184155e-15  39.63048498845266\n",
      "5.7170878581202505e-15  40.081600627697135\n",
      "5.607186993056346e-15  40.0752\n",
      "5.497286127992442e-15  40.391676866585065\n",
      "5.3873852629285375e-15  39.89675270607827\n",
      "5.277484397864633e-15  40.390990225244366\n",
      "5.167583532800729e-15  40.046875\n",
      "5.0576826677368244e-15  40.390243902439025\n",
      "4.94778180267292e-15  39.85131459655485\n",
      "4.837880937609015e-15  40.38942976356051\n",
      "4.7279800725451106e-15  40.01328273244782\n",
      "4.618079207481206e-15  40.38853812530355\n",
      "4.508178342417302e-15  39.79701492537314\n",
      "4.3982774773533975e-15  40.38755736868945\n",
      "4.288376612289494e-15  39.97280334728033\n",
      "4.1784757472255896e-15  40.386473429951685\n",
      "4.068574882161685e-15  39.73098125689084\n",
      "3.95867401709778e-15  40.38526912181303\n",
      "3.848773152033876e-15  39.92307692307693\n",
      "3.738872286969972e-15  40.38392321535692\n",
      "3.628971421906068e-15  39.648949320148326\n",
      "3.519070556842163e-15  40.382409177820264\n",
      "3.4091696917782587e-15  39.86052631578947\n",
      "3.299268826714354e-15  40.380693405846365\n",
      "3.1893679616504492e-15  39.54430379746836\n",
      "3.0794670965865457e-15  40.37873270211216\n",
      "2.969566231522641e-15  39.779456193353475\n",
      "2.8596653664587366e-15  40.37647058823529\n",
      "2.7497645013948322e-15  39.40619902120718\n",
      "2.639863636330928e-15  40.373831775700936\n",
      "2.529962771267023e-15  39.67021276595745\n",
      "2.4200619062031188e-15  40.37071362372568\n",
      "2.3101610411392144e-15  39.21553398058253\n",
      "2.2002601760753104e-15  40.366972477064216\n",
      "2.0903593110114057e-15  39.51502145922747\n",
      "1.9804584459475017e-15  40.36240090600226\n",
      "1.870557580883597e-15  38.935251798561154\n",
      "1.7606567158196926e-15  40.35668789808917\n",
      "1.6507558507557885e-15  39.27717391304348\n",
      "1.540854985691884e-15  40.34934497816594\n",
      "1.4309541206279796e-15  38.48275862068965\n",
      "1.321053255564075e-15  40.33955857385399\n",
      "1.2111523905001709e-15  38.86666666666666\n",
      "1.1012515254362665e-15  40.32586558044806\n",
      "9.91350660372362e-16  37.6289592760181\n",
      "8.814497953084576e-16  40.30534351145038\n",
      "7.715489302445532e-16  37.98837209302326\n",
      "6.616480651806489e-16  40.271186440677965\n",
      "5.517472001167445e-16  35.41463414634146\n",
      "4.418463350528401e-16  40.203045685279186\n",
      "3.319454699889357e-16  34.78378378378378\n",
      "2.220446049250313e-16  40.0\n"
     ]
    }
   ],
   "source": [
    "for i in vector\n",
    "    println(i,\"  \",derivada2(h,1,i)) #Imprime en la primera columna h, \n",
    "    # y en la segunda a los valores de derivada2 en cada h.\n",
    "    end"
   ]
  },
  {
   "cell_type": "markdown",
   "metadata": {},
   "source": [
    "Y comparamos la distancia entre el valor esperado ($h'(1)=40$) y el obtenido para derivada1 y derivada 2:"
   ]
  },
  {
   "cell_type": "code",
   "execution_count": 95,
   "metadata": {
    "collapsed": false
   },
   "outputs": [
    {
     "name": "stdout",
     "output_type": "stream",
     "text": [
      "0.0  0.0\n",
      "0.2383187104672544  0.3999183840032643\n",
      "0.008244023083264551  0.008244023083264551\n",
      "0.1524047470331027  0.3997501561524075\n",
      "0.016827934371058006  0.016827934371058006\n",
      "0.23124335812964603  0.39957492029755315\n",
      "0.025773195876290345  0.025773195876290345\n",
      "0.1415237681788568  0.39939222921641004\n",
      "0.03510311540149047  0.03510311540149047\n",
      "0.2235528942115792  0.39920159680638534\n",
      "0.044843049327354834  0.044843049327354834\n",
      "0.12967581047381316  0.39900249376558605\n",
      "0.055020632737274866  0.055020632737274866\n",
      "0.21516345930906056  0.39879434268490144\n",
      "0.06566604127579012  0.06566604127579012\n",
      "0.1167259786476933  0.39857651245552006\n",
      "0.07681228996639078  0.07681228996639078\n",
      "0.20597522467816987  0.3983483118775837\n",
      "0.08849557522124485  0.08849557522124485\n",
      "0.10251306295099027  0.3981089823339161\n",
      "0.10075566750629861  0.10075566750629861\n",
      "0.19586840091813684  0.3978576893649617\n",
      "0.11363636363636687  0.11363636363636687\n",
      "0.08684279361758485  0.39759351294794953\n",
      "0.12718600953894565  0.12718600953894565\n",
      "0.18469798657717718  0.39731543624160537\n",
      "0.1414581066376428  0.1414581066376428\n",
      "0.06947890818857871  0.39702233250619656\n",
      "0.15651201788708136  0.15651201788708136\n",
      "0.17228676678945476  0.39671294984414374\n",
      "0.17241379310345195  0.17241379310345195\n",
      "0.05013115709706284  0.39638589332556506\n",
      "0.18923713778829665  0.18923713778829665\n",
      "0.15841584158415856  0.3960396039603964\n",
      "0.2070645554202244  0.2070645554202244\n",
      "0.02843894899535826  0.3956723338485233\n",
      "0.22598870056496878  0.22598870056496878\n",
      "0.1428116034427802  0.39528211667197866\n",
      "0.24611398963730124  0.24611398963730124\n",
      "0.003948667324777944  0.39486673247778725\n",
      "0.2675585284280899  0.2675585284280899\n",
      "0.1251275076504541  0.3944236654199216\n",
      "0.2904564315352758  0.2904564315352758\n",
      "0.02391839606049473  0.3939500527611699\n",
      "0.3149606299212593  0.3149606299212593\n",
      "0.10491803278689105  0.393442622950829\n",
      "0.3412462908011875  0.3412462908011875\n",
      "0.05591235360786584  0.3928976199471066\n",
      "0.36951501154734245  0.36951501154734245\n",
      "0.08160062769713505  0.39231071008238416\n",
      "0.07520000000000238  0.3999999999999986\n",
      "0.3916768665850654  0.3916768665850654\n",
      "0.10324729392173282  0.43297252289758603\n",
      "0.3909902252443658  0.3909902252443658\n",
      "0.046875  0.46875\n",
      "0.39024390243902474  0.39024390243902474\n",
      "0.1486854034451497  0.5077062556663634\n",
      "0.38942976356050707  0.38942976356050707\n",
      "0.013282732447819967  0.5502846299810216\n",
      "0.3885381253035476  0.3885381253035476\n",
      "0.20298507462685933  0.5970149253731307\n",
      "0.3875573686894498  0.3875573686894498\n",
      "0.02719665271966676  0.6485355648535602\n",
      "0.38647342995168543  0.38647342995168543\n",
      "0.2690187431091573  0.705622932745321\n",
      "0.38526912181303175  0.38526912181303175\n",
      "0.0769230769230731  0.7692307692307665\n",
      "0.38392321535692275  0.38392321535692275\n",
      "0.3510506798516744  0.8405438813349875\n",
      "0.3824091778202643  0.3824091778202643\n",
      "0.13947368421052886  0.9210526315789522\n",
      "0.38069340584636535  0.38069340584636535\n",
      "0.4556962025316409  1.0126582278480925\n",
      "0.3787327021121598  0.3787327021121598\n",
      "0.22054380664652484  1.1178247734139006\n",
      "0.3764705882352928  0.3764705882352928\n",
      "0.5938009787928209  1.2398042414355643\n",
      "0.3738317757009355  0.3738317757009355\n",
      "0.3297872340425485  1.3829787234042499\n",
      "0.3707136237256776  0.3707136237256776\n",
      "0.7844660194174722  1.5533980582524265\n",
      "0.3669724770642162  0.3669724770642162\n",
      "0.48497854077253066  1.759656652360512\n",
      "0.3624009060022573  0.3624009060022573\n",
      "1.0647482014388459  2.014388489208635\n",
      "0.3566878980891701  0.3566878980891701\n",
      "0.7228260869565233  2.3369565217391326\n",
      "0.3493449781659379  0.3493449781659379\n",
      "1.5172413793103487  2.7586206896551744\n",
      "0.33955857385399213  0.33955857385399213\n",
      "1.13333333333334  3.3333333333333357\n",
      "0.3258655804480597  0.3258655804480597\n",
      "2.371040723981899  4.162895927601809\n",
      "0.3053435114503813  0.3053435114503813\n",
      "2.0116279069767415  5.465116279069768\n",
      "0.2711864406779654  0.2711864406779654\n",
      "4.585365853658537  7.804878048780488\n",
      "0.20304568527918576  0.20304568527918576\n",
      "5.216216216216218  13.243243243243246\n",
      "0.0  0.0\n"
     ]
    }
   ],
   "source": [
    "for i in vector\n",
    "    println(abs(40-derivada2(h,1,i)),\"  \",abs(40-derivada1(h,1,i))) #Imprime el error absoluto para cada h\n",
    "    end"
   ]
  },
  {
   "cell_type": "markdown",
   "metadata": {},
   "source": [
    "Como esperabamos, la convergencia de derivada2 en éste caso fue mejor que para derivada1, y en conclusión derivada2 resulta una mejor aproximación a la derivada que derivada1, aunque hasta para derivada2 se sigue observando que para $h$ muy pequeña el error por redondeo sigue afectando de forma tremenda a la aproximación.\n",
    "\n"
   ]
  },
  {
   "cell_type": "markdown",
   "metadata": {},
   "source": [
    "### Referencias:\n",
    "Nocedal, Jorge and Stephen J. wright.\n",
    "1999.\n",
    "Numerical Optimization.\n",
    "Springer-\n",
    "Verlag New York, Inc."
   ]
  },
  {
   "cell_type": "code",
   "execution_count": null,
   "metadata": {
    "collapsed": true
   },
   "outputs": [],
   "source": []
  }
 ],
 "metadata": {
  "kernelspec": {
   "display_name": "Julia 0.3.10",
   "language": "julia",
   "name": "julia-0.3"
  },
  "language_info": {
   "name": "julia",
   "version": "0.3.10"
  }
 },
 "nbformat": 4,
 "nbformat_minor": 0
}
