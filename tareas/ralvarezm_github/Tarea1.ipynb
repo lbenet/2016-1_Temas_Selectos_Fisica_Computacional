{
 "cells": [
  {
   "cell_type": "markdown",
   "metadata": {},
   "source": [
    "# Ejercicio 1:\n",
    "\n",
    "Si le pedimos a Julia la representación en binario de 0.1 (flotante de 64-bits), obtenemos:"
   ]
  },
  {
   "cell_type": "code",
   "execution_count": 2,
   "metadata": {
    "collapsed": false
   },
   "outputs": [
    {
     "data": {
      "text/plain": [
       "\"0011111110111001100110011001100110011001100110011001100110011010\""
      ]
     },
     "execution_count": 2,
     "metadata": {},
     "output_type": "execute_result"
    }
   ],
   "source": [
    "bits(0.1)"
   ]
  },
  {
   "cell_type": "markdown",
   "metadata": {},
   "source": [
    "Si hacemos la división larga del binario 1 (1 en decimal) entre 1010 (10 en decimal), obtenemos que el 0.1 en binario no tiene una representación exacta y es de la forma: 00011001100110011001100... hasta infinito.\n",
    "\n",
    "Por lo tanto, no importa cuantos bits puedas almacenar en tu computadora, nunca podrás expresar 0.1 exactamente en binario.\n",
    "\n",
    "Los números flotantes que usa Julia(y casi todos los lenguajes de programación) son representados con un número fijo de bits. En los punto-flotante de doble precisión, por ejemplo, se utilizan 53 bits, por lo que la representación infinita de un número es redondeada a 53 cifras significantes.\n",
    "\n",
    "En el caso de 0.1, escencialmente, el número se divide en dos partes: el significando y el exponente.\n",
    "0.1 seria representado en decimal como $1*10^{-1}$.\n",
    "La computadora, en lugar de almacenarlo como $x10^y$, los almacena como $a2^b$.\n",
    "\n",
    "Para 0.1, según la convención IEEE para flotantes dobles, el primer bit(en éste caso 0) indica el signo, por lo tanto un 0 indica que nuestro número es positivo.\n",
    "La segunda parte de 0.1 en flotante(los siguientes 11 bits: 01111111011), almacena el exponente del número.\n",
    "Los bits restantes son para el significando del número."
   ]
  },
  {
   "cell_type": "markdown",
   "metadata": {},
   "source": [
    "# Ejercicio 2:\n",
    "\n",
    "Implementamos la siguiente función recursiva para encontrar el machine epsilon:"
   ]
  },
  {
   "cell_type": "code",
   "execution_count": 39,
   "metadata": {
    "collapsed": false
   },
   "outputs": [
    {
     "data": {
      "text/plain": [
       "machineepsilon (generic function with 2 methods)"
      ]
     },
     "execution_count": 39,
     "metadata": {},
     "output_type": "execute_result"
    }
   ],
   "source": [
    "function machineepsilon(x,eps=1.0)\n",
    "    \"\"\"Encuentra el machine epsilon de un \n",
    "    número flotante determinado, recibe como\n",
    "    argumentos el flotante.\"\"\"\n",
    "    if x+ (eps/2) > x\n",
    "        return machineepsilon(x,(eps/2)) \n",
    "        end\n",
    "    return eps \n",
    "    end\n"
   ]
  },
  {
   "cell_type": "code",
   "execution_count": 38,
   "metadata": {
    "collapsed": false
   },
   "outputs": [
    {
     "data": {
      "text/plain": [
       "(2.220446049250313e-16,2.220446049250313e-16)"
      ]
     },
     "execution_count": 38,
     "metadata": {},
     "output_type": "execute_result"
    }
   ],
   "source": [
    "machineepsilon(1.0),eps(1.0)"
   ]
  },
  {
   "cell_type": "code",
   "execution_count": 36,
   "metadata": {
    "collapsed": false
   },
   "outputs": [
    {
     "data": {
      "text/plain": [
       "(1.7763568394002505e-15,1.7763568394002505e-15)"
      ]
     },
     "execution_count": 36,
     "metadata": {},
     "output_type": "execute_result"
    }
   ],
   "source": [
    "machineepsilon(10.0),eps(10.0)"
   ]
  },
  {
   "cell_type": "markdown",
   "metadata": {},
   "source": [
    "# Ejercicio 3:"
   ]
  },
  {
   "cell_type": "code",
   "execution_count": 3,
   "metadata": {
    "collapsed": false
   },
   "outputs": [
    {
     "data": {
      "text/plain": [
       "derivada1 (generic function with 1 method)"
      ]
     },
     "execution_count": 3,
     "metadata": {},
     "output_type": "execute_result"
    }
   ],
   "source": [
    "function derivada1(f,xo,h)\n",
    "    \"\"\"Obtiene una aproximación a la derivada de \n",
    "    f(x) alrededor de x_0\"\"\"\n",
    "    @assert h>0 \n",
    "    operador= (f(xo+h)-f(xo))/h\n",
    "    return operador\n",
    "end"
   ]
  },
  {
   "cell_type": "code",
   "execution_count": 6,
   "metadata": {
    "collapsed": false
   },
   "outputs": [
    {
     "data": {
      "text/plain": [
       "xsquared (generic function with 1 method)"
      ]
     },
     "execution_count": 6,
     "metadata": {},
     "output_type": "execute_result"
    }
   ],
   "source": [
    "function xsquared(y)\n",
    "    return y*y\n",
    "end"
   ]
  },
  {
   "cell_type": "code",
   "execution_count": 23,
   "metadata": {
    "collapsed": false
   },
   "outputs": [
    {
     "data": {
      "text/plain": [
       "polejemp (generic function with 1 method)"
      ]
     },
     "execution_count": 23,
     "metadata": {},
     "output_type": "execute_result"
    }
   ],
   "source": [
    "function polejemp(y)\n",
    "    return 10y^3+5y^2\n",
    "end"
   ]
  },
  {
   "cell_type": "code",
   "execution_count": 25,
   "metadata": {
    "collapsed": false
   },
   "outputs": [
    {
     "data": {
      "text/plain": [
       "polinomio2 (generic function with 1 method)"
      ]
     },
     "execution_count": 25,
     "metadata": {},
     "output_type": "execute_result"
    }
   ],
   "source": [
    "function polinomio2(y)\n",
    "    poli=-10y^2+19\n",
    "    return poli\n",
    "end"
   ]
  },
  {
   "cell_type": "code",
   "execution_count": 26,
   "metadata": {
    "collapsed": false
   },
   "outputs": [
    {
     "data": {
      "text/plain": [
       "lineal (generic function with 1 method)"
      ]
     },
     "execution_count": 26,
     "metadata": {},
     "output_type": "execute_result"
    }
   ],
   "source": [
    "function lineal(y)\n",
    "    return 5y\n",
    "end"
   ]
  },
  {
   "cell_type": "code",
   "execution_count": 13,
   "metadata": {
    "collapsed": false
   },
   "outputs": [
    {
     "data": {
      "text/plain": [
       "5.0"
      ]
     },
     "execution_count": 13,
     "metadata": {},
     "output_type": "execute_result"
    }
   ],
   "source": [
    "derivada1(lineal,7,1)"
   ]
  },
  {
   "cell_type": "code",
   "execution_count": 27,
   "metadata": {
    "collapsed": false
   },
   "outputs": [
    {
     "data": {
      "text/plain": [
       "5.0"
      ]
     },
     "execution_count": 27,
     "metadata": {},
     "output_type": "execute_result"
    }
   ],
   "source": [
    "derivada1(lineal,7,0.1)"
   ]
  },
  {
   "cell_type": "code",
   "execution_count": 39,
   "metadata": {
    "collapsed": false
   },
   "outputs": [
    {
     "data": {
      "text/plain": [
       "-110.0"
      ]
     },
     "execution_count": 39,
     "metadata": {},
     "output_type": "execute_result"
    }
   ],
   "source": [
    "derivada1(polinomio2,5,1)"
   ]
  },
  {
   "cell_type": "code",
   "execution_count": 40,
   "metadata": {
    "collapsed": false
   },
   "outputs": [
    {
     "data": {
      "text/plain": [
       "-99.47598300641403"
      ]
     },
     "execution_count": 40,
     "metadata": {},
     "output_type": "execute_result"
    }
   ],
   "source": [
    "derivada1(polinomio2,5,1e-14)"
   ]
  },
  {
   "cell_type": "code",
   "execution_count": 44,
   "metadata": {
    "collapsed": false
   },
   "outputs": [
    {
     "data": {
      "text/plain": [
       "12.696480824257018"
      ]
     },
     "execution_count": 44,
     "metadata": {},
     "output_type": "execute_result"
    }
   ],
   "source": [
    "derivada1(exp,2,1)"
   ]
  },
  {
   "cell_type": "code",
   "execution_count": 45,
   "metadata": {
    "collapsed": false
   },
   "outputs": [
    {
     "data": {
      "text/plain": [
       "7.5495165674510645"
      ]
     },
     "execution_count": 45,
     "metadata": {},
     "output_type": "execute_result"
    }
   ],
   "source": [
    "derivada1(exp,2,1e-14)"
   ]
  },
  {
   "cell_type": "code",
   "execution_count": 43,
   "metadata": {
    "collapsed": false
   },
   "outputs": [
    {
     "data": {
      "text/plain": [
       "215.0"
      ]
     },
     "execution_count": 43,
     "metadata": {},
     "output_type": "execute_result"
    }
   ],
   "source": [
    "derivada1(polejemp,2,1)"
   ]
  },
  {
   "cell_type": "code",
   "execution_count": 31,
   "metadata": {
    "collapsed": false
   },
   "outputs": [
    {
     "data": {
      "text/plain": [
       "142.10854715202004"
      ]
     },
     "execution_count": 31,
     "metadata": {},
     "output_type": "execute_result"
    }
   ],
   "source": [
    "derivada1(polejemp,2,1e-14)"
   ]
  },
  {
   "cell_type": "markdown",
   "metadata": {},
   "source": [
    "Observamos que la fórmula únicamente es exacta para funciones lineales.\n",
    "Podríamos calcular el Error de aproximación usando la expansión de Taylor alrededor de x:\n",
    "\n",
    "$$f(x+h)=f(x)+hf'(x)+\\frac{h^2f''(\\epsilon)}{2}   :\\epsilon\\in(x,x+h)$$\n",
    "De lo que se obtiene:\n",
    "$$f'(x)=\\frac{f(x+h)-f(x)}{h}-\\frac{hf''(\\epsilon)}{2}$$\n",
    "Observamos entonces, usando notación O grande, que el error es de tiempo $h$, osea, $O(h)$\n",
    "Esto sugiere que $h$ debe ser tan pequeña como sea posible si queremos reducir el error, pero observamos que como el término de la diferencia es dividido por $h$, hacer $h$ muy pequeño equivale a multiplicar el numerador de la diferencia por un número muy grande. \n",
    "Ésto implica que cualquier error de redondeo en el numerador se amplificará y entre más pequeño $h$ éste error aumentará.\n",
    "\n",
    "Por lo tanto, tenemos que encontrar una $h$ que minimize el error total, compuesto por el error del residuo de Taylor(que disminuye con $h$ chica), y el error de redondeo producto de la aritmética de los punto flotante(que aumenta con $h$ chica).\n"
   ]
  },
  {
   "cell_type": "markdown",
   "metadata": {
    "collapsed": true
   },
   "source": [
    "# Ejercicio 4:"
   ]
  },
  {
   "cell_type": "code",
   "execution_count": 32,
   "metadata": {
    "collapsed": false
   },
   "outputs": [
    {
     "data": {
      "text/plain": [
       "derivada2 (generic function with 1 method)"
      ]
     },
     "execution_count": 32,
     "metadata": {},
     "output_type": "execute_result"
    }
   ],
   "source": [
    "function derivada2(f,xo,h)\n",
    "    \"\"\"Obtiene una aproximación a la derivada de \n",
    "    f(x) alrededor de x_0\"\"\"\n",
    "    @assert h>0 \n",
    "    operador= (f(xo+h)-f(xo-h))/(2h)\n",
    "    return operador\n",
    "end"
   ]
  },
  {
   "cell_type": "code",
   "execution_count": 36,
   "metadata": {
    "collapsed": false
   },
   "outputs": [
    {
     "data": {
      "text/plain": [
       "5.0"
      ]
     },
     "execution_count": 36,
     "metadata": {},
     "output_type": "execute_result"
    }
   ],
   "source": [
    "derivada2(lineal,7,1)"
   ]
  },
  {
   "cell_type": "code",
   "execution_count": 37,
   "metadata": {
    "collapsed": false
   },
   "outputs": [
    {
     "data": {
      "text/plain": [
       "5.0"
      ]
     },
     "execution_count": 37,
     "metadata": {},
     "output_type": "execute_result"
    }
   ],
   "source": [
    "derivada2(lineal,7,0.1)"
   ]
  },
  {
   "cell_type": "code",
   "execution_count": 41,
   "metadata": {
    "collapsed": false
   },
   "outputs": [
    {
     "data": {
      "text/plain": [
       "-100.0"
      ]
     },
     "execution_count": 41,
     "metadata": {},
     "output_type": "execute_result"
    }
   ],
   "source": [
    "derivada2(polinomio2,5,1)"
   ]
  },
  {
   "cell_type": "code",
   "execution_count": 42,
   "metadata": {
    "collapsed": false
   },
   "outputs": [
    {
     "data": {
      "text/plain": [
       "-98.05489753489383"
      ]
     },
     "execution_count": 42,
     "metadata": {},
     "output_type": "execute_result"
    }
   ],
   "source": [
    "derivada2(polinomio2,5,1e-14)"
   ]
  },
  {
   "cell_type": "code",
   "execution_count": 46,
   "metadata": {
    "collapsed": false
   },
   "outputs": [
    {
     "data": {
      "text/plain": [
       "8.683627547364312"
      ]
     },
     "execution_count": 46,
     "metadata": {},
     "output_type": "execute_result"
    }
   ],
   "source": [
    "derivada2(exp,2,1)"
   ]
  },
  {
   "cell_type": "code",
   "execution_count": 47,
   "metadata": {
    "collapsed": false
   },
   "outputs": [
    {
     "data": {
      "text/plain": [
       "7.460698725481052"
      ]
     },
     "execution_count": 47,
     "metadata": {},
     "output_type": "execute_result"
    }
   ],
   "source": [
    "derivada2(exp,2,1e-14)"
   ]
  },
  {
   "cell_type": "code",
   "execution_count": 48,
   "metadata": {
    "collapsed": false
   },
   "outputs": [
    {
     "data": {
      "text/plain": [
       "150.0"
      ]
     },
     "execution_count": 48,
     "metadata": {},
     "output_type": "execute_result"
    }
   ],
   "source": [
    "derivada2(polejemp,2,1)"
   ]
  },
  {
   "cell_type": "code",
   "execution_count": 49,
   "metadata": {
    "collapsed": false
   },
   "outputs": [
    {
     "data": {
      "text/plain": [
       "142.10854715202004"
      ]
     },
     "execution_count": 49,
     "metadata": {},
     "output_type": "execute_result"
    }
   ],
   "source": [
    "derivada1(polejemp,2,1e-14)"
   ]
  },
  {
   "cell_type": "markdown",
   "metadata": {},
   "source": [
    "Después de probar los mismos casos que para derivada1, observamos que derivada 2 aproxima mejor los casos aunque $h$ sea grande(1 en éste caso).\n",
    "Realizamos la expansión de Taylor para ver a que se debe:\n",
    "$$f(x+h)=f(x)+hf'(x)+\\frac{h^2f''(\\epsilon)}{2}+\\frac{h^3f'''(\\epsilon_{1})}{6}:\\epsilon_{1}\\in(x,x+h)$$\n",
    "$$f(x-h)=f(x)+hf'(x)+\\frac{h^2f''(\\epsilon)}{2}-\\frac{h^3f'''(\\epsilon_{2})}{6}:\\epsilon_{2}\\in(x-h,x)$$\n",
    "Por lo tanto:\n",
    "$$f'(x)=\\frac{f(x+h)-f(x-h)}{2h}-\\frac{h^2[f'''(\\epsilon_{1})+f'''(\\epsilon_{2})]}{12}$$\n",
    "Con lo que se observa que el residuo es ahora de tiempo $h^2$ o $O(h^2)$\n",
    "Entonces podemos concluir, que a $h$ pequeña, el residuo disminuye más que el error causado por el redondeo del numerador de la diferencia, por lo que obtenemos aproximaciones más exactas."
   ]
  },
  {
   "cell_type": "markdown",
   "metadata": {},
   "source": [
    "### Referencias:\n",
    "Nocedal, Jorge and Stephen J. wright.\n",
    "1999.\n",
    "Numerical Optimization.\n",
    "Springer-\n",
    "Verlag New York, Inc."
   ]
  }
 ],
 "metadata": {
  "kernelspec": {
   "display_name": "Julia 0.3.10",
   "language": "julia",
   "name": "julia-0.3"
  },
  "language_info": {
   "name": "julia",
   "version": "0.3.10"
  }
 },
 "nbformat": 4,
 "nbformat_minor": 0
}
