{
 "cells": [
  {
   "cell_type": "markdown",
   "metadata": {},
   "source": [
    "#Ejercicio 1"
   ]
  },
  {
   "cell_type": "markdown",
   "metadata": {},
   "source": [
    "En clase vimos que la función bits permite ver la representación binaria de números de punto flotante (Float64) o de enteros (e.g., Int64). En particular, para números de punto flotante, el primer bit es el signo, los siguiente 11 son el exponente y el resto es la representación binaria (sin el 1 del principio), del número en cuestión.\n",
    "La pregunta es ¿qué significa el exponente?"
   ]
  },
  {
   "cell_type": "markdown",
   "metadata": {},
   "source": [
    "Los numeros de tipo flotante se componen de lo siguiente: la mantisa y el exponente.\n",
    "La mantisa contiene los dígitos del número.\n",
    "El exponente indica dónde se coloca el punto deciml en relación al inicio de la mantisa"
   ]
  },
  {
   "cell_type": "markdown",
   "metadata": {},
   "source": [
    "#Ejercicio 2"
   ]
  },
  {
   "cell_type": "markdown",
   "metadata": {},
   "source": [
    "¿Cuál es el número más chico que sumado (o restado) a 1.0 me da algo distinto de 1.0?"
   ]
  },
  {
   "cell_type": "code",
   "execution_count": 4,
   "metadata": {
    "collapsed": false
   },
   "outputs": [
    {
     "data": {
      "text/plain": [
       "2.220446049250313e-16"
      ]
     },
     "execution_count": 4,
     "metadata": {},
     "output_type": "execute_result"
    }
   ],
   "source": [
    "ϵ = 1.0\n",
    "ϵ_actual = 1.0\n",
    "suma = 2.0\n",
    "\n",
    "while suma > 1.0\n",
    "    ϵ_actual = ϵ\n",
    "    ϵ = ϵ/2.0\n",
    "    suma = 1.0 + ϵ\n",
    "end\n",
    "return ϵ_actual"
   ]
  },
  {
   "cell_type": "markdown",
   "metadata": {},
   "source": [
    "¿Cuál es el número más chico que sumado (o restado) a 10.0 me da algo distinto de 10.0?"
   ]
  },
  {
   "cell_type": "code",
   "execution_count": 6,
   "metadata": {
    "collapsed": false
   },
   "outputs": [
    {
     "data": {
      "text/plain": [
       "1.7763568394002505e-15"
      ]
     },
     "execution_count": 6,
     "metadata": {},
     "output_type": "execute_result"
    }
   ],
   "source": [
    "ϵ = 1.0\n",
    "ϵ_actual = 1.0\n",
    "suma = 11.0\n",
    "\n",
    "while suma > 10.0\n",
    "    ϵ_actual = ϵ\n",
    "    ϵ = ϵ/2.0\n",
    "    suma = 10.0 + ϵ\n",
    "end\n",
    "return ϵ_actual"
   ]
  },
  {
   "cell_type": "markdown",
   "metadata": {},
   "source": [
    "#Ejercicio 3"
   ]
  },
  {
   "cell_type": "markdown",
   "metadata": {},
   "source": [
    "Define una functión llamada derivada1"
   ]
  },
  {
   "cell_type": "code",
   "execution_count": 18,
   "metadata": {
    "collapsed": false
   },
   "outputs": [
    {
     "data": {
      "text/plain": [
       "derivada1 (generic function with 1 method)"
      ]
     },
     "execution_count": 18,
     "metadata": {},
     "output_type": "execute_result"
    }
   ],
   "source": [
    "function derivada1(x0,h,f)\n",
    "    (f(x0 + h) - f(x0))/h\n",
    "end"
   ]
  },
  {
   "cell_type": "markdown",
   "metadata": {},
   "source": [
    "La aproximación es mala ya que el valor de h es fijo."
   ]
  },
  {
   "cell_type": "markdown",
   "metadata": {},
   "source": [
    "Ejemplo: sea la funcion x^2. Sabemos que su derivada es 2x.\n",
    "Para poder ver el error, haremos la resta de dichas funciones."
   ]
  },
  {
   "cell_type": "code",
   "execution_count": 37,
   "metadata": {
    "collapsed": false
   },
   "outputs": [
    {
     "data": {
      "text/plain": [
       "f (generic function with 1 method)"
      ]
     },
     "execution_count": 37,
     "metadata": {},
     "output_type": "execute_result"
    }
   ],
   "source": [
    "f(x) = x^2"
   ]
  },
  {
   "cell_type": "code",
   "execution_count": 38,
   "metadata": {
    "collapsed": false
   },
   "outputs": [
    {
     "data": {
      "text/plain": [
       "g (generic function with 1 method)"
      ]
     },
     "execution_count": 38,
     "metadata": {},
     "output_type": "execute_result"
    }
   ],
   "source": [
    "g(x) = 2*x"
   ]
  },
  {
   "cell_type": "code",
   "execution_count": 23,
   "metadata": {
    "collapsed": false
   },
   "outputs": [
    {
     "name": "stdout",
     "output_type": "stream",
     "text": [
      "0.19999999999999973\n",
      "0.20000000000000373\n",
      "0.20000000000000995\n",
      "0.20000000000000284\n",
      "0.2000000000000135\n",
      "0.20000000000002416\n",
      "0.20000000000001705\n",
      "0.19999999999997442\n",
      "0.1999999999999318\n",
      "0.1999999999999602\n"
     ]
    }
   ],
   "source": [
    "for i in 1:10\n",
    "    error = derivada1(i,0.2,f)-g(i)\n",
    "    println(error)\n",
    "end"
   ]
  },
  {
   "cell_type": "markdown",
   "metadata": {},
   "source": [
    "si hacemos más pequeño el valor de h, el error se hace menor"
   ]
  },
  {
   "cell_type": "code",
   "execution_count": 32,
   "metadata": {
    "collapsed": false
   },
   "outputs": [
    {
     "name": "stdout",
     "output_type": "stream",
     "text": [
      "0.00019999999967446058\n",
      "0.0001999999983439693\n",
      "0.00020000000256459316\n",
      "0.0002000000156670012\n",
      "0.00020000002876940925\n",
      "0.0002000000241082489\n",
      "0.00020000001944708856\n",
      "0.00019999997925879143\n",
      "0.00019999997459763108\n",
      "0.00019999996993647073\n"
     ]
    }
   ],
   "source": [
    "for i in 1:10\n",
    "    error = derivada1(i,0.0002,f)-g(i)\n",
    "    println(error)\n",
    "end"
   ]
  },
  {
   "cell_type": "markdown",
   "metadata": {},
   "source": [
    "Observación: si hacemos que h sea un multiplo de 2, el error que puede venir de la manera en que la computadora guarda la información se reduce, ya que la maquina guarda los numeros en base 2."
   ]
  },
  {
   "cell_type": "code",
   "execution_count": 33,
   "metadata": {
    "collapsed": false
   },
   "outputs": [
    {
     "name": "stdout",
     "output_type": "stream",
     "text": [
      "0.0004999999998496207\n",
      "0.0005000000018497985\n",
      "0.0005000000025177087\n",
      "0.0004999999943038347\n",
      "0.0004999999967481017\n",
      "0.0004999999991923687\n",
      "0.0004999999945312084\n",
      "0.0005000000182917574\n",
      "0.0005000000278414518\n",
      "0.0005000000373911462\n"
     ]
    }
   ],
   "source": [
    "for i in 1:10\n",
    "    error = derivada1(i,0.0005,f)-g(i)\n",
    "    println(error)\n",
    "end"
   ]
  },
  {
   "cell_type": "markdown",
   "metadata": {},
   "source": [
    "#Ejercicio 4"
   ]
  },
  {
   "cell_type": "code",
   "execution_count": 48,
   "metadata": {
    "collapsed": false
   },
   "outputs": [
    {
     "data": {
      "text/plain": [
       "derivada2 (generic function with 1 method)"
      ]
     },
     "execution_count": 48,
     "metadata": {},
     "output_type": "execute_result"
    }
   ],
   "source": [
    "function derivada2(x0,h,f)\n",
    "    (f(x0 + h) - f(x0 - h))/(2.0*h)\n",
    "end"
   ]
  },
  {
   "cell_type": "code",
   "execution_count": 49,
   "metadata": {
    "collapsed": false
   },
   "outputs": [
    {
     "data": {
      "text/plain": [
       "f (generic function with 1 method)"
      ]
     },
     "execution_count": 49,
     "metadata": {},
     "output_type": "execute_result"
    }
   ],
   "source": [
    "f(x) = x^2"
   ]
  },
  {
   "cell_type": "code",
   "execution_count": 51,
   "metadata": {
    "collapsed": false
   },
   "outputs": [
    {
     "data": {
      "text/plain": [
       "g (generic function with 1 method)"
      ]
     },
     "execution_count": 51,
     "metadata": {},
     "output_type": "execute_result"
    }
   ],
   "source": [
    "g(x) = 2.0*x"
   ]
  },
  {
   "cell_type": "code",
   "execution_count": 52,
   "metadata": {
    "collapsed": false
   },
   "outputs": [
    {
     "name": "stdout",
     "output_type": "stream",
     "text": [
      "-2.2026824808563106e-13\n",
      "-2.0000000000002203\n",
      "-4.00000000000022\n",
      "-5.999999999998\n",
      "-7.999999999995779\n",
      "-9.99999999999578\n",
      "-11.99999999999578\n",
      "-14.00000000000022\n",
      "-16.00000000000466\n",
      "-18.00000000000466\n"
     ]
    }
   ],
   "source": [
    "for i in 1:10\n",
    "    error = derivada2(i,0.0002,f)-g(i)\n",
    "    println(error)\n",
    "end"
   ]
  },
  {
   "cell_type": "markdown",
   "metadata": {},
   "source": [
    "Al hacer la resta de derivada2 menos g (que es la función que se obtiene al derivar la f), se puede ver que el erro es menor que en el caso de la derivada1.\n",
    "Esto se puede deber a que ahora estamos haciendo la aproximación alrededor de x0, tomando en cuenta los extremos x0-h y x0+h, de lo cual se obtiene más información de la función."
   ]
  }
 ],
 "metadata": {
  "kernelspec": {
   "display_name": "Julia 0.3.2",
   "language": "julia",
   "name": "julia-0.3"
  },
  "language_info": {
   "name": "julia",
   "version": "0.3.2"
  }
 },
 "nbformat": 4,
 "nbformat_minor": 0
}
