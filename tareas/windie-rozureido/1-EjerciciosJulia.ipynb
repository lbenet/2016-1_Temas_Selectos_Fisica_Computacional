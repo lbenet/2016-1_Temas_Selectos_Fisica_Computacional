{
 "cells": [
  {
   "cell_type": "markdown",
   "metadata": {},
   "source": [
    "Gerardo Rivas Alvarez."
   ]
  },
  {
   "cell_type": "markdown",
   "metadata": {},
   "source": [
    "### Ejercicio 1\n",
    "\n",
    "En clase vimos que la función `bits` permite ver la representación binaria de números de punto flotante (`Float64`) o de enteros (e.g., `Int64`). En particular, para números de punto flotante, el primer bit es el signo, los siguiente 11 son el *exponente* y el resto es la representación binaria (sin el 1 del principio), del número en cuestión.\n",
    "\n",
    "La pregunta es ¿qué significa el exponente?\n",
    "\n",
    "```julia\n",
    "bits(0.1)\n",
    "\"0111111111110000000000000000000000000000000000000000000000000000\"\n",
    "```"
   ]
  },
  {
   "cell_type": "code",
   "execution_count": 20,
   "metadata": {
    "collapsed": false
   },
   "outputs": [
    {
     "data": {
      "text/plain": [
       "\"0011111110111001100110011001100110011001100110011001100110011010\""
      ]
     },
     "execution_count": 20,
     "metadata": {},
     "output_type": "execute_result"
    }
   ],
   "source": [
    "bits(0.1) #jugando con bits."
   ]
  },
  {
   "cell_type": "markdown",
   "metadata": {},
   "source": [
    "Citando textualmente a la Wikipedia \"La representación de coma flotante (en inglés floating point, que significa «punto flotante») es una forma de notación científica usada en los microprocesadores con la cual se pueden representar números racionales extremadamente grandes y pequeños de una manera muy eficiente y compacta, y con la que se pueden realizar operaciones aritméticas.\" Así, la representación de un número de coma flotantes $m$ es $m=b \\times 2^{r} $. Hay una convención internacional en la que se acuerda guardar en el primer bit la información del signo. En los siguientes 11 bits se guarda el exponente $r$ y los 52 restantes son información del coeficiente $b$. Probemos a ver qué tanto hace `bits()`"
   ]
  },
  {
   "cell_type": "code",
   "execution_count": 7,
   "metadata": {
    "collapsed": false
   },
   "outputs": [
    {
     "data": {
      "text/plain": [
       "\"0011111111110000000000000000000000000000000000000000000000000000\""
      ]
     },
     "execution_count": 7,
     "metadata": {},
     "output_type": "execute_result"
    }
   ],
   "source": [
    "bits(1.0)"
   ]
  },
  {
   "cell_type": "markdown",
   "metadata": {},
   "source": [
    "O sea, que la representación del 1.0 es,el primer 0 es el signo positivo. Tenemos de exponente `01111111111` y `1` de coeficiente. Así que $1.0_{10} = 1_2 \\times 10_2^{01111111111_2}$ cuando en realidad debería ser $1.0_{10}= 1_2 \\times 10_2^0 $."
   ]
  },
  {
   "cell_type": "code",
   "execution_count": 15,
   "metadata": {
    "collapsed": false
   },
   "outputs": [
    {
     "data": {
      "text/plain": [
       "\"0100000000000000000000000000000000000000000000000000000000000000\""
      ]
     },
     "execution_count": 15,
     "metadata": {},
     "output_type": "execute_result"
    }
   ],
   "source": [
    "bits(2.0)"
   ]
  },
  {
   "cell_type": "markdown",
   "metadata": {},
   "source": [
    "Ahora, para la representación de $-2.0$ tenemos que el primer `1` nos da el signo negativo. El exponente es `10000000000`, así, $-2.0_{10} =-1_2 \\times 10^{10000000000_2}_2  $. Cuando en realidad se debería escribir $-2.0_{10} = -1_2 \\times 10^{1_2}_2$. Notemos que si se suma 1 al exponente del 1.0 tenemos $1111111111+1=10000000000$ que es el exponente de dos, como debe ser. Y si sumamos 1, deberíamos obtener el exponente del 4.0. El exponente del 4.0 es $10000000000+1 = 10000000001$."
   ]
  },
  {
   "cell_type": "code",
   "execution_count": 16,
   "metadata": {
    "collapsed": false
   },
   "outputs": [
    {
     "data": {
      "text/plain": [
       "\"0100000000010000000000000000000000000000000000000000000000000000\""
      ]
     },
     "execution_count": 16,
     "metadata": {},
     "output_type": "execute_result"
    }
   ],
   "source": [
    "bits(4.0)"
   ]
  },
  {
   "cell_type": "markdown",
   "metadata": {},
   "source": [
    "En efecto, el exponente en la representación del 4.0 es `10000000001`. cuando debería ser `10`, en base 2 naturalmente. Por lo tanto concluyo que la convención con la que representan en bits a los números con punto flotante tiene como cero del exponente no al cero, sino más bien al `01111111111`. "
   ]
  },
  {
   "cell_type": "markdown",
   "metadata": {},
   "source": [
    "### Ejercicio 2\n",
    "\n",
    "- ¿Cuál es el número más chico que sumado (o restado) a 1.0 me da algo distinto de 1.0?\n",
    "(Este número se bautiza como el \"épsilon de la máquina\")\n",
    "\n",
    "- ¿Cuál es el número más chico que sumado (o restado) a 10.0 me da algo distinto de 10.0?\n"
   ]
  },
  {
   "cell_type": "markdown",
   "metadata": {},
   "source": [
    "Para encontrar las épsilon de la máquina de 1.0 y 10.0 se implementó el siguiente código. Es un ciclo del 0 al 100 de uno en uno. En cada ciclo suma la potencia de dos correspondiente al negativo del contador del ciclo y evalúa cuál es la potencia con la que el resultado de la suma es 1.0 i.e. evalúa cuándo `1.0 + 2.0^(-i)==1.0`. En el caso en que esta proposición sea verdadera, la épsilon resulta ser $2.0^{-i+1}$ (si `i` es el paso en donde la suma no hace nada, entonces el paso anterior es el número más pequeño que al sumarlo da distinto). Análogamente con el 10.0. A diferencia del código anterior, donde usé base $e$ en lugar de base $2.0$, el resultado de este código coincide con las correspondientes `eps(1.0)` y `eps(10.0)`. Esto debido que a que el lenguaje natural de la computadora es el binario."
   ]
  },
  {
   "cell_type": "code",
   "execution_count": 21,
   "metadata": {
    "collapsed": false
   },
   "outputs": [
    {
     "name": "stdout",
     "output_type": "stream",
     "text": [
      "La épsilon de la máquina para 1.0 (uno) es 2.220446049250313e-16\n"
     ]
    }
   ],
   "source": [
    "epsilon1 = 0\n",
    "for i in 0:100\n",
    "    if 1.0 + 2.0^(-i) == 1.0\n",
    "        println(\"La épsilon de la máquina para 1.0 (uno) es \", 2.0^(-i+1))\n",
    "        epsilon1= 2.0^(-i+1)\n",
    "        break\n",
    "    end\n",
    "end\n",
    "\n"
   ]
  },
  {
   "cell_type": "code",
   "execution_count": 22,
   "metadata": {
    "collapsed": false
   },
   "outputs": [
    {
     "name": "stdout",
     "output_type": "stream",
     "text": [
      "La épsilon de la máquina para 10 (diez) es 1.7763568394002505e-15\n"
     ]
    }
   ],
   "source": [
    "epsilon10 = 234\n",
    "for i in 0:100\n",
    "    if 10.0 + 2.0^(-i) == 10.0\n",
    "        println(\"La épsilon de la máquina para 10 (diez) es \", 2.0^(-i+1))\n",
    "        epsilon10 = 2.0^(-i+1)\n",
    "        break\n",
    "    end\n",
    "end"
   ]
  },
  {
   "cell_type": "code",
   "execution_count": 27,
   "metadata": {
    "collapsed": false
   },
   "outputs": [
    {
     "name": "stdout",
     "output_type": "stream",
     "text": [
      "La razón entre la épsilon aquí calculada y la función eps(1.0) es 1.0. Así que son iguales.\n"
     ]
    }
   ],
   "source": [
    "println(\"La razón entre la épsilon aquí calculada y la función eps(1.0) es \", epsilon1/eps(1.0), \". Así que son iguales.\")"
   ]
  },
  {
   "cell_type": "code",
   "execution_count": 30,
   "metadata": {
    "collapsed": false
   },
   "outputs": [
    {
     "name": "stdout",
     "output_type": "stream",
     "text": [
      "La razón entre la épsilon aquí calculada y la función eps(10.0) es 1.0. Así que son iguales.\n"
     ]
    }
   ],
   "source": [
    "println(\"La razón entre la épsilon aquí calculada y la función eps(10.0) es \", epsilon10/eps(10.0), \". Así que son iguales.\")"
   ]
  },
  {
   "cell_type": "markdown",
   "metadata": {},
   "source": [
    "### Ejercicio 3\n",
    "\n",
    "Define una functión llamada `derivada1` que implemente el cálculo de:\n",
    "\n",
    "$$\n",
    "\\frac{\\Delta f(x)}{\\Delta x}(x_0) = \\frac{f(x_0+h)-f(x_0)}{h}\n",
    "$$\n",
    "\n",
    "Obviamente esta función es una aproximación *finita* de la derivada. La pregunta es ¿qué tan buena es esta aproximación, pensando en términos de $h$?\n",
    "\n",
    "- La primer sub-pregunta es ¿cómo se responde este tipo de pregunta?\n",
    "- Uno tiene que tomar un caso concreto (para $f(x_0,h)$); sugiero empezar con un polinomio con coeficientes enteros, y después hacer el mismo tipo de pruebas con una función trascendental.\n",
    "- ¿Hay algo *sorprendente* en el comportamiento de `derivada1` como función de $h$? ¿A qué lo puedes atribuir?\n",
    "- ¿Puedes hacer que la función `derivada1` funcione para funciones más o menos arbitrarias, que el usuario define?\n",
    "- ¿Puedes explicar de alguna manera los resultados que has obtenido?"
   ]
  },
  {
   "cell_type": "markdown",
   "metadata": {},
   "source": [
    "A continuación se estudiará el comportamiento de `derivada1` con un par de ejemplos, se hará un ciclo que simulará el límite $h \\to 0$ y se verá como cambia el error del cálculo conforme $h$ disminuye, tabulando los resultados."
   ]
  },
  {
   "cell_type": "code",
   "execution_count": 24,
   "metadata": {
    "collapsed": false
   },
   "outputs": [
    {
     "data": {
      "text/plain": [
       "derivada1 (generic function with 1 method)"
      ]
     },
     "execution_count": 24,
     "metadata": {},
     "output_type": "execute_result"
    }
   ],
   "source": [
    "#Se define la función derivada que calcula la derivada de una función con la definicón usual.\n",
    "function derivada1(funcion,x_0,h)\n",
    "    (funcion(x_0+h)-funcion(x_0))/h\n",
    "end"
   ]
  },
  {
   "cell_type": "code",
   "execution_count": 39,
   "metadata": {
    "collapsed": false
   },
   "outputs": [
    {
     "name": "stdout",
     "output_type": "stream",
     "text": [
      "Valor real \t h \t\t Derivada1 \t\t Error\n",
      "3.0\t\t1.0\t \t0.6569865987187891\t2.343013401281211\n",
      "3.0\t\t0.1\t \t3.2498890855922267\t0.24988908559222667\n",
      "3.0\t\t0.01\t \t3.0296363399299766\t0.029636339929976607\n",
      "3.0\t\t0.001\t \t3.002996486483527\t0.0029964864835267946\n",
      "3.0\t\t0.0001\t \t3.000299964985234\t0.0002999649852339914\n",
      "3.0\t\t1.0e-5\t \t3.00002999966094\t2.9999660939861172e-5\n",
      "3.0\t\t1.0e-6\t \t3.0000029997933577\t2.999793357716385e-6\n",
      "3.0\t\t1.0e-7\t \t3.0000003015117733\t3.0151177332626844e-7\n",
      "3.0\t\t1.0e-8\t \t3.0000000039720467\t3.972046691558262e-9\n",
      "3.0\t\t1.0e-9\t \t3.000000248221113\t2.482211129972711e-7\n",
      "3.0\t\t1.0e-10\t \t3.000000248221113\t2.482211129972711e-7\n",
      "3.0\t\t1.0e-11\t \t3.000000248221113\t2.482211129972711e-7\n",
      "3.0\t\t1.0e-12\t \t3.000266701747023\t0.00026670174702303484\n",
      "3.0\t\t1.0e-13\t \t2.9976021664879227\t0.002397833512077341\n",
      "3.0\t\t1.0e-14\t \t2.9976021664879227\t0.002397833512077341\n",
      "3.0\t\t1.0e-15\t \t3.330669073875469\t0.3306690738754692\n",
      "3.0\t\t1.0e-16\t \t0.0\t3.0\n",
      "3.0\t\t1.0e-17\t \t0.0\t3.0\n",
      "3.0\t\t1.0e-18\t \t0.0\t3.0\n",
      "3.0\t\t1.0e-19\t \t0.0\t3.0\n",
      "3.0\t\t1.0e-20\t \t0.0\t3.0\n"
     ]
    }
   ],
   "source": [
    "# Análisis de error de derivada1 para sin(x).\n",
    "g(x)=sin(x^3 - 1)\n",
    "errorr(x,y)= abs(x-y)\n",
    "println(\"Valor real \\t h \\t\\t Derivada1 \\t\\t Error\")\n",
    "for i in 0:20\n",
    "    println(3.0,\"\\t\\t\",10.0^(-i), \"\\t \\t\", derivada1(g,1.0,10.0^(-i)), \"\\t\", errorr(3.0,derivada1(g,1.0,10.0^(-i))))\n",
    "end\n",
    "    \n",
    "    "
   ]
  },
  {
   "cell_type": "code",
   "execution_count": 38,
   "metadata": {
    "collapsed": false
   },
   "outputs": [
    {
     "name": "stdout",
     "output_type": "stream",
     "text": [
      "Valor real \t h \t\t Derivada1 \t\t Error\n",
      "15.0\t\t1.0\t \t57.0\t42.0\n",
      "15.0\t\t0.1\t \t17.156100000000016\t2.1561000000000163\n",
      "15.0\t\t0.01\t \t15.20150601000001\t0.2015060100000099\n",
      "15.0\t\t0.001\t \t15.020015005998033\t0.020015005998033075\n",
      "15.0\t\t0.0001\t \t15.002000150001749\t0.0020001500017485796\n",
      "15.0\t\t1.0e-5\t \t15.000200001580309\t0.0002000015803087507\n",
      "15.0\t\t1.0e-6\t \t15.00001999854561\t1.99985456106333e-5\n",
      "15.0\t\t1.0e-7\t \t15.000002004939006\t2.0049390059284633e-6\n",
      "15.0\t\t1.0e-8\t \t15.00000008647362\t8.64736193761928e-8\n",
      "15.0\t\t1.0e-9\t \t15.000001241105563\t1.2411055632099988e-6\n",
      "15.0\t\t1.0e-10\t \t15.000001241105565\t1.2411055649863556e-6\n",
      "15.0\t\t1.0e-11\t \t15.000001241105567\t1.2411055667627124e-6\n",
      "15.0\t\t1.0e-12\t \t15.001333508735115\t0.0013335087351151742\n",
      "15.0\t\t1.0e-13\t \t14.992451724538114\t0.007548275461886078\n",
      "15.0\t\t1.0e-14\t \t15.010215292932116\t0.010215292932116427\n",
      "15.0\t\t1.0e-15\t \t16.87538997430238\t1.8753899743023794\n",
      "15.0\t\t1.0e-16\t \t0.0\t15.0\n",
      "15.0\t\t1.0e-17\t \t0.0\t15.0\n",
      "15.0\t\t1.0e-18\t \t0.0\t15.0\n",
      "15.0\t\t1.0e-19\t \t0.0\t15.0\n",
      "15.0\t\t1.0e-20\t \t0.0\t15.0\n"
     ]
    }
   ],
   "source": [
    "#Análisis de error de derivada1 para un polinomio.\n",
    "f(x)=x + x^2 + x^3 + x^4 + x^5\n",
    "errorr(x,y)= abs(x-y)\n",
    "println(\"Valor real \\t h \\t\\t Derivada1 \\t\\t Error\")\n",
    "for i in 0:20\n",
    "    println(15.0,\"\\t\\t\",10.0^(-i), \"\\t \\t\", derivada1(f,1.0,10.0^(-i)), \"\\t\", errorr(15.0,derivada1(f,1.0,10.0^(-i))))\n",
    "end"
   ]
  },
  {
   "cell_type": "markdown",
   "metadata": {},
   "source": [
    "La teoría dice que el orden de magnitud de $h$ coincide con el orden de magnitud del error. Esto es cierto hasta $h$ del orde de e-8. Después el error crece, primero diferiendo en dos órdenes de magnitud, después en más de 15. Hasta que `derivada1` colapsa en 0.0. Esto pasa tanto para los polinomios, como para las funciones trascendentales como se ve en la dos tablas anteriores.  A continuación se estudia con detalle el comportamiento antes del colapso para el polinomio."
   ]
  },
  {
   "cell_type": "code",
   "execution_count": 57,
   "metadata": {
    "collapsed": false
   },
   "outputs": [
    {
     "name": "stdout",
     "output_type": "stream",
     "text": [
      "Valor real \t h \t\t Derivada1 \t\t Error\n",
      "15.0\t\t1.0e-15\t \t16.87538997430238\t1.8753899743023794\n",
      "15.0\t\t9.77237220955811e-16\t \t13.633001291611984\t1.3669987083880155\n",
      "15.0\t\t9.54992586021437e-16\t \t13.950554685461006\t1.0494453145389944\n",
      "15.0\t\t9.332543007969924e-16\t \t14.27550484806168\t0.7244951519383207\n",
      "15.0\t\t9.120108393559115e-16\t \t14.608024072291443\t0.3919759277085575\n",
      "15.0\t\t8.91250938133744e-16\t \t14.94828866424445\t0.051711335755550536\n",
      "15.0\t\t8.709635899560797e-16\t \t15.296479036711172\t0.2964790367111725\n",
      "15.0\t\t8.511380382023759e-16\t \t15.652779804835996\t0.6527798048359958\n",
      "15.0\t\t8.317637711026709e-16\t \t16.017379884002377\t1.017379884002377\n",
      "15.0\t\t8.128305161640995e-16\t \t16.390472589998343\t1.3904725899983426\n",
      "15.0\t\t7.943282347242821e-16\t \t16.772255741515078\t1.7722557415150781\n",
      "15.0\t\t7.762471166286927e-16\t \t12.586149961024212\t2.413850038975788\n",
      "15.0\t\t7.585775750291851e-16\t \t12.879319054910756\t2.1206809450892443\n",
      "15.0\t\t7.413102413009162e-16\t \t13.179316934238209\t1.8206830657617914\n",
      "15.0\t\t7.2443596007498905e-16\t \t13.486302661853026\t1.513697338146974\n",
      "15.0\t\t7.079457843841373e-16\t \t13.800439005651475\t1.1995609943485253\n",
      "15.0\t\t6.918309709189362e-16\t \t14.121892524881126\t0.878107475118874\n",
      "15.0\t\t6.760829753919818e-16\t \t14.450833658452815\t0.5491663415471848\n",
      "15.0\t\t6.606934480075965e-16\t \t14.78743681530961\t0.21256318469039037\n",
      "15.0\t\t6.456542290346563e-16\t \t15.131880466900748\t0.13188046690074806\n",
      "15.0\t\t6.309573444801943e-16\t \t15.484347241809555\t0.48434724180955513\n",
      "15.0\t\t6.165950018614809e-16\t \t15.8450240225856\t0.8450240225855996\n",
      "15.0\t\t6.025595860743569e-16\t \t16.21410204483204\t1.214102044832039\n",
      "15.0\t\t5.888436553555884e-16\t \t16.591776998601667\t1.5917769986016665\n",
      "15.0\t\t5.754399373371567e-16\t \t16.97824913215408\t1.9782491321540796\n",
      "15.0\t\t5.623413251903491e-16\t \t17.373723358130054\t2.3737233581300536\n",
      "15.0\t\t5.495408738576248e-16\t \t12.929752263417404\t2.070247736582596\n",
      "15.0\t\t5.370317963702532e-16\t \t13.230924883081242\t1.7690751169187582\n",
      "15.0\t\t5.248074602497734e-16\t \t13.539112714250082\t1.4608872857499176\n",
      "15.0\t\t5.128613839913659e-16\t \t13.854479162191364\t1.1455208378086361\n",
      "15.0\t\t5.011872336272715e-16\t \t14.177191438370208\t0.8228085616297918\n",
      "15.0\t\t4.897788193684456e-16\t \t14.507420649106932\t0.4925793508930685\n",
      "15.0\t\t4.786300923226381e-16\t \t14.845341886300224\t0.15465811369977622\n",
      "15.0\t\t4.677351412871981e-16\t \t15.191134320262965\t0.1911343202629645\n",
      "15.0\t\t4.570881896148752e-16\t \t15.54498129472074\t0.5449812947207402\n",
      "15.0\t\t4.466835921509635e-16\t \t15.90707042402313\t0.9070704240231304\n",
      "15.0\t\t4.3651583224016653e-16\t \t16.277593692619305\t1.2775936926193054\n",
      "15.0\t\t4.2657951880159344e-16\t \t16.656747556850732\t1.656747556850732\n",
      "15.0\t\t4.1686938347033463e-16\t \t17.04473304911499\t2.0447330491149884\n",
      "15.0\t\t4.073802778041122e-16\t \t17.441755884455528\t2.441755884455528\n",
      "15.0\t\t3.9810717055349695e-16\t \t17.84802656963494\t2.848026569634939\n",
      "15.0\t\t3.890451449942805e-16\t \t18.26376051474813\t3.2637605147481317\n",
      "15.0\t\t3.8018939632056127e-16\t \t18.689178147435694\t3.689178147435694\n",
      "15.0\t\t3.715352290971728e-16\t \t19.124505029757543\t4.124505029757543\n",
      "15.0\t\t3.6307805477010175e-16\t \t19.56997197778892\t4.569971977788921\n",
      "15.0\t\t3.5481338923357605e-16\t \t20.02581518400212\t5.02581518400212\n",
      "15.0\t\t3.4673685045253096e-16\t \t20.492276342498965\t5.492276342498965\n",
      "15.0\t\t3.3884415613920206e-16\t \t20.969602777159864\t5.969602777159864\n",
      "15.0\t\t3.3113112148259077e-16\t \t10.729023786389359\t4.270976213610641\n",
      "15.0\t\t3.235936569296281e-16\t \t10.978934854625749\t4.021065145374251\n",
      "15.0\t\t3.1622776601683793e-16\t \t11.234667099445444\t3.765332900554556\n",
      "15.0\t\t3.090295432513592e-16\t \t11.496356113469663\t3.5036438865303374\n",
      "15.0\t\t3.0199517204020193e-16\t \t11.764140647677506\t3.2358593523224943\n",
      "15.0\t\t2.95120922666639e-16\t \t12.038162684973559\t2.9618373150264414\n",
      "15.0\t\t2.8840315031266116e-16\t \t12.318567515469104\t2.6814324845308963\n",
      "15.0\t\t2.818382931264449e-16\t \t12.60550381351692\t2.39449618648308\n",
      "15.0\t\t2.7542287033381633e-16\t \t12.89912371654018\t2.1008762834598205\n",
      "15.0\t\t2.691534803926914e-16\t \t13.199582905698035\t1.8004170943019648\n",
      "15.0\t\t2.6302679918953815e-16\t \t13.507040688429628\t1.492959311570372\n",
      "15.0\t\t2.5703957827688645e-16\t \t13.821660082921046\t1.1783399170789544\n",
      "15.0\t\t2.511886431509582e-16\t \t14.143607904539726\t0.856392095460274\n",
      "15.0\t\t2.4547089156850334e-16\t \t14.473054854282175\t0.5269451457178249\n",
      "15.0\t\t2.3988329190194947e-16\t \t14.810175609281893\t0.18982439071810653\n",
      "15.0\t\t2.344228815319918e-16\t \t15.155148915425565\t0.1551489154255652\n",
      "15.0\t\t2.29086765276777e-16\t \t15.508157682126244\t0.5081576821262441\n",
      "15.0\t\t2.238721138568338e-16\t \t15.86938907930472\t0.8693890793047192\n",
      "15.0\t\t2.1877616239495519e-16\t \t16.239034636629242\t1.239034636629242\n",
      "15.0\t\t2.1379620895022324e-16\t \t16.617290345067136\t1.6172903450671363\n",
      "15.0\t\t2.0892961308540408e-16\t \t17.004356760801826\t2.0043567608018265\n",
      "15.0\t\t2.0417379446695316e-16\t \t17.400439111570368\t2.4004391115703676\n",
      "15.0\t\t1.995262314968883e-16\t \t17.8057474054779\t2.8057474054778986\n",
      "15.0\t\t1.9498445997580416e-16\t \t18.220496542346815\t3.2204965423468153\n",
      "15.0\t\t1.9054607179632444e-16\t \t18.6449064276592\t3.644906427659201\n",
      "15.0\t\t1.8620871366628656e-16\t \t19.07920208915404\t4.079202089154041\n",
      "15.0\t\t1.8197008586099825e-16\t \t19.523613796139642\t4.523613796139642\n",
      "15.0\t\t1.7782794100389228e-16\t \t19.97837718158554\t4.9783771815855395\n",
      "15.0\t\t1.7378008287493762e-16\t \t20.443733367058197\t5.443733367058197\n",
      "15.0\t\t1.6982436524617462e-16\t \t20.919929090566864\t5.919929090566864\n",
      "15.0\t\t1.659586907437563e-16\t \t21.407216837387356\t6.407216837387356\n",
      "15.0\t\t1.6218100973589333e-16\t \t21.905854973933035\t6.905854973933035\n",
      "15.0\t\t1.5848931924611109e-16\t \t22.41610788474426\t7.41610788474426\n",
      "15.0\t\t1.5488166189124796e-16\t \t22.93824611266815\t7.93824611266815\n",
      "15.0\t\t1.5135612484362072e-16\t \t23.472546502304553\t8.472546502304553\n",
      "15.0\t\t1.4791083881682073e-16\t \t24.019292346792362\t9.019292346792362\n",
      "15.0\t\t1.445439770745928e-16\t \t24.578773538015362\t9.578773538015362\n",
      "15.0\t\t1.4125375446227554e-16\t \t25.151286720306747\t10.151286720306747\n",
      "15.0\t\t1.3803842646028866e-16\t \t25.737135447733877\t10.737135447733877\n",
      "15.0\t\t1.348962882591656e-16\t \t26.33663034504665\t11.33663034504665\n",
      "15.0\t\t1.3182567385564046e-16\t \t26.950089272374996\t11.950089272374996\n",
      "15.0\t\t1.2882495516931323e-16\t \t27.577837493762047\t12.577837493762047\n",
      "15.0\t\t1.2589254117941662e-16\t \t28.220207849624124\t13.220207849624124\n",
      "15.0\t\t1.2302687708123811e-16\t \t28.87754093322668\t13.87754093322668\n",
      "15.0\t\t1.202264434617413e-16\t \t29.550185271271477\t14.550185271271477\n",
      "15.0\t\t1.1748975549395303e-16\t \t30.238497508690042\t15.238497508690042\n",
      "15.0\t\t1.148153621496884e-16\t \t30.94284259774155\t15.94284259774155\n",
      "15.0\t\t1.1220184543019654e-16\t \t31.663593991515313\t16.663593991515313\n",
      "15.0\t\t1.0964781961431829e-16\t \t0.0\t15.0\n",
      "15.0\t\t1.0715193052376049e-16\t \t0.0\t15.0\n",
      "15.0\t\t1.0471285480508985e-16\t \t0.0\t15.0\n",
      "15.0\t\t1.0232929922807537e-16\t \t0.0\t15.0\n",
      "15.0\t\t1.0e-16\t \t0.0\t15.0\n"
     ]
    }
   ],
   "source": [
    "#Análisis de error de derivada1 para el mismo polinomio  de arriba, en un intervalo específico, más pequeño.\n",
    "\n",
    "errorr(x,y)= abs(x-y)\n",
    "println(\"Valor real \\t h \\t\\t Derivada1 \\t\\t Error\")\n",
    "for i in 15:0.01:16\n",
    "    println(15.0,\"\\t\\t\",10.0^(-i), \"\\t \\t\", derivada1(f,1.0,10.0^(-i)), \"\\t\", errorr(15.0,derivada1(f,1.0,10.0^(-i))))\n",
    "end"
   ]
  },
  {
   "cell_type": "markdown",
   "metadata": {},
   "source": [
    "Vemos que el error sigue creciendo hasta que la derivada1 colapsa en cero. Este es un error netamente computacional, puesto que el método númerico no predice este comportamiento. El error computacional se debe a la finitud con la que la computadora representa a los números reales."
   ]
  },
  {
   "cell_type": "markdown",
   "metadata": {},
   "source": [
    "Como conclusion de este ejercicio, este método se basa en la definición formal de la derivada. Tiene un error numérico intrínseco del orden de mágnitud de $h$ y otro error computacional debido a la represantación finita de los reales."
   ]
  },
  {
   "cell_type": "markdown",
   "metadata": {},
   "source": [
    "### Ejercicio 4\n",
    "\n",
    "Este ejercicio es equivalente al anterior, pero considerando la función `derivada2` que implemente el cálculo de:\n",
    "\n",
    "$$\n",
    "\\frac{\\Delta f(x)}{\\Delta x}(x_0) = \\frac{f(x_0+h)-f(x_0-h)}{2h}\n",
    "$$\n",
    "\n",
    "¿Puedes explicar por qué la convergencia es mejor en este caso?\n"
   ]
  },
  {
   "cell_type": "code",
   "execution_count": 32,
   "metadata": {
    "collapsed": false
   },
   "outputs": [
    {
     "data": {
      "text/plain": [
       "derivada2 (generic function with 1 method)"
      ]
     },
     "execution_count": 32,
     "metadata": {},
     "output_type": "execute_result"
    }
   ],
   "source": [
    "function derivada2(f, x_0, h)\n",
    "    (f(x_0 + h)-f(x_0 - h))/2h\n",
    "    \n",
    "end"
   ]
  },
  {
   "cell_type": "code",
   "execution_count": 36,
   "metadata": {
    "collapsed": false
   },
   "outputs": [
    {
     "name": "stdout",
     "output_type": "stream",
     "text": [
      "Valor real \t h \t\t Derivada1 \t\t Error\n",
      "3.0\t\t1.0\t \t0.7492287917633428\t2.250771208236657\n",
      "3.0\t\t0.1\t \t2.9634199130904193\t0.0365800869095807\n",
      "3.0\t\t0.01\t \t2.9996498402671934\t0.0003501597328066097\n",
      "3.0\t\t0.001\t \t2.999996499983777\t3.5000162230680587e-6\n",
      "3.0\t\t0.0001\t \t2.9999999649988918\t3.50011082339563e-8\n",
      "3.0\t\t1.0e-5\t \t2.9999999996473687\t3.5263125752749147e-10\n",
      "3.0\t\t1.0e-6\t \t2.999999999970745\t2.9254820788082725e-11\n",
      "3.0\t\t1.0e-7\t \t3.000000000086222\t8.622214053843891e-11\n",
      "3.0\t\t1.0e-8\t \t2.9999999928698164\t7.1301835546933034e-9\n",
      "3.0\t\t1.0e-9\t \t3.0000000816876593\t8.168765930349764e-8\n",
      "3.0\t\t1.0e-10\t \t3.000000248221113\t2.482211129972711e-7\n",
      "3.0\t\t1.0e-11\t \t3.000000248221113\t2.482211129972711e-7\n",
      "3.0\t\t1.0e-12\t \t3.0001001682933293\t0.00010016829332926136\n",
      "3.0\t\t1.0e-13\t \t2.9992675010248604\t0.000732498975139606\n",
      "3.0\t\t1.0e-14\t \t2.9976021664879227\t0.002397833512077341\n",
      "3.0\t\t1.0e-15\t \t3.1641356201816957\t0.1641356201816957\n",
      "3.0\t\t1.0e-16\t \t1.6653345369377348\t1.3346654630622652\n",
      "3.0\t\t1.0e-17\t \t0.0\t3.0\n",
      "3.0\t\t1.0e-18\t \t0.0\t3.0\n",
      "3.0\t\t1.0e-19\t \t0.0\t3.0\n",
      "3.0\t\t1.0e-20\t \t0.0\t3.0\n"
     ]
    }
   ],
   "source": [
    "g(x)=sin(x^3-1)\n",
    "errorr(x,y)= abs(x-y)\n",
    "println(\"Valor real \\t h \\t\\t Derivada1 \\t\\t Error\")\n",
    "for i in 0:20\n",
    "    println(3.0,\"\\t\\t\",10.0^(-i), \"\\t \\t\", derivada2(g,1.0,10.0^(-i)), \"\\t\", errorr(3.0,derivada2(g,1.0,10.0^(-i))))\n",
    "end"
   ]
  },
  {
   "cell_type": "code",
   "execution_count": 37,
   "metadata": {
    "collapsed": false
   },
   "outputs": [
    {
     "name": "stdout",
     "output_type": "stream",
     "text": [
      "Valor real \t h \t\t Derivada1 \t\t Error\n",
      "15.0\t\t1.0\t \t31.0\t16.0\n",
      "15.0\t\t0.1\t \t15.150100000000007\t0.15010000000000723\n",
      "15.0\t\t0.01\t \t15.001500010000024\t0.0015000100000239769\n",
      "15.0\t\t0.001\t \t15.000014999999145\t1.4999999145004494e-5\n",
      "15.0\t\t0.0001\t \t15.00000014999614\t1.4999613995314576e-7\n",
      "15.0\t\t1.0e-5\t \t15.000000001474943\t1.4749428345339766e-9\n",
      "15.0\t\t1.0e-6\t \t14.999999999432134\t5.678657544194721e-10\n",
      "15.0\t\t1.0e-7\t \t14.999999997655777\t2.3442225938197225e-9\n",
      "15.0\t\t1.0e-8\t \t14.999999953246856\t4.6753143578825984e-8\n",
      "15.0\t\t1.0e-9\t \t15.000000352927144\t3.5292714350987353e-7\n",
      "15.0\t\t1.0e-10\t \t15.000001241105565\t1.2411055649863556e-6\n",
      "15.0\t\t1.0e-11\t \t15.000001241105567\t1.2411055667627124e-6\n",
      "15.0\t\t1.0e-12\t \t15.000445330315415\t0.00044533031541504897\n",
      "15.0\t\t1.0e-13\t \t15.001333508735115\t0.0013335087351151742\n",
      "15.0\t\t1.0e-14\t \t15.010215292932116\t0.010215292932116427\n",
      "15.0\t\t1.0e-15\t \t15.987211554602252\t0.9872115546022524\n",
      "15.0\t\t1.0e-16\t \t8.881784197001252\t6.118215802998748\n",
      "15.0\t\t1.0e-17\t \t0.0\t15.0\n",
      "15.0\t\t1.0e-18\t \t0.0\t15.0\n",
      "15.0\t\t1.0e-19\t \t0.0\t15.0\n",
      "15.0\t\t1.0e-20\t \t0.0\t15.0\n"
     ]
    }
   ],
   "source": [
    "f(x)=x + x^2 + x^3 + x^4 + x^5\n",
    "errorr(x,y)= abs(x-y)\n",
    "println(\"Valor real \\t h \\t\\t Derivada1 \\t\\t Error\")\n",
    "for i in 0:20\n",
    "    println(15.0,\"\\t\\t\",10.0^(-i), \"\\t \\t\", derivada2(f,1.0,10.0^(-i)), \"\\t\", errorr(15.0,derivada2(f,1.0,10.0^(-i))))\n",
    "end"
   ]
  },
  {
   "cell_type": "markdown",
   "metadata": {},
   "source": [
    "Si se desarrolla $f(x_0 + h)$ y $f(x_0 - h)$ en serie de Taylor y se hace la diferencia, se anula el error lineal en $h$ y el siguiente error apreciable va como $h^2$. Este resultado teórico se observa hasta $h\\sim 10^{-6}$. Después, al igual que con `derivada1`, se observa un amuento en el error, debido a un error computacional.  "
   ]
  },
  {
   "cell_type": "markdown",
   "metadata": {},
   "source": [
    "### Ejercicio 5\n",
    "\n",
    "Manda el notebook con tus resultados haciendo un pull-request al repositorio del curso. Para hacer esto:\n",
    "- Haz un `fork` del repositorio del curso a tu propia cuenta en GitHub\n",
    "- Una vez que tengas resuelto el notebook, súbelo a **tu** repositorio (con `git push`), en la carpeta \"tareas/usuario_github/nombre_notebook\"\n",
    "- Desde tu repositorio, haz un \"Pull Request\". El *pull request* sólo se aceptará si es legible en el sentido más amplio de la palabra y, obviamente, si es correcto. Esto significa que debe ser *entendible*, a partir de lo que ustedes escriben, incluso para gente que no está en el curso. (Como GitHub es público, piensen fríamente que esto puede ser leido por *muuucha* gente allá afuera.) Si el trabajo es en colaboración, háganlo saber en el propio notebook (cosa que se debe notar en el historial de lo que envíen). Finalmente, como código ético, incluyan cualquier fuente de inspiración, incluso cuando se trate del notebook de otro compañero/equipo del curso."
   ]
  },
  {
   "cell_type": "markdown",
   "metadata": {
    "collapsed": true
   },
   "source": [
    "##Fuentes\n",
    "\n",
    "- El [notebook](https://github.com/Ceboc/2016-1_TemasSelectosFisComp/blob/master/tareas/Ceboc/1-EjerciciosJulia.ipynb) de mi compañero Bertoni. \n",
    "- Métodos numéricos y computación. Ward Cheney, David Kincaid. CENGAGE learning.\n",
    "- https://es.wikipedia.org/wiki/Coma_flotante"
   ]
  },
  {
   "cell_type": "code",
   "execution_count": null,
   "metadata": {
    "collapsed": true
   },
   "outputs": [],
   "source": []
  }
 ],
 "metadata": {
  "kernelspec": {
   "display_name": "Julia 0.4.0-dev",
   "language": "julia",
   "name": "julia-0.4"
  },
  "language_info": {
   "name": "julia",
   "version": "0.4.0"
  }
 },
 "nbformat": 4,
 "nbformat_minor": 0
}
